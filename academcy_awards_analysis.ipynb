{
 "cells": [
  {
   "cell_type": "markdown",
   "metadata": {},
   "source": [
    "# 🎬 Academy Awards Analysis\n",
    "## Investigating Trends in Oscar-Winning Movies\n",
    "### Author: Judd Jacobs\n",
    "\n",
    "This project analyzes historical **Academy Award-winning films** using data from **Wikipedia** (scraped via `pandas.read_html()`) and the **Kaggle Oscar Awards dataset**. The analysis explores:\n",
    "- 🏆 **Best Picture trends by genre**\n",
    "- 🎭 **Box office revenue & IMDb ratings**\n",
    "- 📈 **Long-term trends in Oscar-winning films**\n",
    "- ☁️ **Stretch Goal**: **Word Cloud analysis of Wikipedia movie summaries**"
   ]
  },
  {
   "cell_type": "code",
   "execution_count": 1,
   "metadata": {},
   "outputs": [
    {
     "name": "stderr",
     "output_type": "stream",
     "text": [
      "[nltk_data] Downloading package stopwords to\n",
      "[nltk_data]     /Users/juddjacobs/nltk_data...\n",
      "[nltk_data]   Package stopwords is already up-to-date!\n",
      "[nltk_data] Downloading package punkt to\n",
      "[nltk_data]     /Users/juddjacobs/nltk_data...\n",
      "[nltk_data]   Package punkt is already up-to-date!\n"
     ]
    },
    {
     "data": {
      "text/plain": [
       "True"
      ]
     },
     "execution_count": 1,
     "metadata": {},
     "output_type": "execute_result"
    }
   ],
   "source": [
    "# Import necessary libraries\n",
    "import pandas as pd\n",
    "import numpy as np\n",
    "import requests\n",
    "import sqlite3\n",
    "import matplotlib.pyplot as plt\n",
    "import seaborn as sns\n",
    "from bs4 import BeautifulSoup\n",
    "from wordcloud import WordCloud\n",
    "import nltk\n",
    "from nltk.corpus import stopwords\n",
    "from nltk.tokenize import word_tokenize\n",
    "\n",
    "# Set plotting style\n",
    "sns.set_style(\"whitegrid\")\n",
    "\n",
    "# Ensure necessary NLTK components are downloaded\n",
    "nltk.download(\"stopwords\")\n",
    "nltk.download(\"punkt\")"
   ]
  },
  {
   "cell_type": "markdown",
   "metadata": {},
   "source": [
    "## 🗂 Data Collection: Scraping Wikipedia\n",
    "We will extract **Best Picture winners** and relevant metadata using:\n",
    "- **`pandas.read_html()`** to extract the table structure.\n",
    "- **`BeautifulSoup`** to identify \"winning\" rows based on background color."
   ]
  },
  {
   "cell_type": "code",
   "execution_count": 2,
   "metadata": {},
   "outputs": [
    {
     "data": {
      "application/vnd.microsoft.datawrangler.viewer.v0+json": {
       "columns": [
        {
         "name": "index",
         "rawType": "int64",
         "type": "integer"
        },
        {
         "name": "Film",
         "rawType": "object",
         "type": "string"
        },
        {
         "name": "Year",
         "rawType": "object",
         "type": "string"
        },
        {
         "name": "Awards",
         "rawType": "object",
         "type": "string"
        },
        {
         "name": "Nominations",
         "rawType": "object",
         "type": "string"
        }
       ],
       "conversionMethod": "pd.DataFrame",
       "ref": "d920e206-5e7b-46e5-8d24-d0b36cb4358d",
       "rows": [
        [
         "0",
         "Anora",
         "2024",
         "5",
         "6"
        ],
        [
         "1",
         "The Brutalist",
         "2024",
         "3",
         "10"
        ],
        [
         "2",
         "Emilia Pérez",
         "2024",
         "2",
         "13"
        ],
        [
         "3",
         "Wicked",
         "2024",
         "2",
         "10"
        ],
        [
         "4",
         "Dune: Part Two",
         "2024",
         "2",
         "5"
        ]
       ],
       "shape": {
        "columns": 4,
        "rows": 5
       }
      },
      "text/html": [
       "<div>\n",
       "<style scoped>\n",
       "    .dataframe tbody tr th:only-of-type {\n",
       "        vertical-align: middle;\n",
       "    }\n",
       "\n",
       "    .dataframe tbody tr th {\n",
       "        vertical-align: top;\n",
       "    }\n",
       "\n",
       "    .dataframe thead th {\n",
       "        text-align: right;\n",
       "    }\n",
       "</style>\n",
       "<table border=\"1\" class=\"dataframe\">\n",
       "  <thead>\n",
       "    <tr style=\"text-align: right;\">\n",
       "      <th></th>\n",
       "      <th>Film</th>\n",
       "      <th>Year</th>\n",
       "      <th>Awards</th>\n",
       "      <th>Nominations</th>\n",
       "    </tr>\n",
       "  </thead>\n",
       "  <tbody>\n",
       "    <tr>\n",
       "      <th>0</th>\n",
       "      <td>Anora</td>\n",
       "      <td>2024</td>\n",
       "      <td>5</td>\n",
       "      <td>6</td>\n",
       "    </tr>\n",
       "    <tr>\n",
       "      <th>1</th>\n",
       "      <td>The Brutalist</td>\n",
       "      <td>2024</td>\n",
       "      <td>3</td>\n",
       "      <td>10</td>\n",
       "    </tr>\n",
       "    <tr>\n",
       "      <th>2</th>\n",
       "      <td>Emilia Pérez</td>\n",
       "      <td>2024</td>\n",
       "      <td>2</td>\n",
       "      <td>13</td>\n",
       "    </tr>\n",
       "    <tr>\n",
       "      <th>3</th>\n",
       "      <td>Wicked</td>\n",
       "      <td>2024</td>\n",
       "      <td>2</td>\n",
       "      <td>10</td>\n",
       "    </tr>\n",
       "    <tr>\n",
       "      <th>4</th>\n",
       "      <td>Dune: Part Two</td>\n",
       "      <td>2024</td>\n",
       "      <td>2</td>\n",
       "      <td>5</td>\n",
       "    </tr>\n",
       "  </tbody>\n",
       "</table>\n",
       "</div>"
      ],
      "text/plain": [
       "             Film  Year Awards Nominations\n",
       "0           Anora  2024      5           6\n",
       "1   The Brutalist  2024      3          10\n",
       "2    Emilia Pérez  2024      2          13\n",
       "3          Wicked  2024      2          10\n",
       "4  Dune: Part Two  2024      2           5"
      ]
     },
     "execution_count": 2,
     "metadata": {},
     "output_type": "execute_result"
    }
   ],
   "source": [
    "# Wikipedia URL for Best Picture winners\n",
    "wiki_url = \"https://en.wikipedia.org/wiki/List_of_Academy_Award%E2%80%93winning_films\"\n",
    "\n",
    "# Fetch page content\n",
    "response = requests.get(wiki_url)\n",
    "soup = BeautifulSoup(response.text, \"html.parser\")\n",
    "\n",
    "# Use pandas to extract the table\n",
    "tables = pd.read_html(wiki_url)\n",
    "\n",
    "# Select the correct table\n",
    "best_picture_df = tables[0]\n",
    "\n",
    "# Print the first few rows\n",
    "best_picture_df.head()\n"
   ]
  },
  {
   "cell_type": "code",
   "execution_count": 5,
   "metadata": {},
   "outputs": [
    {
     "data": {
      "application/vnd.microsoft.datawrangler.viewer.v0+json": {
       "columns": [
        {
         "name": "index",
         "rawType": "int64",
         "type": "integer"
        },
        {
         "name": "Film",
         "rawType": "object",
         "type": "string"
        },
        {
         "name": "Year",
         "rawType": "object",
         "type": "string"
        },
        {
         "name": "Awards",
         "rawType": "object",
         "type": "string"
        },
        {
         "name": "Nominations",
         "rawType": "object",
         "type": "string"
        },
        {
         "name": "Status",
         "rawType": "object",
         "type": "string"
        }
       ],
       "conversionMethod": "pd.DataFrame",
       "ref": "036da0a6-6ab8-44e1-8911-e9aa97afdb70",
       "rows": [
        [
         "0",
         "Anora",
         "2024",
         "5",
         "6",
         "Winner"
        ],
        [
         "1",
         "The Brutalist",
         "2024",
         "3",
         "10",
         "Nominee"
        ],
        [
         "2",
         "Emilia Pérez",
         "2024",
         "2",
         "13",
         "Nominee"
        ],
        [
         "3",
         "Wicked",
         "2024",
         "2",
         "10",
         "Nominee"
        ],
        [
         "4",
         "Dune: Part Two",
         "2024",
         "2",
         "5",
         "Nominee"
        ]
       ],
       "shape": {
        "columns": 5,
        "rows": 5
       }
      },
      "text/html": [
       "<div>\n",
       "<style scoped>\n",
       "    .dataframe tbody tr th:only-of-type {\n",
       "        vertical-align: middle;\n",
       "    }\n",
       "\n",
       "    .dataframe tbody tr th {\n",
       "        vertical-align: top;\n",
       "    }\n",
       "\n",
       "    .dataframe thead th {\n",
       "        text-align: right;\n",
       "    }\n",
       "</style>\n",
       "<table border=\"1\" class=\"dataframe\">\n",
       "  <thead>\n",
       "    <tr style=\"text-align: right;\">\n",
       "      <th></th>\n",
       "      <th>Film</th>\n",
       "      <th>Year</th>\n",
       "      <th>Awards</th>\n",
       "      <th>Nominations</th>\n",
       "      <th>Status</th>\n",
       "    </tr>\n",
       "  </thead>\n",
       "  <tbody>\n",
       "    <tr>\n",
       "      <th>0</th>\n",
       "      <td>Anora</td>\n",
       "      <td>2024</td>\n",
       "      <td>5</td>\n",
       "      <td>6</td>\n",
       "      <td>Winner</td>\n",
       "    </tr>\n",
       "    <tr>\n",
       "      <th>1</th>\n",
       "      <td>The Brutalist</td>\n",
       "      <td>2024</td>\n",
       "      <td>3</td>\n",
       "      <td>10</td>\n",
       "      <td>Nominee</td>\n",
       "    </tr>\n",
       "    <tr>\n",
       "      <th>2</th>\n",
       "      <td>Emilia Pérez</td>\n",
       "      <td>2024</td>\n",
       "      <td>2</td>\n",
       "      <td>13</td>\n",
       "      <td>Nominee</td>\n",
       "    </tr>\n",
       "    <tr>\n",
       "      <th>3</th>\n",
       "      <td>Wicked</td>\n",
       "      <td>2024</td>\n",
       "      <td>2</td>\n",
       "      <td>10</td>\n",
       "      <td>Nominee</td>\n",
       "    </tr>\n",
       "    <tr>\n",
       "      <th>4</th>\n",
       "      <td>Dune: Part Two</td>\n",
       "      <td>2024</td>\n",
       "      <td>2</td>\n",
       "      <td>5</td>\n",
       "      <td>Nominee</td>\n",
       "    </tr>\n",
       "  </tbody>\n",
       "</table>\n",
       "</div>"
      ],
      "text/plain": [
       "             Film  Year Awards Nominations   Status\n",
       "0           Anora  2024      5           6   Winner\n",
       "1   The Brutalist  2024      3          10  Nominee\n",
       "2    Emilia Pérez  2024      2          13  Nominee\n",
       "3          Wicked  2024      2          10  Nominee\n",
       "4  Dune: Part Two  2024      2           5  Nominee"
      ]
     },
     "execution_count": 5,
     "metadata": {},
     "output_type": "execute_result"
    }
   ],
   "source": [
    "# Find the Wikipedia table with BeautifulSoup\n",
    "wikipedia_table = soup.find_all(\"table\", {\"class\": \"wikitable\"})[0]  # Adjust index if needed\n",
    "\n",
    "# Extract all rows\n",
    "rows = wikipedia_table.find_all(\"tr\")\n",
    "\n",
    "# List to store \"Winner\" status\n",
    "winning_status = []\n",
    "\n",
    "# Loop through rows and check for background color \"#EEDD82\"\n",
    "for row in rows[1:]:  # Skip header row\n",
    "    style = row.get(\"style\", \"\")\n",
    "    \n",
    "    # Check if the row has the background color for winners\n",
    "    if \"background:#EEDD82\" in style.replace(\" \", \"\"):  # Remove spaces for consistency\n",
    "        winning_status.append(\"Winner\")\n",
    "    else:\n",
    "        winning_status.append(\"Nominee\")\n",
    "\n",
    "# Ensure the list length matches the DataFrame\n",
    "if len(winning_status) == len(best_picture_df):\n",
    "    best_picture_df[\"Status\"] = winning_status\n",
    "\n",
    "# Display updated DataFrame\n",
    "best_picture_df.head()\n"
   ]
  },
  {
   "cell_type": "code",
   "execution_count": 7,
   "metadata": {},
   "outputs": [
    {
     "name": "stdout",
     "output_type": "stream",
     "text": [
      "Data saved to SQLite database!\n"
     ]
    }
   ],
   "source": [
    "# Connect to (or create) database\n",
    "conn = sqlite3.connect(\"academy_awards.db\")\n",
    "\n",
    "# Save to SQLite table\n",
    "best_picture_df.to_sql(\"best_picture_winners\", conn, if_exists=\"replace\", index=False)\n",
    "print(\"Data saved to SQLite database!\")\n"
   ]
  },
  {
   "cell_type": "markdown",
   "metadata": {},
   "source": [
    "## 📥 Data Collection: Kaggle Dataset\n",
    "We will load additional Oscar award data from a structured Kaggle dataset."
   ]
  },
  {
   "cell_type": "code",
   "execution_count": null,
   "metadata": {},
   "outputs": [],
   "source": [
    "# Load Kaggle dataset\n",
    "kaggle_df = pd.read_csv(\"References/oscars.csv\")\n",
    "\n",
    "# Display dataset structure\n",
    "kaggle_df.head()"
   ]
  },
  {
   "cell_type": "markdown",
   "metadata": {},
   "source": [
    "## 🛠 Data Cleaning & Storage\n",
    "We will clean and merge Wikipedia & Kaggle data, then store it in an **SQLite database**."
   ]
  },
  {
   "cell_type": "code",
   "execution_count": null,
   "metadata": {},
   "outputs": [],
   "source": [
    "# Clean Wikipedia data\n",
    "movies_df[\"Year\"] = movies_df[\"Year\"].str.extract(r\"(\\d{4})\").astype(float)\n",
    "\n",
    "# Merge Wikipedia and Kaggle data\n",
    "merged_df = pd.merge(movies_df, kaggle_df, left_on=\"Best Picture Winner\", right_on=\"Film\", how=\"left\")\n",
    "\n",
    "# Save to SQLite database\n",
    "conn = sqlite3.connect(\"academy_awards.db\")\n",
    "merged_df.to_sql(\"best_picture_winners\", conn, if_exists=\"replace\", index=False)\n",
    "\n",
    "print(\"Data successfully stored in SQLite database!\")"
   ]
  },
  {
   "cell_type": "markdown",
   "metadata": {},
   "source": [
    "## 📊 Exploratory Data Analysis\n",
    "We will explore trends in **Best Picture winners** by genre and other relevant statistics."
   ]
  },
  {
   "cell_type": "code",
   "execution_count": null,
   "metadata": {},
   "outputs": [],
   "source": [
    "# Check unique genres in Kaggle dataset\n",
    "print(kaggle_df[\"Genre\"].unique())\n",
    "\n",
    "# Count of Best Picture winners by genre\n",
    "genre_counts = kaggle_df[\"Genre\"].value_counts()\n",
    "\n",
    "# Plot the genre distribution\n",
    "plt.figure(figsize=(12, 6))\n",
    "sns.barplot(x=genre_counts.index, y=genre_counts.values, palette=\"Blues_r\")\n",
    "plt.xticks(rotation=45)\n",
    "plt.xlabel(\"Genre\")\n",
    "plt.ylabel(\"Number of Wins\")\n",
    "plt.title(\"Best Picture Wins by Genre\")\n",
    "plt.show()"
   ]
  },
  {
   "cell_type": "markdown",
   "metadata": {},
   "source": [
    "## 💰 Box Office & IMDb Ratings\n",
    "We will analyze **box office revenue** and IMDb ratings of Best Picture winners."
   ]
  },
  {
   "cell_type": "code",
   "execution_count": null,
   "metadata": {},
   "outputs": [],
   "source": [
    "# Scatter plot: Box Office Revenue vs IMDb Ratings\n",
    "plt.figure(figsize=(10, 6))\n",
    "sns.scatterplot(x=kaggle_df[\"BoxOffice\"], y=kaggle_df[\"IMDb Rating\"], hue=kaggle_df[\"Year\"], palette=\"coolwarm\")\n",
    "plt.xlabel(\"Box Office Revenue (in millions)\")\n",
    "plt.ylabel(\"IMDb Rating\")\n",
    "plt.title(\"Box Office Revenue vs IMDb Ratings for Best Picture Winners\")\n",
    "plt.show()"
   ]
  },
  {
   "cell_type": "markdown",
   "metadata": {},
   "source": [
    "## ☁️ Stretch Goal: Word Cloud (Wikipedia Movie Summaries)\n",
    "If Wikipedia summaries are accessible, generate a **word cloud** from commonly used words in movie descriptions."
   ]
  },
  {
   "cell_type": "code",
   "execution_count": null,
   "metadata": {},
   "outputs": [],
   "source": [
    "# Sample Wikipedia summary text (replace with actual summaries if available)\n",
    "sample_text = \"This is a sample summary of a Best Picture-winning film. It tells the story of love, ambition, and success.\"\n",
    "\n",
    "# Tokenize & remove stopwords\n",
    "tokens = word_tokenize(sample_text.lower())\n",
    "filtered_words = [word for word in tokens if word.isalnum() and word not in stopwords.words(\"english\")]\n",
    "\n",
    "# Generate Word Cloud\n",
    "wordcloud = WordCloud(width=800, height=400, background_color=\"white\").generate(\" \".join(filtered_words))\n",
    "\n",
    "# Display Word Cloud\n",
    "plt.figure(figsize=(10, 5))\n",
    "plt.imshow(wordcloud, interpolation=\"bilinear\")\n",
    "plt.axis(\"off\")\n",
    "plt.title(\"Word Cloud of Wikipedia Movie Summaries\")\n",
    "plt.show()"
   ]
  },
  {
   "cell_type": "code",
   "execution_count": null,
   "metadata": {},
   "outputs": [],
   "source": [
    "oscars = pd.read_csv(\"data/oscars.csv\", sep='\\t', on_bad_lines='skip')\n",
    "oscars = oscars.dropna()\n",
    "oscars = oscars.drop_duplicates()\n",
    "oscars = oscars.reset_index(drop=True)"
   ]
  },
  {
   "cell_type": "markdown",
   "metadata": {},
   "source": [
    "# Step 3: Data Cleaning"
   ]
  },
  {
   "cell_type": "code",
   "execution_count": null,
   "metadata": {},
   "outputs": [],
   "source": [
    "# Clean movie metadata\n",
    "def clean_movie_data(df):\n",
    "    \"\"\"\n",
    "    Handle missing values and standardize column names in the movie dataset.\n",
    "    \"\"\"\n",
    "    df.dropna(subset=[\"title\", \"release_year\"], inplace=True)\n",
    "    df.fillna({\"box_office\": 0, \"runtime\": df[\"runtime\"].median()}, inplace=True)\n",
    "    return df\n",
    "\n",
    "# Clean speech transcripts (stretch goal)\n",
    "# def preprocess_speech_text(text):\n",
    "#     \"\"\"\n",
    "#     Tokenize and clean Oscar acceptance speech text for word frequency analysis.\n",
    "#     \"\"\"\n",
    "#     nltk.download(\"stopwords\")\n",
    "#     nltk.download(\"punkt\")\n",
    "#     tokens = word_tokenize(text.lower())  # Convert to lowercase and tokenize\n",
    "#     filtered_words = [word for word in tokens if word.isalnum() and word not in stopwords.words(\"english\")]\n",
    "#     return \" \".join(filtered_words)\n",
    "\n",
    "# speech_df[\"cleaned_speech\"] = speech_df[\"speech_text\"].apply(preprocess_speech_text)\n",
    "\n"
   ]
  },
  {
   "cell_type": "code",
   "execution_count": null,
   "metadata": {},
   "outputs": [],
   "source": [
    "# Step 4: Store Data in SQLite Database\n",
    "conn = sqlite3.connect(\"academy_awards.db\")\n",
    "awards_df.to_sql(\"awards\", conn, if_exists=\"replace\", index=False)\n",
    "speech_df.to_sql(\"speeches\", conn, if_exists=\"replace\", index=False)\n",
    "\n"
   ]
  },
  {
   "cell_type": "code",
   "execution_count": null,
   "metadata": {},
   "outputs": [],
   "source": [
    "# Step 5: SQL Queries & Analysis\n",
    "## Query genres of Best Picture winners over decades\n",
    "query = \"\"\"\n",
    "SELECT genre, COUNT(*) AS num_wins, strftime('%Y', award_year) AS decade\n",
    "FROM awards\n",
    "WHERE category = 'Best Picture'\n",
    "GROUP BY genre, decade\n",
    "ORDER BY decade ASC;\n",
    "\"\"\"\n",
    "genre_trends_df = pd.read_sql(query, conn)\n",
    "\n",
    "## Query word frequency in acceptance speeches\n",
    "query = \"\"\"\n",
    "SELECT cleaned_speech FROM speeches;\n",
    "\"\"\"\n",
    "speech_texts = pd.read_sql(query, conn)\n",
    "\n"
   ]
  },
  {
   "cell_type": "code",
   "execution_count": null,
   "metadata": {},
   "outputs": [],
   "source": [
    "# Step 6: Data Visualization\n",
    "## Bar Chart - Best Picture Wins by Genre\n",
    "plt.figure(figsize=(12,6))\n",
    "sns.barplot(x=\"genre\", y=\"num_wins\", hue=\"decade\", data=genre_trends_df)\n",
    "plt.xticks(rotation=45)\n",
    "plt.title(\"Best Picture Wins by Genre Over Decades\")\n",
    "plt.show()\n",
    "\n",
    "## Scatter Plot - Box Office vs IMDb Ratings\n",
    "plt.figure(figsize=(10,5))\n",
    "sns.scatterplot(x=\"box_office\", y=\"imdb_rating\", hue=\"decade\", data=awards_df)\n",
    "plt.title(\"Box Office Revenue vs IMDb Ratings for Oscar Winners\")\n",
    "plt.show()\n",
    "\n",
    "## Word Cloud - Common Words in Acceptance Speeches\n",
    "all_text = \" \".join(speech_texts[\"cleaned_speech\"])\n",
    "wordcloud = WordCloud(width=800, height=400, background_color=\"white\").generate(all_text)\n",
    "plt.figure(figsize=(10,5))\n",
    "plt.imshow(wordcloud, interpolation=\"bilinear\")\n",
    "plt.axis(\"off\")\n",
    "plt.title(\"Most Common Words in Oscar Acceptance Speeches\")\n",
    "plt.show()\n",
    "\n"
   ]
  },
  {
   "cell_type": "code",
   "execution_count": null,
   "metadata": {},
   "outputs": [],
   "source": [
    "# Step 7: Conclusion & Interpretation\n",
    "\"\"\"\n",
    "- The bar chart shows which genres have dominated the Best Picture category over time.\n",
    "- The scatter plot identifies any correlation between box office revenue and audience reception (IMDb ratings).\n",
    "- The word cloud highlights common themes in Oscar speeches, reflecting industry trends and sentiments. (stretch goal)\n",
    "\"\"\"\n",
    "\n"
   ]
  },
  {
   "cell_type": "markdown",
   "metadata": {},
   "source": [
    "### Overview of the Analysis (examples)\n",
    "- In this analysis, we explored the relationship between the race of law enforcement officers and the race of the drivers they stop. Our goal was to see if there’s any indication of bias in traffic stops based on the racial identity of the officers. To do this, we used a chi-squared test for independence, which helps us understand whether there’s a meaningful connection between these two groups.\n",
    "\n",
    "### Results of the Chi-Squared Test\n",
    "- **Chi-Squared Statistic:** We calculated a chi-squared statistic of 122.92. This high number shows that there’s a significant difference between the actual number of stops for different racial groups and what we would expect to see if there were no connection between the officer's race and the driver's race. In other words, this suggests that the patterns we observe in the data are unlikely to be just a coincidence.\n",
    "\n",
    "- **P-Value:** The p-value we found was about 8.20e-17, which is extremely low. This tells us that the result is statistically significant since it’s much lower than the usual thresholds (like 0.05 or 0.01). A low p-value means we have strong evidence against the idea that there’s no connection between the officer's race and the driver's race.\n",
    "\n",
    "### Interpretation of Findings\n",
    "- The results show a strong connection between the race of the officer and the race of the driver being stopped. This means that a driver's chances of being stopped may change depending on the officer's race, suggesting there might be some bias in how traffic stops are carried out.\n",
    "\n",
    "### Implications\n",
    "- These findings are important for understanding how race plays a role in law enforcement. They suggest that different racial groups might be treated differently by officers during traffic stops. It's crucial to address these biases to ensure fairness and equality in policing.\n",
    "\n",
    "### Conclusion\n",
    "- The strong evidence from the chi-squared statistic and p-value emphasizes the importance of further examining law enforcement practices. Police leaders and community advocacy groups should take these findings into account when reviewing policies and training programs designed to reduce racial bias in policing."
   ]
  }
 ],
 "metadata": {
  "kernelspec": {
   "display_name": "Python 3",
   "language": "python",
   "name": "python3"
  },
  "language_info": {
   "codemirror_mode": {
    "name": "ipython",
    "version": 3
   },
   "file_extension": ".py",
   "mimetype": "text/x-python",
   "name": "python",
   "nbconvert_exporter": "python",
   "pygments_lexer": "ipython3",
   "version": "3.13.0"
  }
 },
 "nbformat": 4,
 "nbformat_minor": 2
}
