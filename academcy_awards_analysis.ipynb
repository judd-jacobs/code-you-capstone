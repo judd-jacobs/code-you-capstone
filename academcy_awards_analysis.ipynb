{
 "cells": [
  {
   "cell_type": "markdown",
   "metadata": {},
   "source": [
    "# 🎬 Academy Awards Analysis\n",
    "## Investigating Trends in Oscar-Winning Movies\n",
    "### Author: Judd Jacobs\n",
    "\n",
    "This project analyzes historical **Academy Award-winning films** using data from **Wikipedia** (scraped via `pandas.read_html()`) and the **Kaggle Oscar Awards dataset**. \n",
    "\n",
    "#### **Key Analysis Areas:**\n",
    "- 🏆 **Best Picture trends by genre** (from TMDb API)\n",
    "- 🎭 **Box office revenue & IMDb ratings** (from Kaggle dataset)\n",
    "- 📈 **Long-term trends in Oscar-winning films**\n",
    "- ☁️ **Stretch Goal**: **Box office revenue from OMDb API** *(if available)*"
   ]
  },
  {
   "cell_type": "code",
   "execution_count": 95,
   "metadata": {},
   "outputs": [
    {
     "name": "stderr",
     "output_type": "stream",
     "text": [
      "[nltk_data] Downloading package stopwords to\n",
      "[nltk_data]     /Users/juddjacobs/nltk_data...\n",
      "[nltk_data]   Package stopwords is already up-to-date!\n",
      "[nltk_data] Downloading package punkt to\n",
      "[nltk_data]     /Users/juddjacobs/nltk_data...\n",
      "[nltk_data]   Package punkt is already up-to-date!\n"
     ]
    },
    {
     "data": {
      "text/plain": [
       "True"
      ]
     },
     "execution_count": 95,
     "metadata": {},
     "output_type": "execute_result"
    }
   ],
   "source": [
    "# Import necessary libraries\n",
    "import pandas as pd\n",
    "import numpy as np\n",
    "import requests\n",
    "import sqlite3\n",
    "import matplotlib.pyplot as plt\n",
    "import seaborn as sns\n",
    "from bs4 import BeautifulSoup\n",
    "from wordcloud import WordCloud\n",
    "import nltk\n",
    "from nltk.corpus import stopwords\n",
    "from nltk.tokenize import word_tokenize\n",
    "from dotenv import load_dotenv\n",
    "import os\n",
    "from urllib.parse import quote\n",
    "\n",
    "# Set plotting style\n",
    "sns.set_style(\"whitegrid\")\n",
    "\n",
    "# Ensure necessary NLTK components are downloaded\n",
    "nltk.download(\"stopwords\")\n",
    "nltk.download(\"punkt\")"
   ]
  },
  {
   "cell_type": "markdown",
   "metadata": {},
   "source": [
    "## 🗂 Data Collection: Scraping Wikipedia\n",
    "We will extract **Best Picture winners** and relevant metadata using:\n",
    "- **`pandas.read_html()`** to extract the table structure.\n",
    "- **`BeautifulSoup`** to identify \"winning\" rows based on background color."
   ]
  },
  {
   "cell_type": "code",
   "execution_count": 87,
   "metadata": {},
   "outputs": [
    {
     "data": {
      "application/vnd.microsoft.datawrangler.viewer.v0+json": {
       "columns": [
        {
         "name": "index",
         "rawType": "int64",
         "type": "integer"
        },
        {
         "name": "Film",
         "rawType": "object",
         "type": "string"
        },
        {
         "name": "Year",
         "rawType": "object",
         "type": "string"
        },
        {
         "name": "Awards",
         "rawType": "object",
         "type": "string"
        },
        {
         "name": "Nominations",
         "rawType": "object",
         "type": "string"
        }
       ],
       "conversionMethod": "pd.DataFrame",
       "ref": "d0079256-6f10-4c31-9b83-6dcac52ca3f7",
       "rows": [
        [
         "0",
         "Anora",
         "2024",
         "5",
         "6"
        ],
        [
         "1",
         "The Brutalist",
         "2024",
         "3",
         "10"
        ],
        [
         "2",
         "Emilia Pérez",
         "2024",
         "2",
         "13"
        ],
        [
         "3",
         "Wicked",
         "2024",
         "2",
         "10"
        ],
        [
         "4",
         "Dune: Part Two",
         "2024",
         "2",
         "5"
        ]
       ],
       "shape": {
        "columns": 4,
        "rows": 5
       }
      },
      "text/html": [
       "<div>\n",
       "<style scoped>\n",
       "    .dataframe tbody tr th:only-of-type {\n",
       "        vertical-align: middle;\n",
       "    }\n",
       "\n",
       "    .dataframe tbody tr th {\n",
       "        vertical-align: top;\n",
       "    }\n",
       "\n",
       "    .dataframe thead th {\n",
       "        text-align: right;\n",
       "    }\n",
       "</style>\n",
       "<table border=\"1\" class=\"dataframe\">\n",
       "  <thead>\n",
       "    <tr style=\"text-align: right;\">\n",
       "      <th></th>\n",
       "      <th>Film</th>\n",
       "      <th>Year</th>\n",
       "      <th>Awards</th>\n",
       "      <th>Nominations</th>\n",
       "    </tr>\n",
       "  </thead>\n",
       "  <tbody>\n",
       "    <tr>\n",
       "      <th>0</th>\n",
       "      <td>Anora</td>\n",
       "      <td>2024</td>\n",
       "      <td>5</td>\n",
       "      <td>6</td>\n",
       "    </tr>\n",
       "    <tr>\n",
       "      <th>1</th>\n",
       "      <td>The Brutalist</td>\n",
       "      <td>2024</td>\n",
       "      <td>3</td>\n",
       "      <td>10</td>\n",
       "    </tr>\n",
       "    <tr>\n",
       "      <th>2</th>\n",
       "      <td>Emilia Pérez</td>\n",
       "      <td>2024</td>\n",
       "      <td>2</td>\n",
       "      <td>13</td>\n",
       "    </tr>\n",
       "    <tr>\n",
       "      <th>3</th>\n",
       "      <td>Wicked</td>\n",
       "      <td>2024</td>\n",
       "      <td>2</td>\n",
       "      <td>10</td>\n",
       "    </tr>\n",
       "    <tr>\n",
       "      <th>4</th>\n",
       "      <td>Dune: Part Two</td>\n",
       "      <td>2024</td>\n",
       "      <td>2</td>\n",
       "      <td>5</td>\n",
       "    </tr>\n",
       "  </tbody>\n",
       "</table>\n",
       "</div>"
      ],
      "text/plain": [
       "             Film  Year Awards Nominations\n",
       "0           Anora  2024      5           6\n",
       "1   The Brutalist  2024      3          10\n",
       "2    Emilia Pérez  2024      2          13\n",
       "3          Wicked  2024      2          10\n",
       "4  Dune: Part Two  2024      2           5"
      ]
     },
     "execution_count": 87,
     "metadata": {},
     "output_type": "execute_result"
    }
   ],
   "source": [
    "# Wikipedia URL for Best Picture winners\n",
    "wiki_url = \"https://en.wikipedia.org/wiki/List_of_Academy_Award%E2%80%93winning_films\"\n",
    "\n",
    "# Use pandas to extract the table\n",
    "tables = pd.read_html(wiki_url)\n",
    "\n",
    "# Select the correct table, adjusting the index, as needed - which is currently the first table at index 0 (as of 20250317)\n",
    "best_picture_wikipedia = tables[0]\n",
    "\n",
    "# Print the first few rows to ensure the correct table was selected\n",
    "best_picture_wikipedia.head()"
   ]
  },
  {
   "cell_type": "code",
   "execution_count": 88,
   "metadata": {},
   "outputs": [
    {
     "data": {
      "application/vnd.microsoft.datawrangler.viewer.v0+json": {
       "columns": [
        {
         "name": "index",
         "rawType": "int64",
         "type": "integer"
        },
        {
         "name": "Film",
         "rawType": "object",
         "type": "string"
        },
        {
         "name": "Year",
         "rawType": "object",
         "type": "string"
        },
        {
         "name": "Awards",
         "rawType": "object",
         "type": "string"
        },
        {
         "name": "Nominations",
         "rawType": "object",
         "type": "string"
        },
        {
         "name": "Status",
         "rawType": "object",
         "type": "string"
        }
       ],
       "conversionMethod": "pd.DataFrame",
       "ref": "186ffc18-876e-49e6-879f-4fc609cce69c",
       "rows": [
        [
         "0",
         "Anora",
         "2024",
         "5",
         "6",
         "Winner"
        ],
        [
         "14",
         "Oppenheimer",
         "2023",
         "7",
         "13",
         "Winner"
        ],
        [
         "27",
         "Everything Everywhere All at Once",
         "2022",
         "7",
         "11",
         "Winner"
        ],
        [
         "40",
         "CODA",
         "2021",
         "3",
         "3",
         "Winner"
        ],
        [
         "55",
         "Nomadland",
         "2020/21",
         "3",
         "6",
         "Winner"
        ],
        [
         "70",
         "Parasite",
         "2019",
         "4",
         "6",
         "Winner"
        ],
        [
         "86",
         "Green Book",
         "2018",
         "3",
         "5",
         "Winner"
        ],
        [
         "101",
         "The Shape of Water",
         "2017",
         "4",
         "13",
         "Winner"
        ],
        [
         "117",
         "Moonlight",
         "2016",
         "3",
         "8",
         "Winner"
        ],
        [
         "132",
         "Spotlight",
         "2015",
         "2",
         "6",
         "Winner"
        ],
        [
         "148",
         "Birdman or (The Unexpected Virtue of Ignorance)",
         "2014",
         "4",
         "9",
         "Winner"
        ],
        [
         "164",
         "12 Years a Slave",
         "2013",
         "3",
         "9",
         "Winner"
        ],
        [
         "176",
         "Argo",
         "2012",
         "3",
         "7",
         "Winner"
        ],
        [
         "191",
         "The Artist",
         "2011",
         "5",
         "10",
         "Winner"
        ],
        [
         "206",
         "The King's Speech",
         "2010",
         "4",
         "12",
         "Winner"
        ],
        [
         "219",
         "The Hurt Locker",
         "2009",
         "6",
         "9",
         "Winner"
        ],
        [
         "233",
         "Slumdog Millionaire",
         "2008",
         "8",
         "10",
         "Winner"
        ],
        [
         "246",
         "No Country for Old Men",
         "2007",
         "4",
         "8",
         "Winner"
        ],
        [
         "263",
         "The Departed",
         "2006",
         "4",
         "5",
         "Winner"
        ],
        [
         "279",
         "Crash",
         "2005",
         "3",
         "6",
         "Winner"
        ],
        [
         "295",
         "Million Dollar Baby",
         "2004",
         "4",
         "7",
         "Winner"
        ],
        [
         "310",
         "The Lord of the Rings: The Return of the King",
         "2003",
         "11",
         "11",
         "Winner"
        ],
        [
         "322",
         "Chicago",
         "2002",
         "6",
         "13",
         "Winner"
        ],
        [
         "337",
         "A Beautiful Mind",
         "2001",
         "4",
         "8",
         "Winner"
        ],
        [
         "353",
         "Gladiator",
         "2000",
         "5",
         "12",
         "Winner"
        ],
        [
         "366",
         "American Beauty",
         "1999",
         "5",
         "8",
         "Winner"
        ],
        [
         "380",
         "Shakespeare in Love",
         "1998",
         "7",
         "13",
         "Winner"
        ],
        [
         "392",
         "Titanic",
         "1997",
         "11",
         "14",
         "Winner"
        ],
        [
         "403",
         "The English Patient",
         "1996",
         "9",
         "12",
         "Winner"
        ],
        [
         "418",
         "Braveheart",
         "1995",
         "5",
         "10",
         "Winner"
        ],
        [
         "435",
         "Forrest Gump",
         "1994",
         "6",
         "13",
         "Winner"
        ],
        [
         "451",
         "Schindler's List",
         "1993",
         "7",
         "12",
         "Winner"
        ],
        [
         "463",
         "Unforgiven",
         "1992",
         "4",
         "9",
         "Winner"
        ],
        [
         "478",
         "The Silence of the Lambs",
         "1991",
         "5",
         "7",
         "Winner"
        ],
        [
         "491",
         "Dances with Wolves",
         "1990",
         "7",
         "12",
         "Winner"
        ],
        [
         "505",
         "Driving Miss Daisy",
         "1989",
         "4",
         "9",
         "Winner"
        ],
        [
         "520",
         "Rain Man",
         "1988",
         "4",
         "8",
         "Winner"
        ],
        [
         "536",
         "The Last Emperor",
         "1987",
         "9",
         "9",
         "Winner"
        ],
        [
         "549",
         "Platoon",
         "1986",
         "4",
         "8",
         "Winner"
        ],
        [
         "565",
         "Out of Africa",
         "1985",
         "7",
         "11",
         "Winner"
        ],
        [
         "580",
         "Amadeus",
         "1984",
         "8",
         "11",
         "Winner"
        ],
        [
         "593",
         "Terms of Endearment",
         "1983",
         "5",
         "11",
         "Winner"
        ],
        [
         "605",
         "Gandhi",
         "1982",
         "8",
         "11",
         "Winner"
        ],
        [
         "618",
         "Chariots of Fire",
         "1981",
         "4",
         "7",
         "Winner"
        ],
        [
         "629",
         "Ordinary People",
         "1980",
         "4",
         "6",
         "Winner"
        ],
        [
         "641",
         "Kramer vs. Kramer",
         "1979",
         "5",
         "9",
         "Winner"
        ],
        [
         "655",
         "The Deer Hunter",
         "1978",
         "5",
         "9",
         "Winner"
        ],
        [
         "670",
         "Annie Hall",
         "1977",
         "4",
         "5",
         "Winner"
        ],
        [
         "682",
         "Rocky",
         "1976",
         "3",
         "10",
         "Winner"
        ],
        [
         "696",
         "One Flew Over the Cuckoo's Nest",
         "1975",
         "5",
         "9",
         "Winner"
        ]
       ],
       "shape": {
        "columns": 5,
        "rows": 97
       }
      },
      "text/html": [
       "<div>\n",
       "<style scoped>\n",
       "    .dataframe tbody tr th:only-of-type {\n",
       "        vertical-align: middle;\n",
       "    }\n",
       "\n",
       "    .dataframe tbody tr th {\n",
       "        vertical-align: top;\n",
       "    }\n",
       "\n",
       "    .dataframe thead th {\n",
       "        text-align: right;\n",
       "    }\n",
       "</style>\n",
       "<table border=\"1\" class=\"dataframe\">\n",
       "  <thead>\n",
       "    <tr style=\"text-align: right;\">\n",
       "      <th></th>\n",
       "      <th>Film</th>\n",
       "      <th>Year</th>\n",
       "      <th>Awards</th>\n",
       "      <th>Nominations</th>\n",
       "      <th>Status</th>\n",
       "    </tr>\n",
       "  </thead>\n",
       "  <tbody>\n",
       "    <tr>\n",
       "      <th>0</th>\n",
       "      <td>Anora</td>\n",
       "      <td>2024</td>\n",
       "      <td>5</td>\n",
       "      <td>6</td>\n",
       "      <td>Winner</td>\n",
       "    </tr>\n",
       "    <tr>\n",
       "      <th>14</th>\n",
       "      <td>Oppenheimer</td>\n",
       "      <td>2023</td>\n",
       "      <td>7</td>\n",
       "      <td>13</td>\n",
       "      <td>Winner</td>\n",
       "    </tr>\n",
       "    <tr>\n",
       "      <th>27</th>\n",
       "      <td>Everything Everywhere All at Once</td>\n",
       "      <td>2022</td>\n",
       "      <td>7</td>\n",
       "      <td>11</td>\n",
       "      <td>Winner</td>\n",
       "    </tr>\n",
       "    <tr>\n",
       "      <th>40</th>\n",
       "      <td>CODA</td>\n",
       "      <td>2021</td>\n",
       "      <td>3</td>\n",
       "      <td>3</td>\n",
       "      <td>Winner</td>\n",
       "    </tr>\n",
       "    <tr>\n",
       "      <th>55</th>\n",
       "      <td>Nomadland</td>\n",
       "      <td>2020/21</td>\n",
       "      <td>3</td>\n",
       "      <td>6</td>\n",
       "      <td>Winner</td>\n",
       "    </tr>\n",
       "    <tr>\n",
       "      <th>...</th>\n",
       "      <td>...</td>\n",
       "      <td>...</td>\n",
       "      <td>...</td>\n",
       "      <td>...</td>\n",
       "      <td>...</td>\n",
       "    </tr>\n",
       "    <tr>\n",
       "      <th>1219</th>\n",
       "      <td>Rebecca</td>\n",
       "      <td>1940</td>\n",
       "      <td>2</td>\n",
       "      <td>11</td>\n",
       "      <td>Winner</td>\n",
       "    </tr>\n",
       "    <tr>\n",
       "      <th>1323</th>\n",
       "      <td>Tom Jones</td>\n",
       "      <td>1963</td>\n",
       "      <td>4</td>\n",
       "      <td>10</td>\n",
       "      <td>Winner</td>\n",
       "    </tr>\n",
       "    <tr>\n",
       "      <th>1355</th>\n",
       "      <td>West Side Story</td>\n",
       "      <td>1961</td>\n",
       "      <td>10</td>\n",
       "      <td>11</td>\n",
       "      <td>Winner</td>\n",
       "    </tr>\n",
       "    <tr>\n",
       "      <th>1367</th>\n",
       "      <td>Wings</td>\n",
       "      <td>1927/28</td>\n",
       "      <td>2</td>\n",
       "      <td>2</td>\n",
       "      <td>Winner</td>\n",
       "    </tr>\n",
       "    <tr>\n",
       "      <th>1385</th>\n",
       "      <td>You Can't Take It with You</td>\n",
       "      <td>1938</td>\n",
       "      <td>2</td>\n",
       "      <td>7</td>\n",
       "      <td>Winner</td>\n",
       "    </tr>\n",
       "  </tbody>\n",
       "</table>\n",
       "<p>97 rows × 5 columns</p>\n",
       "</div>"
      ],
      "text/plain": [
       "                                   Film     Year Awards Nominations  Status\n",
       "0                                 Anora     2024      5           6  Winner\n",
       "14                          Oppenheimer     2023      7          13  Winner\n",
       "27    Everything Everywhere All at Once     2022      7          11  Winner\n",
       "40                                 CODA     2021      3           3  Winner\n",
       "55                            Nomadland  2020/21      3           6  Winner\n",
       "...                                 ...      ...    ...         ...     ...\n",
       "1219                            Rebecca     1940      2          11  Winner\n",
       "1323                          Tom Jones     1963      4          10  Winner\n",
       "1355                    West Side Story     1961     10          11  Winner\n",
       "1367                              Wings  1927/28      2           2  Winner\n",
       "1385         You Can't Take It with You     1938      2           7  Winner\n",
       "\n",
       "[97 rows x 5 columns]"
      ]
     },
     "execution_count": 88,
     "metadata": {},
     "output_type": "execute_result"
    }
   ],
   "source": [
    "# Find the Wikipedia table with BeautifulSoup\n",
    "response_wikipedia = requests.get(wiki_url)\n",
    "soup_wikipedia = BeautifulSoup(response_wikipedia.text, \"html.parser\")\n",
    "wikipedia_table = soup_wikipedia.find_all(\"table\", {\"class\": \"wikitable\"})[0]\n",
    "\n",
    "# Extract all rows\n",
    "rows = wikipedia_table.find_all(\"tr\")\n",
    "\n",
    "# List to store \"Winner\" status\n",
    "winning_status = []\n",
    "\n",
    "# Loop through rows and check for background color \"#EEDD82\" skipping the header row\n",
    "for row in rows[1:]:\n",
    "    style = row.get(\"style\", \"\")\n",
    "    \n",
    "    # Check if the row has the background color for winners and remove spaces for consistency\n",
    "    if \"background:#EEDD82\" in style.replace(\" \", \"\"):\n",
    "        winning_status.append(\"Winner\")\n",
    "    else:\n",
    "        winning_status.append(\"Nominee\")\n",
    "\n",
    "# Ensure the list length matches the DataFrame\n",
    "if len(winning_status) == len(best_picture_wikipedia):\n",
    "    best_picture_wikipedia[\"Status\"] = winning_status\n",
    "else:\n",
    "    print(\"List length does not match DataFrame length\")\n",
    "\n",
    "# Normalize \"Status\" column and filter only winners\n",
    "best_picture_winners = best_picture_wikipedia[best_picture_wikipedia[\"Status\"] == \"Winner\"]\n",
    "\n",
    "# Display updated DataFrame\n",
    "best_picture_winners.head(100)"
   ]
  },
  {
   "cell_type": "code",
   "execution_count": 89,
   "metadata": {},
   "outputs": [
    {
     "name": "stdout",
     "output_type": "stream",
     "text": [
      "Data saved to SQLite database!\n"
     ]
    }
   ],
   "source": [
    "# Connect to (or create) database\n",
    "conn = sqlite3.connect(\"academy_awards.db\")\n",
    "\n",
    "# Save to SQLite table\n",
    "best_picture_winners.to_sql(\"best_picture_winners\", conn, if_exists=\"replace\", index=False)\n",
    "print(\"Data saved to SQLite database!\")"
   ]
  },
  {
   "cell_type": "markdown",
   "metadata": {},
   "source": [
    "The following cell is a quick check to ensure the data in the previous cell were saved to the SQLite DB."
   ]
  },
  {
   "cell_type": "code",
   "execution_count": 90,
   "metadata": {},
   "outputs": [
    {
     "name": "stdout",
     "output_type": "stream",
     "text": [
      "('Anora', '2024', '5', '6', 'Winner')\n",
      "('Oppenheimer', '2023', '7', '13', 'Winner')\n",
      "('Everything Everywhere All at Once', '2022', '7', '11', 'Winner')\n",
      "('CODA', '2021', '3', '3', 'Winner')\n",
      "('Nomadland', '2020/21', '3', '6', 'Winner')\n",
      "('Parasite', '2019', '4', '6', 'Winner')\n",
      "('Green Book', '2018', '3', '5', 'Winner')\n",
      "('The Shape of Water', '2017', '4', '13', 'Winner')\n",
      "('Moonlight', '2016', '3', '8', 'Winner')\n",
      "('Spotlight', '2015', '2', '6', 'Winner')\n",
      "('Birdman or (The Unexpected Virtue of Ignorance)', '2014', '4', '9', 'Winner')\n",
      "('12 Years a Slave', '2013', '3', '9', 'Winner')\n",
      "('Argo', '2012', '3', '7', 'Winner')\n",
      "('The Artist', '2011', '5', '10', 'Winner')\n",
      "(\"The King's Speech\", '2010', '4', '12', 'Winner')\n",
      "('The Hurt Locker', '2009', '6', '9', 'Winner')\n",
      "('Slumdog Millionaire', '2008', '8', '10', 'Winner')\n",
      "('No Country for Old Men', '2007', '4', '8', 'Winner')\n",
      "('The Departed', '2006', '4', '5', 'Winner')\n",
      "('Crash', '2005', '3', '6', 'Winner')\n",
      "('Million Dollar Baby', '2004', '4', '7', 'Winner')\n",
      "('The Lord of the Rings: The Return of the King', '2003', '11', '11', 'Winner')\n",
      "('Chicago', '2002', '6', '13', 'Winner')\n",
      "('A Beautiful Mind', '2001', '4', '8', 'Winner')\n",
      "('Gladiator', '2000', '5', '12', 'Winner')\n",
      "('American Beauty', '1999', '5', '8', 'Winner')\n",
      "('Shakespeare in Love', '1998', '7', '13', 'Winner')\n",
      "('Titanic', '1997', '11', '14', 'Winner')\n",
      "('The English Patient', '1996', '9', '12', 'Winner')\n",
      "('Braveheart', '1995', '5', '10', 'Winner')\n",
      "('Forrest Gump', '1994', '6', '13', 'Winner')\n",
      "(\"Schindler's List\", '1993', '7', '12', 'Winner')\n",
      "('Unforgiven', '1992', '4', '9', 'Winner')\n",
      "('The Silence of the Lambs', '1991', '5', '7', 'Winner')\n",
      "('Dances with Wolves', '1990', '7', '12', 'Winner')\n",
      "('Driving Miss Daisy', '1989', '4', '9', 'Winner')\n",
      "('Rain Man', '1988', '4', '8', 'Winner')\n",
      "('The Last Emperor', '1987', '9', '9', 'Winner')\n",
      "('Platoon', '1986', '4', '8', 'Winner')\n",
      "('Out of Africa', '1985', '7', '11', 'Winner')\n",
      "('Amadeus', '1984', '8', '11', 'Winner')\n",
      "('Terms of Endearment', '1983', '5', '11', 'Winner')\n",
      "('Gandhi', '1982', '8', '11', 'Winner')\n",
      "('Chariots of Fire', '1981', '4', '7', 'Winner')\n",
      "('Ordinary People', '1980', '4', '6', 'Winner')\n",
      "('Kramer vs. Kramer', '1979', '5', '9', 'Winner')\n",
      "('The Deer Hunter', '1978', '5', '9', 'Winner')\n",
      "('Annie Hall', '1977', '4', '5', 'Winner')\n",
      "('Rocky', '1976', '3', '10', 'Winner')\n",
      "(\"One Flew Over the Cuckoo's Nest\", '1975', '5', '9', 'Winner')\n",
      "('The Godfather: Part II', '1974', '6', '11', 'Winner')\n",
      "('The Sting', '1973', '7', '10', 'Winner')\n",
      "('The Godfather', '1972', '3', '10[4]', 'Winner')\n",
      "('The French Connection', '1971', '5', '8', 'Winner')\n",
      "('Patton', '1970', '7', '10', 'Winner')\n",
      "('Midnight Cowboy', '1969', '3', '7', 'Winner')\n",
      "('Oliver!', '1968', '5 (1)', '11', 'Winner')\n",
      "('In the Heat of the Night', '1967', '5', '7', 'Winner')\n",
      "('A Man for All Seasons', '1966', '6', '8', 'Winner')\n",
      "('The Sound of Music', '1965', '5', '10', 'Winner')\n",
      "('All About Eve', '1950', '6', '14', 'Winner')\n",
      "('All Quiet on the Western Front', '1929/30', '2', '4', 'Winner')\n",
      "(\"All the King's Men\", '1949', '3', '7', 'Winner')\n",
      "('An American in Paris', '1951', '6', '8', 'Winner')\n",
      "('The Apartment', '1960', '5', '10', 'Winner')\n",
      "('Around the World in 80 Days', '1956', '5', '8', 'Winner')\n",
      "('Ben-Hur', '1959', '11', '12', 'Winner')\n",
      "('The Best Years of Our Lives', '1946', '7 (1)', '8', 'Winner')\n",
      "('The Bridge on the River Kwai', '1957', '7', '8', 'Winner')\n",
      "('The Broadway Melody', '1928/29', '1', '3', 'Winner')\n",
      "('Casablanca', '1943', '3', '8', 'Winner')\n",
      "('Cavalcade', '1932/33', '3', '4', 'Winner')\n",
      "('Cimarron', '1930/31', '3', '7', 'Winner')\n",
      "('From Here to Eternity', '1953', '8', '13', 'Winner')\n",
      "(\"Gentleman's Agreement\", '1947', '3', '8', 'Winner')\n",
      "('Gigi', '1958', '9', '9', 'Winner')\n",
      "('Going My Way', '1944', '7', '10', 'Winner')\n",
      "('Gone with the Wind', '1939', '8 (2)', '13', 'Winner')\n",
      "('Grand Hotel', '1931/32', '1', '1', 'Winner')\n",
      "('The Great Ziegfeld', '1936', '3', '7', 'Winner')\n",
      "('The Greatest Show on Earth', '1952', '2', '5', 'Winner')\n",
      "('Hamlet', '1948', '4', '7', 'Winner')\n",
      "('How Green Was My Valley', '1941', '5', '10', 'Winner')\n",
      "('It Happened One Night', '1934', '5', '5', 'Winner')\n",
      "('Lawrence of Arabia', '1962', '7', '10', 'Winner')\n",
      "('The Life of Emile Zola', '1937', '3', '10', 'Winner')\n",
      "('The Lost Weekend', '1945', '4', '7', 'Winner')\n",
      "('Marty', '1955', '4', '8', 'Winner')\n",
      "('Mrs. Miniver', '1942', '6', '12', 'Winner')\n",
      "('Mutiny on the Bounty', '1935', '1', '8', 'Winner')\n",
      "('My Fair Lady', '1964', '8', '12', 'Winner')\n",
      "('On the Waterfront', '1954', '8', '12', 'Winner')\n",
      "('Rebecca', '1940', '2', '11', 'Winner')\n",
      "('Tom Jones', '1963', '4', '10', 'Winner')\n",
      "('West Side Story', '1961', '10', '11', 'Winner')\n",
      "('Wings', '1927/28', '2', '2', 'Winner')\n",
      "(\"You Can't Take It with You\", '1938', '2', '7', 'Winner')\n"
     ]
    }
   ],
   "source": [
    "# Connect to the database\n",
    "conn = sqlite3.connect(\"academy_awards.db\")\n",
    "\n",
    "# Create a cursor object\n",
    "cursor = conn.cursor()\n",
    "\n",
    "# Execute the query and fetch all rows\n",
    "cursor.execute(\"SELECT * FROM best_picture_winners\")\n",
    "rows = cursor.fetchall()\n",
    "\n",
    "# Print the results\n",
    "for row in rows:\n",
    "    print(row)\n",
    "\n",
    "# Close the connection\n",
    "conn.close()"
   ]
  },
  {
   "cell_type": "code",
   "execution_count": null,
   "metadata": {},
   "outputs": [],
   "source": [
    "# Create a List of the \"Films\"\n",
    "movie_titles = best_picture_winners[\"Film\"].tolist()\n",
    "movie_titles"
   ]
  },
  {
   "cell_type": "markdown",
   "metadata": {},
   "source": [
    "## 🎭 Fetching Genres from TMDb API\n",
    "We will use **The Movie Database (TMDb) API** to retrieve **movie genres** for Best Picture winners."
   ]
  },
  {
   "cell_type": "code",
   "execution_count": null,
   "metadata": {},
   "outputs": [
    {
     "name": "stdout",
     "output_type": "stream",
     "text": [
      "                                Title                                 Genres\n",
      "0                               Anora               [Drama, Comedy, Romance]\n",
      "1                         Oppenheimer                       [Drama, History]\n",
      "2   Everything Everywhere All at Once   [Action, Adventure, Science Fiction]\n",
      "3                                CODA                [Drama, Music, Romance]\n",
      "4                           Nomadland                                [Drama]\n",
      "..                                ...                                    ...\n",
      "92                            Rebecca    [Romance, Drama, Mystery, Thriller]\n",
      "93                          Tom Jones  [Comedy, Adventure, History, Romance]\n",
      "94                    West Side Story                [Crime, Drama, Romance]\n",
      "95                              Wings          [Drama, Action, War, Romance]\n",
      "96         You Can't Take It with You                      [Comedy, Romance]\n",
      "\n",
      "[97 rows x 2 columns]\n"
     ]
    }
   ],
   "source": [
    "# Load environment variables from .env file\n",
    "load_dotenv()\n",
    "\n",
    "# Access the TMDB API keys stored in the .env file and define them here\n",
    "tmdb_api_key = os.getenv('TMDB_API_KEY')\n",
    "tmdb_api_read_access_token = os.getenv('TMBD_API_READ_ACCESS_TOKEN')\n",
    "\n",
    "tmdb_api_base_url = \"https://api.themoviedb.org/3\"\n",
    "\n",
    "# Function to get genre mappings (ID -> Name)\n",
    "def get_genre_mapping():\n",
    "    url = f\"{tmdb_api_base_url}/genre/movie/list?language=en-US\"\n",
    "    headers = {\"accept\": \"application/json\", \"Authorization\": f\"Bearer {tmdb_api_read_access_token}\"}\n",
    "    \n",
    "    response = requests.get(url, headers=headers)\n",
    "    data = response.json()\n",
    "    \n",
    "    if \"genres\" in data:\n",
    "        return {genre[\"id\"]: genre[\"name\"] for genre in data[\"genres\"]}\n",
    "    return {}\n",
    "\n",
    "# Function to query TMDB API and get genre names for movies\n",
    "def get_movie_genres(film_titles):\n",
    "    headers = {\n",
    "        \"accept\": \"application/json\",\n",
    "        \"Authorization\": f\"Bearer {tmdb_api_read_access_token}\"}\n",
    "    genre_mapping = get_genre_mapping()  # Fetch genre ID-to-name mapping\n",
    "    \n",
    "    movie_genres = {}  # Store results\n",
    "\n",
    "    for title in film_titles:\n",
    "        encoded_title = quote(title)  # Encode spaces and special characters\n",
    "        \n",
    "        url = f\"{tmdb_api_base_url}/search/movie?query={encoded_title}&include_adult=false&language=en-US&page=1\"\n",
    "        response = requests.get(url, headers=headers)\n",
    "        data = response.json()\n",
    "        \n",
    "        if \"results\" in data and data[\"results\"]:\n",
    "            # Ensure exact match\n",
    "            exact_match = next((movie for movie in data[\"results\"] if movie[\"title\"] == title), None)\n",
    "            \n",
    "            if exact_match:\n",
    "                genre_ids = exact_match[\"genre_ids\"]\n",
    "                genre_names = [genre_mapping.get(gid, \"Unknown Genre\") for gid in genre_ids]\n",
    "                movie_genres[title] = genre_names\n",
    "            else:\n",
    "                movie_genres[title] = [\"No exact match found\"]\n",
    "        else:\n",
    "            movie_genres[title] = [\"No results found\"]\n",
    "    \n",
    "    return movie_genres\n",
    "\n",
    "# Get genre names for each movie\n",
    "genre_results = get_movie_genres(movie_titles)\n",
    "\n",
    "# Convert to DataFrame for better visualization\n",
    "df = pd.DataFrame(list(genre_results.items()), columns=[\"Title\", \"Genres\"])\n",
    "print(df)"
   ]
  },
  {
   "cell_type": "code",
   "execution_count": null,
   "metadata": {},
   "outputs": [
    {
     "name": "stdout",
     "output_type": "stream",
     "text": [
      "Movie data successfully stored in SQLite database!\n"
     ]
    }
   ],
   "source": [
    "# Function to store movie data in SQLite\n",
    "def store_movie_data(movie_data) -> None:\n",
    "    # Create/connect to the database\n",
    "    conn = sqlite3.connect(\"academy_awards.db\")\n",
    "    cursor = conn.cursor()\n",
    "\n",
    "    # Create table if it doesn't exist\n",
    "    cursor.execute('''\n",
    "        CREATE TABLE IF NOT EXISTS movies (\n",
    "            id INTEGER PRIMARY KEY AUTOINCREMENT,\n",
    "            title TEXT,\n",
    "            release_date TEXT,\n",
    "            overview TEXT,\n",
    "            vote_average REAL,\n",
    "            tmdb_id INTEGER UNIQUE\n",
    "        )\n",
    "    ''')\n",
    "\n",
    "    # Extract movie details from API response\n",
    "    if movie_data and movie_data.get(\"results\"):\n",
    "        for movie in movie_data[\"results\"]:\n",
    "            tmdb_id = movie.get(\"id\")\n",
    "            title = movie.get(\"title\", \"Unknown\")\n",
    "            release_date = movie.get(\"release_date\", \"N/A\")\n",
    "            overview = movie.get(\"overview\", \"No description available.\")\n",
    "            vote_average = movie.get(\"vote_average\", 0.0)\n",
    "\n",
    "            # Insert or ignore if the movie already exists (prevents duplicate entries)\n",
    "            cursor.execute('''\n",
    "                INSERT OR IGNORE INTO movies (tmdb_id, title, release_date, overview, vote_average)\n",
    "                VALUES (?, ?, ?, ?, ?)\n",
    "            ''', (tmdb_id, title, release_date, overview, vote_average))\n",
    "\n",
    "    conn.commit()\n",
    "    conn.close()\n",
    "\n",
    "# List of movies to fetch\n",
    "movies_list = film_titles\n",
    "\n",
    "# Loop through each movie, fetch data, and store in the database\n",
    "for movie in movies_list:\n",
    "    data = fetch_movie_data(movie)\n",
    "    if data:\n",
    "        store_movie_data(data)\n",
    "\n",
    "print(\"Movie data successfully stored in SQLite database!\")"
   ]
  },
  {
   "cell_type": "code",
   "execution_count": 19,
   "metadata": {},
   "outputs": [
    {
     "name": "stdout",
     "output_type": "stream",
     "text": [
      "(1, 'Titanic', '1953-04-11', 'Unhappily married, Julia Sturges decides to go to America with her two children on the Titanic. Her husband, Richard also arranges passage on the luxury liner so as to have custody of their two children. All this fades to insignificance once the ship hits an iceberg.', 6.6, 16535)\n",
      "(2, 'Titanic', '1943-11-10', \"In 1912, the Titanic embarks on its inevitable collision course with history. In the wake of the over-spending required to build the largest luxury ship in the world, White Star Line executive Sir Bruce Ismay schemes to reverse the direction of his company's plummeting stock value. Onboard the Titanic, brave German 1st Officer Petersen struggles to convince his self-important British superiors not to overexert the ship's engines.\", 6.1, 11021)\n",
      "(3, 'Titanic', '1997-11-18', \"101-year-old Rose DeWitt Bukater tells the story of her life aboard the Titanic, 84 years later. A young Rose boards the ship with her mother and fiancé. Meanwhile, Jack Dawson and Fabrizio De Rossi win third-class tickets aboard the ship. Rose tells the whole story from Titanic's departure through to its death—on its first and last voyage—on April 15, 1912.\", 7.905, 597)\n",
      "(4, 'Titanic', '2023-02-07', 'This documentary explores the incredible history of the Titanic. From the crew to its final hours, Titanic chronicles this incredible story like never before. Get ready for Titanic.', 7.9, 1124589)\n",
      "(5, 'Titanic', '1984-01-01', '', 7.0, 357517)\n",
      "(6, 'Titanic', '2018-12-21', '\"Titanic\" is a Punjabi feature film. It is family movie. \"Titanic\" is based on a young boy\\'s life whose dreams are so high. He wants to join Indian Navy. Unfortunately his life completely changed due to week financial conditions at home. He starts his work at low level driving of Autoriksha. He works so hard and he faces many obstacles in this work. At the end he accepted that his vehicle is submarine for him.', 8.1, 760524)\n",
      "(7, 'Titanic', '', '', 8.3, 455679)\n",
      "(8, 'Titanic: The Legend Goes On...', '2000-09-15', 'An animated retelling of the worst passenger ship disaster in history. In this version, love blossoms between the upper-class Sir William and the blue-collar Angelica, who is hoping to find romance in America. At the same time, there are also a number of animal passengers, including talking dogs, cats and mice, who are also looking forward to arriving in the New World.', 2.8, 71235)\n",
      "(9, 'The Chambermaid on the Titanic', '1997-10-10', 'Horty, a French foundry worker, wins a contest and is sent to see the sailing of the Titanic. In England, Marie, saying she is a chambermaid on the Titanic and cannot get a room, asks to share his room. They do, chastely; when he awakens, she is gone, but he sees her at the sailing and gets a photo of her. When he returns home, he suspects that his wife Zoe has been sleeping with Simeon, the foundry owner. Horty goes to the bar, where his friends get him drunk and he starts telling an erotic fantasy of what happened with him and Marie, drawing a larger audience each night.', 6.2, 115872)\n",
      "(10, 'Titanic, Suitable Version for Iranian Families', '2023-09-20', 'A complex and sometimes combative exchange at an Iranian broadcaster over a certain Hollywood blockbuster disguises deeper ruptures, in Farnoosh Samadi’s wry and subtly provocative drama.', 9.0, 1173502)\n",
      "(11, 'The Blind Man Who Did Not Want to See Titanic', '2021-09-10', \"Jaakko and Sirpa have never met face to face, but talk on the phone every day. When Jaakko hears news about Sirpa's declining health, he decides to go meet her in another city. It's not the easiest decision, because he's blind and paralyzed from the chest down  - and he has to make the journey alone. To get there, Jaakko must rely on the help of five strangers. What could go wrong?\", 7.244, 716855)\n",
      "(12, 'Titanic: Into the Heart of the Wreck', '2020-12-17', 'The Titanic is under a new threat. Resting at over 12,500 feet below sea level and 380 nautical miles off the coast of Newfoundland, the most famous shipwreck in the world is being consumed by a colony of iron-eating bacteria. This slow and irreversible decay, according to the most concerned experts, will sweep away all the secrets of the mythic liner within a few decades. This documentary details the underwater odyssey of the greatest Titanic expeditions and the evolution of the most scrutinized shipwreck in the world. From the epic discovery of the wreck by a French-American team in 1985 to the exploratory missions led by James Cameron, and to the treasure hunts that brought back over 5,000 vestiges–experience the unequaled thrill of these extreme dives through the eyes of the explorers who have attempted to unlock Titanic’s secrets.', 7.6, 777797)\n",
      "(13, 'Titanic II', '2010-08-07', 'On the 100th anniversary of the original voyage, a modern luxury liner christened \"Titanic 2,\" follows the path of its namesake. But when a tsunami hurls an ice berg into the new ship\\'s path, the passengers and crew must fight to avoid a similar fate.', 5.0, 44918)\n",
      "(14, 'The Ten Lives of Titanic the Cat', '2007-10-31', 'A young girl finds excitement over the prospect of an ocean cruise, suddenly offset by a series of bizarre visions.', 5.4, 45891)\n",
      "(15, 'Attack on Titan II: End of the World', '2015-09-01', 'Eren Yeager leaves to restore a break in the wall destroyed by a Titan. He comes under attack by the Titans and is cornered. Shikishima comes to his aid. The titans never stops attacking.  Eren is now injured and tries to protect Armin, but is swallowed by a titan. A Titan with black hair appears and begins to expel the other titans.', 6.1, 340382)\n",
      "(16, 'Attack on Titan', '2015-08-01', '100 years ago, titans suddenly appeared on Earth. Soon, human civilization veered on collapse due to the titans. Humans then built a giant wall to defend themselves. Within the giant walls, humans lived in peace, but, 100 years later, the giant wall is broken.', 6.1, 295830)\n",
      "(17, 'The Legend of the Titanic', '1999-04-17', 'Old Grandpa mouse tells to his grandchildren the \"real\" story of the Titanic disaster, including evil sharks, a giant octopus, and an evil whaling scheme.', 3.3, 44310)\n",
      "(18, 'Raise the Titanic', '1980-08-01', 'To obtain a supply of a rare mineral, a ship raising operation is conducted for the only known source, the Titanic.', 5.3, 24575)\n",
      "(19, 'Titanic Disaster', '1912-01-01', \"Incredibly fascinating documentary short that is a truly historic film. We see the actual Titanic leaving for its last voyage and also all the aftermath of the tragedy. We get to view various interesting aspects including seeing Captain Smith minutes before the boat sails, the Mary Sculley and the Carpathia in action, the Carpathia returning to the shore with survivors, Captain Rostrum of the Carpathia, family members at the White Star Office in NY waiting for news and even some of the survivors pulled off the lifeboats. Anyone interested in this historic event would certainly find this film fascinating and it's pretty sad and spooky to watch it today.\", 5.763, 420341)\n",
      "(20, 'Unsinkable: Titanic Untold', '2024-03-10', 'The true story of rushed investigations, political interference, and the grasp for corporate accountability woven amongst heart wrenching flashbacks of the Titanic disaster as it unfolded.', 5.0, 1159452)\n",
      "(21, 'Inception', '2010-07-15', 'Cobb, a skilled thief who commits corporate espionage by infiltrating the subconscious of his targets is offered a chance to regain his old life as payment for a task considered to be impossible: \"inception\", the implantation of another person\\'s idea into a target\\'s subconscious.', 8.369, 27205)\n",
      "(22, 'The Crack: Inception', '2019-10-04', 'Madrid, Spain, 1975; shortly after the end of the Franco dictatorship. Six months after the mysterious death of his lover, a prestigious tailor, a married woman visits the office of the young Germán Areta, a former police officer turned private detective, to request his professional services.', 6.7, 613092)\n",
      "(23, 'Inception: The Cobol Job', '2010-12-07', 'This \"Inception\" prequel unfolds courtesy of a beautiful Motion Comic, and explains how Cobb, Arthur and Nash were enlisted by Cobol Engineering.', 7.3, 64956)\n",
      "(24, 'Syndrome Halla, the Inception of Croatian Professional Film – Born to Die', '2017-01-01', 'One hundred years after the invention of film, Croatian film icon Mr. Fulir, who serves as the author’s alter-ego, comes up with the Faustian idea to bring back his youth. With a group of famous actors, he enthusiastically attempts to remake lost Croatian films from the silent era.', 0.0, 1370380)\n",
      "(25, 'The Inception of Dramatic Representation', '', 'On certain Adavus: the basic steps in Bharatanatyam. The first part covers Tatta Adavu, Natta Adavu, Visharu Adavu , Tatti Metti Adavu and Teermanam Adavu.', 5.8, 350632)\n",
      "(26, 'Inception', '1980-01-23', 'This film shows how ordinary people work to build the Erdenet factory, and how the finished product becomes the result of collective labor, and tells about the friendship of workers from Mongolia.', 0.0, 1359046)\n",
      "(27, 'Bikini Inception', '2015-05-19', \"Two flunky Janitors in an Arctic Lab perform unauthorized experiments transporting them to a beach dream world in Malibu California w/50 beautiful young girls and a female Brazilian PhD Student wearing only a bra and panties. A '67 Muscle car races chases horses guns fights surfing, sumo wrestler, wolf monster, underwater scenes tons of gorgeous models. Sexy sci-fi fun.\", 7.0, 542438)\n",
      "(28, 'Inception: Music from the Motion Picture', '2010-12-07', 'The Special Features Blu-ray disc contains a lossless DTS-HD MA 5.1 surround mix of the Inception soundtrack.', 6.0, 973484)\n",
      "(29, 'WWA The Inception', '2001-10-26', 'The first World Wrestling Allstars pay per view, live from Sydney, Australia! A tournament titled \"7 Deadly Sins\", each round having a stipulation match, the winner will be crowned the first ever WWA Heavyweight Champion! Wrestlers such as Jeff Jarrett, Road Dogg, Jerry Lawler all compete in the tournament, with the WWA Commissioner, Bret Hart not too far away to make sure nothing gets to far out of hand!', 3.1, 250845)\n",
      "(30, 'Avatar', '2009-12-15', 'In the 22nd century, a paraplegic Marine is dispatched to the moon Pandora on a unique mission, but becomes torn between following orders and protecting an alien civilization.', 7.587, 19995)\n",
      "(31, 'Avatar', '2006-04-11', 'Tension mounts between a quadraplegic man and his wife as she prepares a bath for him.', 5.906, 1096978)\n",
      "(32, 'Avatar', '1916-03-06', \"Based on Théophile Gautier's novel of the same name, the film tells of the tragic love affair of Ottavio de Saville. He falls madly in love with Madame Prascovie Labinska, a woman very faithful to her husband, the Polish count Olaf Labinski. Alarmed by the growing physical and mental weariness of the desperate young man, his relatives and friends decide to turn to Doctor Balthazar, who has just returned from a trip to the Indies where he was initiated into the secrets of Brahman.\", 4.5, 1295181)\n",
      "(33, 'Avatar: Creating the World of Pandora', '2010-02-07', \"The Making-of James Cameron's Avatar. It shows interesting parts of the work on the set.\", 6.405, 111332)\n",
      "(34, 'Avatar: The Way of Water', '2022-12-14', 'Set more than a decade after the events of the first film, learn the story of the Sully family (Jake, Neytiri, and their kids), the trouble that follows them, the lengths they go to keep each other safe, the battles they fight to stay alive, and the tragedies they endure.', 7.606, 76600)\n",
      "(35, 'Avataro Sentai Donbrothers vs. Zenkaiger', '2023-05-03', 'Divided into three acts, the first act is about the Zenkaigers dealing with a new Kashiwa Mochi World and Zocks declares himself as \"Kashiwa Mochi King\", the ruler of Zenkaitopia?! In the second act, it\\'s been a year since Taro left and the five companions continue to fight as a team with Jiro as their leader. Taro later regains his memories, only for his companions to ask him to leave the Donbrothers. In the final act, an incident caused the two worlds to connect, thus a full-throttle miracle battle between the two Super Sentai begins!', 4.5, 1092060)\n",
      "(36, \"The King's Avatar: For the Glory\", '2019-08-16', \"In this prequel to the animated series The King's Avatar, Ye Xiu enters into the pro gaming world of Glory, and competes in the first Pro League series tournament.\", 6.4, 613200)\n",
      "(37, 'My Avatar and Me', '2010-11-10', 'is a creative documentary-fiction film and a film that might expand your sense of reality. It is the story about a man who enters the virtual world Second Life to pursue his personal dreams and ambitions. His journey into cyberspace becomes a magic learning experience, which gradually opens the gates to a much larger reality.', 5.325, 100287)\n",
      "(38, 'Avataro Sentai Donbrothers vs. Avataro Sentai Donburies', '2023-11-05', \"The Avataro Sentai Donburies, which first appeared in Avataro Sentai Donbrothers' press conference gets a TTFC special!\", 5.1, 1132450)\n",
      "(39, 'Avatara Purusha: Part 1', '2022-05-06', \"When a son of an Ayurveda scholar goes missing, he blames his sister and cuts all ties with her. When the latter's daughter decides to set things right with a devious plan, there seems to be more trouble waiting for the family.\", 4.875, 677528)\n",
      "(40, 'The Botanical Avatar of Mademoiselle Flora', '1965-05-05', 'A young woman lives sadly in a small garrison town with a soldier. Little by little, won over by boredom, sadness, total inaction, she develops a relationship with plants and starts talking to plants.', 5.438, 926519)\n",
      "(41, 'Avatar: The Exchange of Souls', '1964-01-01', 'Count Olgierd Łabiński lives with his beloved wife in Paris in a beautiful palace. The Countess recalls her stay in Florence and her insistent admirer Octavius \\u200b\\u200bde Saville. Soon, Octavius, arrives in Paris and calls for the famous Dr. Cherbonneau, suspected of being a charlatan.  Citing the teachings of the East, Cherbonneau offers the patient an \"avatar\", a reincarnation of the soul, which takes a different body...', 4.8, 155444)\n",
      "(42, 'Avatar', '2011-04-30', 'Michiko lost her dad in a car accident when she was 10 years old. After the car accident, Michiko has lived with her mother Kyoko. Michiko, now in her 2nd year of high school, gets a cell phone from her mother as a birthday present. Michiko is so excited to have her very first cell phone. Soon afterwards, she is forced into joining social networking site \"AvaQ\" by classmate, and queen of the classroom, Taeko.', 5.42, 282908)\n",
      "(43, 'Avatara Purusha 2', '2024-04-05', 'In a battle of mantras, Dharka and Brahma vie for the Trishanku Mani. But when Jois is found dead, the disturbed Ashta Dhigbandana alerts Dharka to the stone`s presence in the house. Now, a junior artist posing as the long-lost son must fight to save the family from the real son`s dark magic', 3.833, 1268164)\n",
      "(44, 'Hunan: The Other World of Avatar', '2015-01-01', \"How China's magical Zhangjiajie National Park attracted director James Cameron, who came seeking inspiration for a mysterious fictional planet.\", 4.667, 829860)\n",
      "(45, 'Avatar 4', '2029-12-19', 'The fourth installment of the Avatar franchise.', 0.0, 216527)\n",
      "(46, 'Capturing Avatar', '2010-11-16', \"Capturing Avatar is a feature length behind-the-scenes documentary about the making of Avatar. It uses footage from the film's development, as well as stock footage from as far back as the production of Titanic in 1995. Also included are numerous interviews with cast, artists, and other crew members. The documentary was released as a bonus feature on the extended collector's edition of Avatar.\", 7.0, 183392)\n",
      "(47, 'Avatar 5', '2031-12-17', 'The fifth installment of the Avatar franchise.', 0.0, 393209)\n",
      "(48, 'Gal Avatar', '2010-01-01', 'An ordinary high school student– with an incontinent grandmother and extremely horny dad, are visited by an extremely pretty avatar to preform a “mind transfer” on Grandma. But before too long, Dad’s sniffing round to get it on with the great-shaped avatar.', 4.588, 981616)\n",
      "(49, 'Avatar: Scene Deconstruction', '2009-12-18', 'The deconstruction of the Avatar scenes and sets', 6.5, 287003)\n",
      "(50, 'Interstellar', '2014-11-05', 'The adventures of a group of explorers who make use of a newly discovered wormhole to surpass the limitations on human space travel and conquer the vast distances involved in an interstellar voyage.', 8.452, 157336)\n",
      "(51, 'The Science of Interstellar', '2014-11-13', \"Matthew McConaughey narrates a fascinating look at Christopher Nolan's sci-fi film, 'Interstellar', including scientific foundations, the work of consulting Scientist Kip Thorne, basic film themes, the science behind the search for planets capable of hosting life, space-time and the theory of relativity, the science of wormholes and black holes, crafting the film's visuals based on real scientific observation, the birth of the universe, the Dust Bowl and the evolution of dust as a toxin, the likelihood of future dust storms, the prospects of escaping a dying or doomed planet and the possibilities of colonizing Mars.\", 6.7, 336592)\n",
      "(52, \"Interstellar: Nolan's Odyssey\", '2014-11-05', \"A look behind the lens of Christopher Nolan's space epic.\", 7.7, 301959)\n",
      "(53, 'Faster Than Light: the Dream of Interstellar Flight', '2017-06-07', '“Faster Than Light” explores the longstanding quest to develop spacecraft with enough power and speed to reach the stars. The film asks: What will it take to reach a newly discovered planet circling our Sun’s nearest neighbor, Proxima Centauri? Based on real science and engineering, “Faster Than Light” takes audiences on a thrilling journey into the future, aboard laser-driven space sails, antimatter engines, and even warp drive – right out of science fiction. “Who can say how far, and how fast, our technology will one day take us?” said director Thomas Lucas.', 6.0, 660698)\n",
      "(54, 'Lolita from Interstellar Space', '2014-03-08', 'An undeniably beautiful alien is sent to Earth to study the complex mating rituals of human beings, which leads to the young interstellar traveler experiencing the passion that surrounds the centuries-old ritual of the species.', 5.2, 287954)\n",
      "(55, 'Interstellar Wandering', '2019-08-02', 'The film tells that the catastrophe era, the earth is a waste land, the survivors are divided into wanderers and civilians, they are attached to the rule of the interstellar armed groups, in which the rogues rely on the plundering of civilian materials as a livelihood, making civilians in this harsh It is difficult to survive in the environment. After a hundred years of black technology explosion, it will bring about a civilized renaissance. In the face of the deteriorating planet, mankind is determined to continue the race and is determined to interstellar immigration. The \"curvature engine\" developed by the Chinese researcher Hailei has become the key to the interstellar immigration, and is also the target of robbers and interstellar armed groups.', 0.0, 649745)\n",
      "(56, \"Inside 'Interstellar'\", '2015-03-31', 'Cast and crew of Christopher Nolan\\'s \"Interstellar\" discuss project origins, the film\\'s imagery, ambitions, incorporating IMAX footage, the human element within the film, arm shooting locations outside of Calgary, the set construction and design, working with real corn, mechanical characters, including backstory, design, the blend of practical and digital effects in bringing them to life, the differences in the characters, the human performances behind the characters, the creative process behind the film\\'s music, Icelandic locations, vehicle interiors, the processes of simulating the absence of gravity, the crucial end-film visuals and influence and inspiration for future generations', 6.9, 529107)\n",
      "(57, 'Interstellar Wars', '2016-06-09', 'For millennia the Alien force has watched and waited, a brooding menace that has now at last decided to take over the Earth. Communications systems worldwide are sent into chaos by a strange atmospheric interference, a massive spaceship heads towards Earth and smaller spaceships begin to cover entire cities. Suddenly, the wonder turns into horror as the spaceships destroy the cities with energy weapons. When the world counterattacks, the alien ships are invincible to military weapons.  The survivors have to use their wits to kill the aliens, or die.', 3.1, 398188)\n",
      "(58, 'Interstellar Civil War: Shadows of the Empire', '2018-04-15', \"The Imperial Empire is attacked by an Alliance of rebels led by fanatical mystics. The ruler, Empress Nobu, the 8th generation of her family, wants to execute a bold plan to rescue a cyborg, Leah C6, trapped on the battle ravaged planet Endor. The Empress believes Leah C6 holds the secret to destroying the Alliance of Rebels before their insurgency can kill millions of citizens of the Empire. She recruits her heroic fleet commander, Lord General Luka Raan and asks him to gather a team from the Empire's elite soldiers, the Galactic Rangers. Raan assembles the team in the ruins of Endor which was attacked by depraved Rebels and outlaws led by, Kindo-Ker, a fanatical mystic in Dark Energy. The Galactic Rangers begin a desperate search to find and rescue Leah C6 before the Alliance Rebels can.\", 4.0, 460616)\n",
      "(59, \"The Prom Goer's Interstellar Excursion\", '', 'High schooler Bennett lands the prom date of his dreams, Sophie, just days before the dance. Not long after, he witnesses Sophie being abducted by aliens in the middle of the New Mexico desert.', 0.0, 552531)\n",
      "(60, 'How to Colonize the Stars: The Challenge of Interstellar Flight', '2009-06-09', \"Leading physicists and engineers in the field of interstellar travel discuss some of the deep issues we face when considering the problem of sending spacecraft to other stars. Will mankind ever truly become a space fairing civilization? Space colonization is no longer the fodder of science fiction, it is becoming a reality. We'll need to learn how to grow food, manufacture and live off our planet.\", 0.0, 986255)\n",
      "(61, 'Only Interstellar Pinball Lives Forever', '2010-06-28', \"A young boy (played by an actual re-purposed Sunday school puppet) loses all faith in religion and afterlife options after having to bury his umpteenth pet, and vows that someday, when he's an adult with money, he'll find a way to become an 'eternal molecule' through science. Then, twenty-two years later, the playing of a pinball game brings dredges up the memory of that vow. Utilizing the hallucinogenic properties of alcohol and cough syrup blends, he undertakes the design of a pinball machine so poignant and dignified that it will convince scientists to create a pinball that we can download our consciousness into and thereby become digitally immortal.\", 0.0, 716603)\n",
      "(62, 'Container Interstellar', '', 'Director Helmut Herbst’s animated sci-fi short with characters that would be more fully explored in CATHEDRAL OF NEW EMOTIONS.', 0.0, 1443305)\n",
      "(63, 'Cosmic Journey: The Voyager Interstellar Mission and Message', '2003-01-16', 'The farthest Voyager: \"Cosmic Journey,\" a documentary premiering on the A&E cable network, tells the saga of the farthest-flung space journey to date - the Voyager interstellar mission, which started out 25 years ago and sailed past Jupiter, Saturn, Uranus and Neptune in the 1980s.', 0.0, 763179)\n",
      "(64, 'Interstellar Interference', '2023-04-22', \"During a calm lil hang at Mike's crib, the boys finds themselves facing an unimaginable terror when an otherworldly intruder breaches their sanctuary. As the night unfolds, paranoia grips the group as they realize the sinister intentions of their unwelcome guest. With each passing moment, the line between survival and demise blurs, forcing them to confront their deepest fears and fight for their lives against an entity that knows no mercy. In this heart-pounding thriller, every shadow holds a deadly secret, and every corner hides a chilling revelation as the battle for survival unfolds in the most unexpected of places.\", 0.0, 1282990)\n",
      "(65, 'Interstellar Stella', '2006-12-11', 'In a world formed by the spectacle of perfect illusions, the king of mediation travels through the lens to fight an anti-image cult that threatens a new generation.', 0.0, 1391726)\n",
      "(66, 'The Farthest', '2018-03-15', \"The captivating tales of the people and events behind one of humanity's greatest achievements in exploration: NASA's Voyager mission.\", 7.736, 436305)\n",
      "(67, 'Trancers 5: Sudden Deth', '1994-09-10', \"Jack Deth is back for one more round with the trancers. Jack must attempt to find his way home from the other-dimensional world of Orpheus, where magic works and the trancers were the ruling class (before Trancers IV, that is). Unfortunately, Jack's quest to find the mystical Tiamond in the Castle of Unrelenting Terror may be thwarted by the return of Caliban, king of the trancers who was thought dead.\", 4.286, 47663)\n",
      "(68, 'Trancers 4: Jack of Swords', '1994-02-02', 'Jack is now back in the future. He had since lost Lena, and finds out that he\\'s lost his other wife Alice to none other than Harris. While heading out for another assignment, something goes awry with the TCL chamber. Jack finds himself in a whole new dimension. He also runs across a different version of trancers. These guys seem to be in control of this planet. Jack manages to assist a rebel group known as the \"Tunnel Rats\" crush the rule of the evil Lord Calaban.', 4.8, 47662)\n",
      "(69, 'Angry Planet', '2008-01-01', 'A criminal sentenced to life on a prison planet reveals his true purpose: to extract revenge on the killers who murdered his family.', 1.9, 261443)\n"
     ]
    }
   ],
   "source": [
    "# Connect to the database\n",
    "conn = sqlite3.connect(\"academy_awards.db\")\n",
    "\n",
    "# Create a cursor object\n",
    "cursor = conn.cursor()\n",
    "\n",
    "# Execute the query and fetch all rows\n",
    "cursor.execute(\"SELECT * FROM movies\")\n",
    "rows = cursor.fetchall()\n",
    "\n",
    "# Print the results\n",
    "for row in rows:\n",
    "    print(row)\n",
    "\n",
    "# Close the connection\n",
    "conn.close()"
   ]
  },
  {
   "cell_type": "code",
   "execution_count": null,
   "metadata": {},
   "outputs": [],
   "source": [
    "#this was my original code - the cell above is what I'm playing around with and seemed to work.\n",
    "def get_movie_genre(movie_title, tmdb_api_key) -> str:\n",
    "    # Fetches movie genres from TMDb API given a movie title.\n",
    "    search_url = f\"https://api.themoviedb.org/3/search/movie?tmdb_api_key={tmdb_api_key}&query={movie_title}\"\n",
    "    search_response = requests.get(search_url).json()\n",
    "    \n",
    "    if search_response[\"results\"]:\n",
    "        movie_id = search_response[\"results\"][0][\"id\"]\n",
    "        movie_url = f\"https://api.themoviedb.org/3/movie/{movie_id}?tmdb_api_key={tmdb_api_key}\"\n",
    "        movie_response = requests.get(movie_url).json()\n",
    "        \n",
    "        # Extract genres\n",
    "        genre_list = [genre[\"name\"] for genre in movie_response.get(\"genres\", [])]\n",
    "        return \", \".join(genre_list)\n",
    "    else:\n",
    "        return \"Unknown\"\n",
    "\n",
    "# Apply function to each movie in the dataset\n",
    "awards_df[\"Genre\"] = awards_df[\"Film\"].apply(lambda title: get_movie_genre(title, tmdb_api_key))\n",
    "\n",
    "# Display updated DataFrame with Genres\n",
    "awards_df.head()\n"
   ]
  },
  {
   "cell_type": "markdown",
   "metadata": {},
   "source": [
    "## ☁️ Stretch Goal: Fetching Box Office Revenue from OMDb API\n",
    "If available, we will use **OMDb API (IMDb)** to fetch **box office revenue** for Best Picture winners."
   ]
  },
  {
   "cell_type": "code",
   "execution_count": null,
   "metadata": {},
   "outputs": [],
   "source": [
    "# # OMDb API Key (replace with your actual key)\n",
    "# omdb_api_key = \"your_omdb_api_key\"\n",
    "\n",
    "# def get_box_office(movie_title, api_key):\n",
    "#     \"\"\"Fetches box office revenue from OMDb API given a movie title.\"\"\"\n",
    "#     omdb_url = f\"http://www.omdbapi.com/?t={movie_title}&apikey={api_key}\"\n",
    "#     omdb_response = requests.get(omdb_url).json()\n",
    "    \n",
    "#     return omdb_response.get(\"BoxOffice\", \"N/A\")\n",
    "\n",
    "# # Apply function to each movie in the dataset\n",
    "# awards_df[\"Box Office Revenue\"] = awards_df[\"Film\"].apply(lambda title: get_box_office(title, omdb_api_key))\n",
    "\n",
    "# # Display updated DataFrame\n",
    "# awards_df.head()"
   ]
  },
  {
   "cell_type": "markdown",
   "metadata": {},
   "source": [
    "## 📥 Data Collection: Kaggle Dataset\n",
    "Load additional Oscar award data from a structured Kaggle dataset."
   ]
  },
  {
   "cell_type": "code",
   "execution_count": null,
   "metadata": {},
   "outputs": [],
   "source": [
    "# Load Kaggle dataset\n",
    "kaggle_df = pd.read_csv(\"data/full_data.csv\", sep=\"\\t\")\n",
    "\n",
    "# Display dataset structure\n",
    "kaggle_df.head()"
   ]
  },
  {
   "cell_type": "markdown",
   "metadata": {},
   "source": [
    "## 🛠 Data Cleaning & Storage\n",
    "We will clean and merge Wikipedia & Kaggle data, then store it in an **SQLite database**."
   ]
  },
  {
   "cell_type": "code",
   "execution_count": null,
   "metadata": {},
   "outputs": [],
   "source": [
    "# Clean Wikipedia data\n",
    "movies_df[\"Year\"] = movies_df[\"Year\"].str.extract(r\"(\\d{4})\").astype(float)\n",
    "\n",
    "# Merge Wikipedia and Kaggle data\n",
    "merged_df = pd.merge(movies_df, kaggle_df, left_on=\"Best Picture Winner\", right_on=\"Film\", how=\"left\")\n",
    "\n",
    "# Save to SQLite database\n",
    "conn = sqlite3.connect(\"academy_awards.db\")\n",
    "merged_df.to_sql(\"best_picture_winners\", conn, if_exists=\"replace\", index=False)\n",
    "\n",
    "print(\"Data successfully stored in SQLite database!\")"
   ]
  },
  {
   "cell_type": "markdown",
   "metadata": {},
   "source": [
    "## 📊 Exploratory Data Analysis\n",
    "We will explore trends in **Best Picture winners** by genre and other relevant statistics."
   ]
  },
  {
   "cell_type": "code",
   "execution_count": null,
   "metadata": {},
   "outputs": [],
   "source": [
    "# Check unique genres in Kaggle dataset\n",
    "print(kaggle_df[\"Genre\"].unique())\n",
    "\n",
    "# Count of Best Picture winners by genre\n",
    "genre_counts = kaggle_df[\"Genre\"].value_counts()\n",
    "\n",
    "# Plot the genre distribution\n",
    "plt.figure(figsize=(12, 6))\n",
    "sns.barplot(x=genre_counts.index, y=genre_counts.values, palette=\"Blues_r\")\n",
    "plt.xticks(rotation=45)\n",
    "plt.xlabel(\"Genre\")\n",
    "plt.ylabel(\"Number of Wins\")\n",
    "plt.title(\"Best Picture Wins by Genre\")\n",
    "plt.show()"
   ]
  },
  {
   "cell_type": "markdown",
   "metadata": {},
   "source": [
    "## 💰 Box Office & IMDb Ratings\n",
    "We will analyze **box office revenue** and IMDb ratings of Best Picture winners."
   ]
  },
  {
   "cell_type": "code",
   "execution_count": null,
   "metadata": {},
   "outputs": [],
   "source": [
    "# Scatter plot: Box Office Revenue vs IMDb Ratings\n",
    "plt.figure(figsize=(10, 6))\n",
    "sns.scatterplot(x=kaggle_df[\"BoxOffice\"], y=kaggle_df[\"IMDb Rating\"], hue=kaggle_df[\"Year\"], palette=\"coolwarm\")\n",
    "plt.xlabel(\"Box Office Revenue (in millions)\")\n",
    "plt.ylabel(\"IMDb Rating\")\n",
    "plt.title(\"Box Office Revenue vs IMDb Ratings for Best Picture Winners\")\n",
    "plt.show()"
   ]
  },
  {
   "cell_type": "markdown",
   "metadata": {},
   "source": [
    "## ☁️ Stretch Goal: Word Cloud (Wikipedia Movie Summaries)\n",
    "If Wikipedia summaries are accessible, generate a **word cloud** from commonly used words in movie descriptions."
   ]
  },
  {
   "cell_type": "code",
   "execution_count": null,
   "metadata": {},
   "outputs": [],
   "source": [
    "# Sample Wikipedia summary text (replace with actual summaries if available)\n",
    "sample_text = \"This is a sample summary of a Best Picture-winning film. It tells the story of love, ambition, and success.\"\n",
    "\n",
    "# Tokenize & remove stopwords\n",
    "tokens = word_tokenize(sample_text.lower())\n",
    "filtered_words = [word for word in tokens if word.isalnum() and word not in stopwords.words(\"english\")]\n",
    "\n",
    "# Generate Word Cloud\n",
    "wordcloud = WordCloud(width=800, height=400, background_color=\"white\").generate(\" \".join(filtered_words))\n",
    "\n",
    "# Display Word Cloud\n",
    "plt.figure(figsize=(10, 5))\n",
    "plt.imshow(wordcloud, interpolation=\"bilinear\")\n",
    "plt.axis(\"off\")\n",
    "plt.title(\"Word Cloud of Wikipedia Movie Summaries\")\n",
    "plt.show()"
   ]
  },
  {
   "cell_type": "code",
   "execution_count": null,
   "metadata": {},
   "outputs": [],
   "source": [
    "oscars = pd.read_csv(\"data/oscars.csv\", sep='\\t', on_bad_lines='skip')\n",
    "oscars = oscars.dropna()\n",
    "oscars = oscars.drop_duplicates()\n",
    "oscars = oscars.reset_index(drop=True)"
   ]
  },
  {
   "cell_type": "markdown",
   "metadata": {},
   "source": [
    "# Step 3: Data Cleaning"
   ]
  },
  {
   "cell_type": "code",
   "execution_count": null,
   "metadata": {},
   "outputs": [],
   "source": [
    "# Clean movie metadata\n",
    "def clean_movie_data(df):\n",
    "    \"\"\"\n",
    "    Handle missing values and standardize column names in the movie dataset.\n",
    "    \"\"\"\n",
    "    df.dropna(subset=[\"title\", \"release_year\"], inplace=True)\n",
    "    df.fillna({\"box_office\": 0, \"runtime\": df[\"runtime\"].median()}, inplace=True)\n",
    "    return df\n",
    "\n",
    "# Clean speech transcripts (stretch goal)\n",
    "# def preprocess_speech_text(text):\n",
    "#     \"\"\"\n",
    "#     Tokenize and clean Oscar acceptance speech text for word frequency analysis.\n",
    "#     \"\"\"\n",
    "#     nltk.download(\"stopwords\")\n",
    "#     nltk.download(\"punkt\")\n",
    "#     tokens = word_tokenize(text.lower())  # Convert to lowercase and tokenize\n",
    "#     filtered_words = [word for word in tokens if word.isalnum() and word not in stopwords.words(\"english\")]\n",
    "#     return \" \".join(filtered_words)\n",
    "\n",
    "# speech_df[\"cleaned_speech\"] = speech_df[\"speech_text\"].apply(preprocess_speech_text)\n",
    "\n"
   ]
  },
  {
   "cell_type": "code",
   "execution_count": null,
   "metadata": {},
   "outputs": [],
   "source": [
    "# Step 4: Store Data in SQLite Database\n",
    "conn = sqlite3.connect(\"academy_awards.db\")\n",
    "awards_df.to_sql(\"awards\", conn, if_exists=\"replace\", index=False)\n",
    "speech_df.to_sql(\"speeches\", conn, if_exists=\"replace\", index=False)\n",
    "\n"
   ]
  },
  {
   "cell_type": "code",
   "execution_count": null,
   "metadata": {},
   "outputs": [],
   "source": [
    "# Step 5: SQL Queries & Analysis\n",
    "## Query genres of Best Picture winners over decades\n",
    "query = \"\"\"\n",
    "SELECT genre, COUNT(*) AS num_wins, strftime('%Y', award_year) AS decade\n",
    "FROM awards\n",
    "WHERE category = 'Best Picture'\n",
    "GROUP BY genre, decade\n",
    "ORDER BY decade ASC;\n",
    "\"\"\"\n",
    "genre_trends_df = pd.read_sql(query, conn)\n",
    "\n",
    "## Query word frequency in acceptance speeches\n",
    "query = \"\"\"\n",
    "SELECT cleaned_speech FROM speeches;\n",
    "\"\"\"\n",
    "speech_texts = pd.read_sql(query, conn)\n",
    "\n"
   ]
  },
  {
   "cell_type": "code",
   "execution_count": null,
   "metadata": {},
   "outputs": [],
   "source": [
    "# Step 6: Data Visualization\n",
    "## Bar Chart - Best Picture Wins by Genre\n",
    "plt.figure(figsize=(12,6))\n",
    "sns.barplot(x=\"genre\", y=\"num_wins\", hue=\"decade\", data=genre_trends_df)\n",
    "plt.xticks(rotation=45)\n",
    "plt.title(\"Best Picture Wins by Genre Over Decades\")\n",
    "plt.show()\n",
    "\n",
    "## Scatter Plot - Box Office vs IMDb Ratings\n",
    "plt.figure(figsize=(10,5))\n",
    "sns.scatterplot(x=\"box_office\", y=\"imdb_rating\", hue=\"decade\", data=awards_df)\n",
    "plt.title(\"Box Office Revenue vs IMDb Ratings for Oscar Winners\")\n",
    "plt.show()\n",
    "\n",
    "## Word Cloud - Common Words in Acceptance Speeches\n",
    "all_text = \" \".join(speech_texts[\"cleaned_speech\"])\n",
    "wordcloud = WordCloud(width=800, height=400, background_color=\"white\").generate(all_text)\n",
    "plt.figure(figsize=(10,5))\n",
    "plt.imshow(wordcloud, interpolation=\"bilinear\")\n",
    "plt.axis(\"off\")\n",
    "plt.title(\"Most Common Words in Oscar Acceptance Speeches\")\n",
    "plt.show()\n",
    "\n"
   ]
  },
  {
   "cell_type": "code",
   "execution_count": null,
   "metadata": {},
   "outputs": [],
   "source": [
    "# Step 7: Conclusion & Interpretation\n",
    "\"\"\"\n",
    "- The bar chart shows which genres have dominated the Best Picture category over time.\n",
    "- The scatter plot identifies any correlation between box office revenue and audience reception (IMDb ratings).\n",
    "- The word cloud highlights common themes in Oscar speeches, reflecting industry trends and sentiments. (stretch goal)\n",
    "\"\"\"\n",
    "\n"
   ]
  },
  {
   "cell_type": "markdown",
   "metadata": {},
   "source": [
    "### Overview of the Analysis (examples)\n",
    "- In this analysis, we explored the relationship between the race of law enforcement officers and the race of the drivers they stop. Our goal was to see if there’s any indication of bias in traffic stops based on the racial identity of the officers. To do this, we used a chi-squared test for independence, which helps us understand whether there’s a meaningful connection between these two groups.\n",
    "\n",
    "### Results of the Chi-Squared Test\n",
    "- **Chi-Squared Statistic:** We calculated a chi-squared statistic of 122.92. This high number shows that there’s a significant difference between the actual number of stops for different racial groups and what we would expect to see if there were no connection between the officer's race and the driver's race. In other words, this suggests that the patterns we observe in the data are unlikely to be just a coincidence.\n",
    "\n",
    "- **P-Value:** The p-value we found was about 8.20e-17, which is extremely low. This tells us that the result is statistically significant since it’s much lower than the usual thresholds (like 0.05 or 0.01). A low p-value means we have strong evidence against the idea that there’s no connection between the officer's race and the driver's race.\n",
    "\n",
    "### Interpretation of Findings\n",
    "- The results show a strong connection between the race of the officer and the race of the driver being stopped. This means that a driver's chances of being stopped may change depending on the officer's race, suggesting there might be some bias in how traffic stops are carried out.\n",
    "\n",
    "### Implications\n",
    "- These findings are important for understanding how race plays a role in law enforcement. They suggest that different racial groups might be treated differently by officers during traffic stops. It's crucial to address these biases to ensure fairness and equality in policing.\n",
    "\n",
    "### Conclusion\n",
    "- The strong evidence from the chi-squared statistic and p-value emphasizes the importance of further examining law enforcement practices. Police leaders and community advocacy groups should take these findings into account when reviewing policies and training programs designed to reduce racial bias in policing."
   ]
  }
 ],
 "metadata": {
  "kernelspec": {
   "display_name": "Python 3",
   "language": "python",
   "name": "python3"
  },
  "language_info": {
   "codemirror_mode": {
    "name": "ipython",
    "version": 3
   },
   "file_extension": ".py",
   "mimetype": "text/x-python",
   "name": "python",
   "nbconvert_exporter": "python",
   "pygments_lexer": "ipython3",
   "version": "3.13.0"
  }
 },
 "nbformat": 4,
 "nbformat_minor": 2
}
