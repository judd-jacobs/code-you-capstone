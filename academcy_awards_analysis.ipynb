{
 "cells": [
  {
   "cell_type": "markdown",
   "metadata": {},
   "source": [
    "# 🎬 Academy Awards Analysis\n",
    "## Investigating Trends in Oscar-Winning Movies\n",
    "### Author: Judd Jacobs\n",
    "\n",
    "This project analyzes historical **Academy Award-winning films** using data from **Wikipedia** (scraped via `pandas.read_html()`) and the **Kaggle Oscar Awards dataset**. \n",
    "\n",
    "#### **Key Analysis Areas:**\n",
    "- 🏆 **Best Picture trends by genre** (from TMDb API)\n",
    "- 🎭 **Box office revenue & IMDb ratings** (from Kaggle dataset)\n",
    "- 📈 **Long-term trends in Oscar-winning films**\n",
    "- ☁️ **Stretch Goal**: **Box office revenue from OMDb API** *(if available)*"
   ]
  },
  {
   "cell_type": "code",
   "execution_count": 48,
   "metadata": {},
   "outputs": [
    {
     "name": "stderr",
     "output_type": "stream",
     "text": [
      "[nltk_data] Downloading package stopwords to\n",
      "[nltk_data]     /Users/juddjacobs/nltk_data...\n",
      "[nltk_data]   Package stopwords is already up-to-date!\n",
      "[nltk_data] Downloading package punkt to\n",
      "[nltk_data]     /Users/juddjacobs/nltk_data...\n",
      "[nltk_data]   Package punkt is already up-to-date!\n"
     ]
    },
    {
     "data": {
      "text/plain": [
       "True"
      ]
     },
     "execution_count": 48,
     "metadata": {},
     "output_type": "execute_result"
    }
   ],
   "source": [
    "# Import necessary libraries\n",
    "import pandas as pd\n",
    "import numpy as np\n",
    "import requests\n",
    "import sqlite3\n",
    "import matplotlib.pyplot as plt\n",
    "import seaborn as sns\n",
    "from bs4 import BeautifulSoup\n",
    "from wordcloud import WordCloud\n",
    "import nltk\n",
    "from nltk.corpus import stopwords\n",
    "from nltk.tokenize import word_tokenize\n",
    "from dotenv import load_dotenv\n",
    "import os\n",
    "\n",
    "# Set plotting style\n",
    "sns.set_style(\"whitegrid\")\n",
    "\n",
    "# Ensure necessary NLTK components are downloaded\n",
    "nltk.download(\"stopwords\")\n",
    "nltk.download(\"punkt\")"
   ]
  },
  {
   "cell_type": "markdown",
   "metadata": {},
   "source": [
    "## 🗂 Data Collection: Scraping Wikipedia\n",
    "We will extract **Best Picture winners** and relevant metadata using:\n",
    "- **`pandas.read_html()`** to extract the table structure.\n",
    "- **`BeautifulSoup`** to identify \"winning\" rows based on background color."
   ]
  },
  {
   "cell_type": "code",
   "execution_count": null,
   "metadata": {},
   "outputs": [],
   "source": [
    "# Wikipedia URL for Best Picture winners\n",
    "wiki_url = \"https://en.wikipedia.org/wiki/List_of_Academy_Award%E2%80%93winning_films\"\n",
    "\n",
    "# Use pandas to extract the table\n",
    "tables = pd.read_html(wiki_url)\n",
    "\n",
    "# Select the correct table, adjusting the index, as needed - which is currently the first table at index 0 (as of 20250317)\n",
    "best_picture_wikipedia = tables[0]\n",
    "\n",
    "# Print the first few rows\n",
    "best_picture_wikipedia.head()"
   ]
  },
  {
   "cell_type": "code",
   "execution_count": null,
   "metadata": {},
   "outputs": [],
   "source": [
    "# Find the Wikipedia table with BeautifulSoup\n",
    "wikipedia_table = soup.find_all(\"table\", {\"class\": \"wikitable\"})[0]\n",
    "\n",
    "# Extract all rows\n",
    "rows = wikipedia_table.find_all(\"tr\")\n",
    "\n",
    "# List to store \"Winner\" status\n",
    "winning_status = []\n",
    "\n",
    "# Loop through rows and check for background color \"#EEDD82\" skipping the header row\n",
    "for row in rows[1:]:\n",
    "    style = row.get(\"style\", \"\")\n",
    "    \n",
    "    # Check if the row has the background color for winners and remove spaces for consistency\n",
    "    if \"background:#EEDD82\" in style.replace(\" \", \"\"):\n",
    "        winning_status.append(\"Winner\")\n",
    "    else:\n",
    "        winning_status.append(\"Nominee\")\n",
    "\n",
    "# Ensure the list length matches the DataFrame\n",
    "if len(winning_status) == len(best_picture_wikipedia):\n",
    "    best_picture_wikipedia[\"Status\"] = winning_status\n",
    "\n",
    "# Display updated DataFrame\n",
    "best_picture_wikipedia.head(100)"
   ]
  },
  {
   "cell_type": "code",
   "execution_count": null,
   "metadata": {},
   "outputs": [],
   "source": [
    "# Connect to (or create) database\n",
    "conn = sqlite3.connect(\"academy_awards.db\")\n",
    "\n",
    "# Save to SQLite table\n",
    "best_picture_wikipedia.to_sql(\"best_picture_winners\", conn, if_exists=\"replace\", index=False)\n",
    "print(\"Data saved to SQLite database!\")"
   ]
  },
  {
   "cell_type": "markdown",
   "metadata": {},
   "source": [
    "## 🎭 Fetching Genres from TMDb API\n",
    "We will use **The Movie Database (TMDb) API** to retrieve **movie genres** for Best Picture winners."
   ]
  },
  {
   "cell_type": "code",
   "execution_count": 59,
   "metadata": {},
   "outputs": [],
   "source": [
    "# Load environment variables from .env file\n",
    "load_dotenv()\n",
    "\n",
    "# Access the TMDB API keys stored in the .env file and define them here\n",
    "tmdb_api_key = os.getenv('TMDB_API_KEY')\n",
    "tmdb_api_read_access_token = os.getenv('TMBD_API_READ_ACCESS_TOKEN')"
   ]
  },
  {
   "cell_type": "code",
   "execution_count": 61,
   "metadata": {},
   "outputs": [
    {
     "name": "stdout",
     "output_type": "stream",
     "text": [
      "{\"page\":1,\"results\":[{\"adult\":false,\"backdrop_path\":\"/ahbx803wrITvlSjxLyp0Sfkzy3s.jpg\",\"genre_ids\":[18,10749],\"id\":16535,\"original_language\":\"en\",\"original_title\":\"Titanic\",\"overview\":\"Unhappily married, Julia Sturges decides to go to America with her two children on the Titanic. Her husband, Richard also arranges passage on the luxury liner so as to have custody of their two children. All this fades to insignificance once the ship hits an iceberg.\",\"popularity\":3.531,\"poster_path\":\"/rEPzO9I6LCk6Mxg1X4BsBk6oA3V.jpg\",\"release_date\":\"1953-04-11\",\"title\":\"Titanic\",\"video\":false,\"vote_average\":6.6,\"vote_count\":140},{\"adult\":false,\"backdrop_path\":\"/8FhAKRTrTLsJfXOkWL6odZeb0M1.jpg\",\"genre_ids\":[18,36],\"id\":11021,\"original_language\":\"de\",\"original_title\":\"Titanic\",\"overview\":\"In 1912, the Titanic embarks on its inevitable collision course with history. In the wake of the over-spending required to build the largest luxury ship in the world, White Star Line executive Sir Bruce Ismay schemes to reverse the direction of his company's plummeting stock value. Onboard the Titanic, brave German 1st Officer Petersen struggles to convince his self-important British superiors not to overexert the ship's engines.\",\"popularity\":2.825,\"poster_path\":\"/Al7oIXQ4dZAofBTZWm6OiXS3MEa.jpg\",\"release_date\":\"1943-11-10\",\"title\":\"Titanic\",\"video\":false,\"vote_average\":6.1,\"vote_count\":80},{\"adult\":false,\"backdrop_path\":\"/sDH1LkdFOkQmTJaF1sIIniQyFOk.jpg\",\"genre_ids\":[18,10749],\"id\":597,\"original_language\":\"en\",\"original_title\":\"Titanic\",\"overview\":\"101-year-old Rose DeWitt Bukater tells the story of her life aboard the Titanic, 84 years later. A young Rose boards the ship with her mother and fiancé. Meanwhile, Jack Dawson and Fabrizio De Rossi win third-class tickets aboard the ship. Rose tells the whole story from Titanic's departure through to its death—on its first and last voyage—on April 15, 1912.\",\"popularity\":4.957,\"poster_path\":\"/9xjZS2rlVxm8SFx8kPC3aIGCOYQ.jpg\",\"release_date\":\"1997-11-18\",\"title\":\"Titanic\",\"video\":false,\"vote_average\":7.905,\"vote_count\":25784},{\"adult\":false,\"backdrop_path\":null,\"genre_ids\":[99],\"id\":1124589,\"original_language\":\"en\",\"original_title\":\"Titanic\",\"overview\":\"This documentary explores the incredible history of the Titanic. From the crew to its final hours, Titanic chronicles this incredible story like never before. Get ready for Titanic.\",\"popularity\":0.277,\"poster_path\":\"/l7rAG4P16SNFdPmWfTC8ZQydOon.jpg\",\"release_date\":\"2023-02-07\",\"title\":\"Titanic\",\"video\":false,\"vote_average\":7.9,\"vote_count\":7},{\"adult\":false,\"backdrop_path\":null,\"genre_ids\":[18],\"id\":357517,\"original_language\":\"de\",\"original_title\":\"Titanic\",\"overview\":\"\",\"popularity\":0.247,\"poster_path\":\"/yi73me6Jl3zDelS9pQK5jtMRhsc.jpg\",\"release_date\":\"1984-01-01\",\"title\":\"Titanic\",\"video\":false,\"vote_average\":7.0,\"vote_count\":7},{\"adult\":false,\"backdrop_path\":null,\"genre_ids\":[],\"id\":760524,\"original_language\":\"en\",\"original_title\":\"Titanic\",\"overview\":\"\\\"Titanic\\\" is a Punjabi feature film. It is family movie. \\\"Titanic\\\" is based on a young boy's life whose dreams are so high. He wants to join Indian Navy. Unfortunately his life completely changed due to week financial conditions at home. He starts his work at low level driving of Autoriksha. He works so hard and he faces many obstacles in this work. At the end he accepted that his vehicle is submarine for him.\",\"popularity\":0.185,\"poster_path\":null,\"release_date\":\"2018-12-21\",\"title\":\"Titanic\",\"video\":false,\"vote_average\":8.1,\"vote_count\":5},{\"adult\":false,\"backdrop_path\":null,\"genre_ids\":[],\"id\":455679,\"original_language\":\"pt\",\"original_title\":\"Titanic\",\"overview\":\"\",\"popularity\":0.106,\"poster_path\":null,\"release_date\":\"\",\"title\":\"Titanic\",\"video\":false,\"vote_average\":8.3,\"vote_count\":3},{\"adult\":false,\"backdrop_path\":\"/4Sddw1BFQFHOIQZ3DY7QS0mGnVe.jpg\",\"genre_ids\":[16,10751],\"id\":71235,\"original_language\":\"it\",\"original_title\":\"Titanic: La leggenda continua\",\"overview\":\"An animated retelling of the worst passenger ship disaster in history. In this version, love blossoms between the upper-class Sir William and the blue-collar Angelica, who is hoping to find romance in America. At the same time, there are also a number of animal passengers, including talking dogs, cats and mice, who are also looking forward to arriving in the New World.\",\"popularity\":2.507,\"poster_path\":\"/s1PHRSlos2hIFrtA8Ze0JybJTGb.jpg\",\"release_date\":\"2000-09-15\",\"title\":\"Titanic: The Legend Goes On...\",\"video\":false,\"vote_average\":2.8,\"vote_count\":71},{\"adult\":false,\"backdrop_path\":\"/djFWCethTNYz5WPqIso6IVXTtFU.jpg\",\"genre_ids\":[10749,18],\"id\":115872,\"original_language\":\"fr\",\"original_title\":\"La femme de chambre du Titanic\",\"overview\":\"Horty, a French foundry worker, wins a contest and is sent to see the sailing of the Titanic. In England, Marie, saying she is a chambermaid on the Titanic and cannot get a room, asks to share his room. They do, chastely; when he awakens, she is gone, but he sees her at the sailing and gets a photo of her. When he returns home, he suspects that his wife Zoe has been sleeping with Simeon, the foundry owner. Horty goes to the bar, where his friends get him drunk and he starts telling an erotic fantasy of what happened with him and Marie, drawing a larger audience each night.\",\"popularity\":1.095,\"poster_path\":\"/mMPED3zn786jkID7TWtLPt3WMyR.jpg\",\"release_date\":\"1997-10-10\",\"title\":\"The Chambermaid on the Titanic\",\"video\":false,\"vote_average\":6.2,\"vote_count\":31},{\"adult\":false,\"backdrop_path\":null,\"genre_ids\":[16],\"id\":1173502,\"original_language\":\"fa\",\"original_title\":\"Titanic, noskhe monaseb baraye khanevadehaye irani\",\"overview\":\"A complex and sometimes combative exchange at an Iranian broadcaster over a certain Hollywood blockbuster disguises deeper ruptures, in Farnoosh Samadi’s wry and subtly provocative drama.\",\"popularity\":0.158,\"poster_path\":\"/pFQf4YMpqRnerJIal1GET0Sclci.jpg\",\"release_date\":\"2023-09-20\",\"title\":\"Titanic, Suitable Version for Iranian Families\",\"video\":false,\"vote_average\":9.0,\"vote_count\":4},{\"adult\":false,\"backdrop_path\":\"/2ZCq1wZ7avejS9Lkl0LmVpbiPec.jpg\",\"genre_ids\":[18,10749,53],\"id\":716855,\"original_language\":\"fi\",\"original_title\":\"Sokea mies joka ei halunnut nähdä Titanicia\",\"overview\":\"Jaakko and Sirpa have never met face to face, but talk on the phone every day. When Jaakko hears news about Sirpa's declining health, he decides to go meet her in another city. It's not the easiest decision, because he's blind and paralyzed from the chest down  - and he has to make the journey alone. To get there, Jaakko must rely on the help of five strangers. What could go wrong?\",\"popularity\":1.534,\"poster_path\":\"/lYuZ8yvVuUJsISKY75yt6FIzJFb.jpg\",\"release_date\":\"2021-09-10\",\"title\":\"The Blind Man Who Did Not Want to See Titanic\",\"video\":false,\"vote_average\":7.244,\"vote_count\":43},{\"adult\":false,\"backdrop_path\":\"/4I0MPJHWRhtbduWCH5i8WpCidMN.jpg\",\"genre_ids\":[99],\"id\":777797,\"original_language\":\"fr\",\"original_title\":\"Titanic, au cœur de l’épave\",\"overview\":\"The Titanic is under a new threat. Resting at over 12,500 feet below sea level and 380 nautical miles off the coast of Newfoundland, the most famous shipwreck in the world is being consumed by a colony of iron-eating bacteria. This slow and irreversible decay, according to the most concerned experts, will sweep away all the secrets of the mythic liner within a few decades. This documentary details the underwater odyssey of the greatest Titanic expeditions and the evolution of the most scrutinized shipwreck in the world. From the epic discovery of the wreck by a French-American team in 1985 to the exploratory missions led by James Cameron, and to the treasure hunts that brought back over 5,000 vestiges–experience the unequaled thrill of these extreme dives through the eyes of the explorers who have attempted to unlock Titanic’s secrets.\",\"popularity\":0.331,\"poster_path\":\"/sTqXfXdLtVBhWyo1kBG1xgtV946.jpg\",\"release_date\":\"2020-12-17\",\"title\":\"Titanic: Into the Heart of the Wreck\",\"video\":false,\"vote_average\":7.6,\"vote_count\":9},{\"adult\":false,\"backdrop_path\":\"/rZ4cAzG9zbE8yjZNpKIvpGyMUOz.jpg\",\"genre_ids\":[28,53,10749,12],\"id\":44918,\"original_language\":\"en\",\"original_title\":\"Titanic II\",\"overview\":\"On the 100th anniversary of the original voyage, a modern luxury liner christened \\\"Titanic 2,\\\" follows the path of its namesake. But when a tsunami hurls an ice berg into the new ship's path, the passengers and crew must fight to avoid a similar fate.\",\"popularity\":3.532,\"poster_path\":\"/3m12UeP1DMfhYZyvpLftaJGsyp3.jpg\",\"release_date\":\"2010-08-07\",\"title\":\"Titanic II\",\"video\":false,\"vote_average\":5.0,\"vote_count\":424},{\"adult\":false,\"backdrop_path\":\"/lgM1l7E5F8SrgGyf6Tea7qbyS3o.jpg\",\"genre_ids\":[9648,10751],\"id\":45891,\"original_language\":\"no\",\"original_title\":\"Titanics ti liv\",\"overview\":\"A young girl finds excitement over the prospect of an ocean cruise, suddenly offset by a series of bizarre visions.\",\"popularity\":0.32,\"poster_path\":\"/zJBSNGDMzL3EvQjuEzYqU0fB186.jpg\",\"release_date\":\"2007-10-31\",\"title\":\"The Ten Lives of Titanic the Cat\",\"video\":false,\"vote_average\":5.4,\"vote_count\":9},{\"adult\":false,\"backdrop_path\":\"/bnuBhHLzsRapDWheh9kwNn6qZnp.jpg\",\"genre_ids\":[27,878,28],\"id\":340382,\"original_language\":\"ja\",\"original_title\":\"進撃の巨人 ATTACK ON TITAN エンド オブ ザ ワールド\",\"overview\":\"Eren Yeager leaves to restore a break in the wall destroyed by a Titan. He comes under attack by the Titans and is cornered. Shikishima comes to his aid. The titans never stops attacking.  Eren is now injured and tries to protect Armin, but is swallowed by a titan. A Titan with black hair appears and begins to expel the other titans.\",\"popularity\":3.534,\"poster_path\":\"/khTl77Kvwb7emwcluvwKRA7MkSs.jpg\",\"release_date\":\"2015-09-01\",\"title\":\"Attack on Titan II: End of the World\",\"video\":false,\"vote_average\":6.1,\"vote_count\":354},{\"adult\":false,\"backdrop_path\":\"/qRik98bxXPn4qCHTe3ffhbGFRAu.jpg\",\"genre_ids\":[27,28,878],\"id\":295830,\"original_language\":\"ja\",\"original_title\":\"進撃の巨人 ATTACK ON TITAN\",\"overview\":\"100 years ago, titans suddenly appeared on Earth. Soon, human civilization veered on collapse due to the titans. Humans then built a giant wall to defend themselves. Within the giant walls, humans lived in peace, but, 100 years later, the giant wall is broken.\",\"popularity\":3.534,\"poster_path\":\"/uT7qQMmP07FG935JfM1oMlwfvoV.jpg\",\"release_date\":\"2015-08-01\",\"title\":\"Attack on Titan\",\"video\":false,\"vote_average\":6.1,\"vote_count\":758},{\"adult\":false,\"backdrop_path\":\"/oTR3KI1kVQ6ULrR2X6TobDlYVzO.jpg\",\"genre_ids\":[16,10751],\"id\":44310,\"original_language\":\"it\",\"original_title\":\"La leggenda del Titanic\",\"overview\":\"Old Grandpa mouse tells to his grandchildren the \\\"real\\\" story of the Titanic disaster, including evil sharks, a giant octopus, and an evil whaling scheme.\",\"popularity\":1.731,\"poster_path\":\"/tscmcvMs9T1TOjoMD7x12FveNsR.jpg\",\"release_date\":\"1999-04-17\",\"title\":\"The Legend of the Titanic\",\"video\":false,\"vote_average\":3.3,\"vote_count\":49},{\"adult\":false,\"backdrop_path\":\"/k0mwvvXFvBAVTrlYf5D2sETXMHX.jpg\",\"genre_ids\":[12],\"id\":24575,\"original_language\":\"en\",\"original_title\":\"Raise the Titanic\",\"overview\":\"To obtain a supply of a rare mineral, a ship raising operation is conducted for the only known source, the Titanic.\",\"popularity\":3.459,\"poster_path\":\"/XvukyvRCbkYKKv1TdtlyNxvzEl.jpg\",\"release_date\":\"1980-08-01\",\"title\":\"Raise the Titanic\",\"video\":false,\"vote_average\":5.3,\"vote_count\":98},{\"adult\":false,\"backdrop_path\":null,\"genre_ids\":[99],\"id\":420341,\"original_language\":\"fr\",\"original_title\":\"Die Katastrophe der Titanic\",\"overview\":\"Incredibly fascinating documentary short that is a truly historic film. We see the actual Titanic leaving for its last voyage and also all the aftermath of the tragedy. We get to view various interesting aspects including seeing Captain Smith minutes before the boat sails, the Mary Sculley and the Carpathia in action, the Carpathia returning to the shore with survivors, Captain Rostrum of the Carpathia, family members at the White Star Office in NY waiting for news and even some of the survivors pulled off the lifeboats. Anyone interested in this historic event would certainly find this film fascinating and it's pretty sad and spooky to watch it today.\",\"popularity\":0.672,\"poster_path\":\"/x4hs14VdqYeo0wM2YQjC5zGIRfd.jpg\",\"release_date\":\"1912-01-01\",\"title\":\"Titanic Disaster\",\"video\":false,\"vote_average\":5.763,\"vote_count\":19},{\"adult\":false,\"backdrop_path\":\"/bhORLT4XMKxoRJfnAPf5kJVSfjZ.jpg\",\"genre_ids\":[18,36],\"id\":1159452,\"original_language\":\"en\",\"original_title\":\"Unsinkable: Titanic Untold\",\"overview\":\"The true story of rushed investigations, political interference, and the grasp for corporate accountability woven amongst heart wrenching flashbacks of the Titanic disaster as it unfolded.\",\"popularity\":0.098,\"poster_path\":\"/xPBxayYhw7m2dN89NgsZ9JStreF.jpg\",\"release_date\":\"2024-03-10\",\"title\":\"Unsinkable: Titanic Untold\",\"video\":false,\"vote_average\":5.0,\"vote_count\":1}],\"total_pages\":11,\"total_results\":219}\n"
     ]
    }
   ],
   "source": [
    "#This is the Titanic example and it is working. I need to debug the cell below to get this working.\n",
    "url = \"https://api.themoviedb.org/3/search/movie?query=Titanic&include_adult=false&language=en-US&page=1\"\n",
    "\n",
    "headers = {\n",
    "    \"accept\": \"application/json\",\n",
    "    \"Authorization\": f\"Bearer {tmdb_api_read_access_token}\"\n",
    "}\n",
    "\n",
    "response = requests.get(url, headers=headers)\n",
    "\n",
    "print(response.text)"
   ]
  },
  {
   "cell_type": "code",
   "execution_count": null,
   "metadata": {},
   "outputs": [
    {
     "name": "stdout",
     "output_type": "stream",
     "text": [
      "Error fetching data for Titanic: 401\n",
      "Error fetching data for Inception: 401\n",
      "Error fetching data for Avatar: 401\n",
      "Error fetching data for Interstellar: 401\n",
      "Movie data successfully stored in SQLite database!\n"
     ]
    }
   ],
   "source": [
    "import requests\n",
    "import sqlite3\n",
    "import json\n",
    "\n",
    "# Function to fetch movie data from TMDb API\n",
    "def fetch_movie_data(movie_title) -> dict:\n",
    "    url = f\"https://api.themoviedb.org/3/search/movie?query={movie_title}&include_adult=false&language=en-US&page=1\"\n",
    "\n",
    "    headers = {\n",
    "        \"accept\": \"application/json\",\n",
    "        \"Authorization\": f\"Bearer {tmdb_api_read_access_token}\"\n",
    "    }\n",
    "\n",
    "    response = requests.get(url, headers=headers)\n",
    "    \n",
    "    if response.status_code == 200:\n",
    "        # Returns the API response as a dictionary\n",
    "        return response.json()\n",
    "    else:\n",
    "        print(f\"Error fetching data for {movie_title}: {response.status_code}\")\n",
    "        return None\n",
    "\n",
    "# Function to store movie data in SQLite\n",
    "def store_movie_data(movie_data) -> None:\n",
    "    # Create/connect to the database\n",
    "    conn = sqlite3.connect(\"academy_awards.db\")\n",
    "    cursor = conn.cursor()\n",
    "\n",
    "    # Create table if it doesn't exist\n",
    "    cursor.execute('''\n",
    "        CREATE TABLE IF NOT EXISTS movies (\n",
    "            id INTEGER PRIMARY KEY AUTOINCREMENT,\n",
    "            title TEXT,\n",
    "            release_date TEXT,\n",
    "            overview TEXT,\n",
    "            vote_average REAL,\n",
    "            tmdb_id INTEGER UNIQUE\n",
    "        )\n",
    "    ''')\n",
    "\n",
    "    # Extract movie details from API response\n",
    "    if movie_data and movie_data.get(\"results\"):\n",
    "        for movie in movie_data[\"results\"]:\n",
    "            tmdb_id = movie.get(\"id\")\n",
    "            title = movie.get(\"title\", \"Unknown\")\n",
    "            release_date = movie.get(\"release_date\", \"N/A\")\n",
    "            overview = movie.get(\"overview\", \"No description available.\")\n",
    "            vote_average = movie.get(\"vote_average\", 0.0)\n",
    "\n",
    "            # Insert or ignore if the movie already exists (prevents duplicate entries)\n",
    "            cursor.execute('''\n",
    "                INSERT OR IGNORE INTO movies (tmdb_id, title, release_date, overview, vote_average)\n",
    "                VALUES (?, ?, ?, ?, ?)\n",
    "            ''', (tmdb_id, title, release_date, overview, vote_average))\n",
    "\n",
    "    conn.commit()\n",
    "    conn.close()\n",
    "\n",
    "# List of movies to fetch\n",
    "movies_list = [\"Titanic\", \"Inception\", \"Avatar\", \"Interstellar\"]\n",
    "\n",
    "# Loop through each movie, fetch data, and store in the database\n",
    "for movie in movies_list:\n",
    "    data = fetch_movie_data(movie)\n",
    "    if data:\n",
    "        store_movie_data(data)\n",
    "\n",
    "print(\"Movie data successfully stored in SQLite database!\")"
   ]
  },
  {
   "cell_type": "code",
   "execution_count": null,
   "metadata": {},
   "outputs": [],
   "source": [
    "#this was my original code - the cell above is what I'm playing around with\n",
    "def get_movie_genre(movie_title, tmdb_api_key) -> str:\n",
    "    # Fetches movie genres from TMDb API given a movie title.\n",
    "    search_url = f\"https://api.themoviedb.org/3/search/movie?tmdb_api_key={tmdb_api_key}&query={movie_title}\"\n",
    "    search_response = requests.get(search_url).json()\n",
    "    \n",
    "    if search_response[\"results\"]:\n",
    "        movie_id = search_response[\"results\"][0][\"id\"]\n",
    "        movie_url = f\"https://api.themoviedb.org/3/movie/{movie_id}?tmdb_api_key={tmdb_api_key}\"\n",
    "        movie_response = requests.get(movie_url).json()\n",
    "        \n",
    "        # Extract genres\n",
    "        genre_list = [genre[\"name\"] for genre in movie_response.get(\"genres\", [])]\n",
    "        return \", \".join(genre_list)\n",
    "    else:\n",
    "        return \"Unknown\"\n",
    "\n",
    "# Apply function to each movie in the dataset\n",
    "awards_df[\"Genre\"] = awards_df[\"Film\"].apply(lambda title: get_movie_genre(title, tmdb_api_key))\n",
    "\n",
    "# Display updated DataFrame with Genres\n",
    "awards_df.head()\n"
   ]
  },
  {
   "cell_type": "markdown",
   "metadata": {},
   "source": [
    "## ☁️ Stretch Goal: Fetching Box Office Revenue from OMDb API\n",
    "If available, we will use **OMDb API (IMDb)** to fetch **box office revenue** for Best Picture winners."
   ]
  },
  {
   "cell_type": "code",
   "execution_count": null,
   "metadata": {},
   "outputs": [],
   "source": [
    "# # OMDb API Key (replace with your actual key)\n",
    "# omdb_api_key = \"your_omdb_api_key\"\n",
    "\n",
    "# def get_box_office(movie_title, api_key):\n",
    "#     \"\"\"Fetches box office revenue from OMDb API given a movie title.\"\"\"\n",
    "#     omdb_url = f\"http://www.omdbapi.com/?t={movie_title}&apikey={api_key}\"\n",
    "#     omdb_response = requests.get(omdb_url).json()\n",
    "    \n",
    "#     return omdb_response.get(\"BoxOffice\", \"N/A\")\n",
    "\n",
    "# # Apply function to each movie in the dataset\n",
    "# awards_df[\"Box Office Revenue\"] = awards_df[\"Film\"].apply(lambda title: get_box_office(title, omdb_api_key))\n",
    "\n",
    "# # Display updated DataFrame\n",
    "# awards_df.head()"
   ]
  },
  {
   "cell_type": "markdown",
   "metadata": {},
   "source": [
    "## 📥 Data Collection: Kaggle Dataset\n",
    "Load additional Oscar award data from a structured Kaggle dataset."
   ]
  },
  {
   "cell_type": "code",
   "execution_count": null,
   "metadata": {},
   "outputs": [],
   "source": [
    "# Load Kaggle dataset\n",
    "kaggle_df = pd.read_csv(\"data/full_data.csv\", sep=\"\\t\")\n",
    "\n",
    "# Display dataset structure\n",
    "kaggle_df.head()"
   ]
  },
  {
   "cell_type": "markdown",
   "metadata": {},
   "source": [
    "## 🛠 Data Cleaning & Storage\n",
    "We will clean and merge Wikipedia & Kaggle data, then store it in an **SQLite database**."
   ]
  },
  {
   "cell_type": "code",
   "execution_count": null,
   "metadata": {},
   "outputs": [],
   "source": [
    "# Clean Wikipedia data\n",
    "movies_df[\"Year\"] = movies_df[\"Year\"].str.extract(r\"(\\d{4})\").astype(float)\n",
    "\n",
    "# Merge Wikipedia and Kaggle data\n",
    "merged_df = pd.merge(movies_df, kaggle_df, left_on=\"Best Picture Winner\", right_on=\"Film\", how=\"left\")\n",
    "\n",
    "# Save to SQLite database\n",
    "conn = sqlite3.connect(\"academy_awards.db\")\n",
    "merged_df.to_sql(\"best_picture_winners\", conn, if_exists=\"replace\", index=False)\n",
    "\n",
    "print(\"Data successfully stored in SQLite database!\")"
   ]
  },
  {
   "cell_type": "markdown",
   "metadata": {},
   "source": [
    "## 📊 Exploratory Data Analysis\n",
    "We will explore trends in **Best Picture winners** by genre and other relevant statistics."
   ]
  },
  {
   "cell_type": "code",
   "execution_count": null,
   "metadata": {},
   "outputs": [],
   "source": [
    "# Check unique genres in Kaggle dataset\n",
    "print(kaggle_df[\"Genre\"].unique())\n",
    "\n",
    "# Count of Best Picture winners by genre\n",
    "genre_counts = kaggle_df[\"Genre\"].value_counts()\n",
    "\n",
    "# Plot the genre distribution\n",
    "plt.figure(figsize=(12, 6))\n",
    "sns.barplot(x=genre_counts.index, y=genre_counts.values, palette=\"Blues_r\")\n",
    "plt.xticks(rotation=45)\n",
    "plt.xlabel(\"Genre\")\n",
    "plt.ylabel(\"Number of Wins\")\n",
    "plt.title(\"Best Picture Wins by Genre\")\n",
    "plt.show()"
   ]
  },
  {
   "cell_type": "markdown",
   "metadata": {},
   "source": [
    "## 💰 Box Office & IMDb Ratings\n",
    "We will analyze **box office revenue** and IMDb ratings of Best Picture winners."
   ]
  },
  {
   "cell_type": "code",
   "execution_count": null,
   "metadata": {},
   "outputs": [],
   "source": [
    "# Scatter plot: Box Office Revenue vs IMDb Ratings\n",
    "plt.figure(figsize=(10, 6))\n",
    "sns.scatterplot(x=kaggle_df[\"BoxOffice\"], y=kaggle_df[\"IMDb Rating\"], hue=kaggle_df[\"Year\"], palette=\"coolwarm\")\n",
    "plt.xlabel(\"Box Office Revenue (in millions)\")\n",
    "plt.ylabel(\"IMDb Rating\")\n",
    "plt.title(\"Box Office Revenue vs IMDb Ratings for Best Picture Winners\")\n",
    "plt.show()"
   ]
  },
  {
   "cell_type": "markdown",
   "metadata": {},
   "source": [
    "## ☁️ Stretch Goal: Word Cloud (Wikipedia Movie Summaries)\n",
    "If Wikipedia summaries are accessible, generate a **word cloud** from commonly used words in movie descriptions."
   ]
  },
  {
   "cell_type": "code",
   "execution_count": null,
   "metadata": {},
   "outputs": [],
   "source": [
    "# Sample Wikipedia summary text (replace with actual summaries if available)\n",
    "sample_text = \"This is a sample summary of a Best Picture-winning film. It tells the story of love, ambition, and success.\"\n",
    "\n",
    "# Tokenize & remove stopwords\n",
    "tokens = word_tokenize(sample_text.lower())\n",
    "filtered_words = [word for word in tokens if word.isalnum() and word not in stopwords.words(\"english\")]\n",
    "\n",
    "# Generate Word Cloud\n",
    "wordcloud = WordCloud(width=800, height=400, background_color=\"white\").generate(\" \".join(filtered_words))\n",
    "\n",
    "# Display Word Cloud\n",
    "plt.figure(figsize=(10, 5))\n",
    "plt.imshow(wordcloud, interpolation=\"bilinear\")\n",
    "plt.axis(\"off\")\n",
    "plt.title(\"Word Cloud of Wikipedia Movie Summaries\")\n",
    "plt.show()"
   ]
  },
  {
   "cell_type": "code",
   "execution_count": null,
   "metadata": {},
   "outputs": [],
   "source": [
    "oscars = pd.read_csv(\"data/oscars.csv\", sep='\\t', on_bad_lines='skip')\n",
    "oscars = oscars.dropna()\n",
    "oscars = oscars.drop_duplicates()\n",
    "oscars = oscars.reset_index(drop=True)"
   ]
  },
  {
   "cell_type": "markdown",
   "metadata": {},
   "source": [
    "# Step 3: Data Cleaning"
   ]
  },
  {
   "cell_type": "code",
   "execution_count": null,
   "metadata": {},
   "outputs": [],
   "source": [
    "# Clean movie metadata\n",
    "def clean_movie_data(df):\n",
    "    \"\"\"\n",
    "    Handle missing values and standardize column names in the movie dataset.\n",
    "    \"\"\"\n",
    "    df.dropna(subset=[\"title\", \"release_year\"], inplace=True)\n",
    "    df.fillna({\"box_office\": 0, \"runtime\": df[\"runtime\"].median()}, inplace=True)\n",
    "    return df\n",
    "\n",
    "# Clean speech transcripts (stretch goal)\n",
    "# def preprocess_speech_text(text):\n",
    "#     \"\"\"\n",
    "#     Tokenize and clean Oscar acceptance speech text for word frequency analysis.\n",
    "#     \"\"\"\n",
    "#     nltk.download(\"stopwords\")\n",
    "#     nltk.download(\"punkt\")\n",
    "#     tokens = word_tokenize(text.lower())  # Convert to lowercase and tokenize\n",
    "#     filtered_words = [word for word in tokens if word.isalnum() and word not in stopwords.words(\"english\")]\n",
    "#     return \" \".join(filtered_words)\n",
    "\n",
    "# speech_df[\"cleaned_speech\"] = speech_df[\"speech_text\"].apply(preprocess_speech_text)\n",
    "\n"
   ]
  },
  {
   "cell_type": "code",
   "execution_count": null,
   "metadata": {},
   "outputs": [],
   "source": [
    "# Step 4: Store Data in SQLite Database\n",
    "conn = sqlite3.connect(\"academy_awards.db\")\n",
    "awards_df.to_sql(\"awards\", conn, if_exists=\"replace\", index=False)\n",
    "speech_df.to_sql(\"speeches\", conn, if_exists=\"replace\", index=False)\n",
    "\n"
   ]
  },
  {
   "cell_type": "code",
   "execution_count": null,
   "metadata": {},
   "outputs": [],
   "source": [
    "# Step 5: SQL Queries & Analysis\n",
    "## Query genres of Best Picture winners over decades\n",
    "query = \"\"\"\n",
    "SELECT genre, COUNT(*) AS num_wins, strftime('%Y', award_year) AS decade\n",
    "FROM awards\n",
    "WHERE category = 'Best Picture'\n",
    "GROUP BY genre, decade\n",
    "ORDER BY decade ASC;\n",
    "\"\"\"\n",
    "genre_trends_df = pd.read_sql(query, conn)\n",
    "\n",
    "## Query word frequency in acceptance speeches\n",
    "query = \"\"\"\n",
    "SELECT cleaned_speech FROM speeches;\n",
    "\"\"\"\n",
    "speech_texts = pd.read_sql(query, conn)\n",
    "\n"
   ]
  },
  {
   "cell_type": "code",
   "execution_count": null,
   "metadata": {},
   "outputs": [],
   "source": [
    "# Step 6: Data Visualization\n",
    "## Bar Chart - Best Picture Wins by Genre\n",
    "plt.figure(figsize=(12,6))\n",
    "sns.barplot(x=\"genre\", y=\"num_wins\", hue=\"decade\", data=genre_trends_df)\n",
    "plt.xticks(rotation=45)\n",
    "plt.title(\"Best Picture Wins by Genre Over Decades\")\n",
    "plt.show()\n",
    "\n",
    "## Scatter Plot - Box Office vs IMDb Ratings\n",
    "plt.figure(figsize=(10,5))\n",
    "sns.scatterplot(x=\"box_office\", y=\"imdb_rating\", hue=\"decade\", data=awards_df)\n",
    "plt.title(\"Box Office Revenue vs IMDb Ratings for Oscar Winners\")\n",
    "plt.show()\n",
    "\n",
    "## Word Cloud - Common Words in Acceptance Speeches\n",
    "all_text = \" \".join(speech_texts[\"cleaned_speech\"])\n",
    "wordcloud = WordCloud(width=800, height=400, background_color=\"white\").generate(all_text)\n",
    "plt.figure(figsize=(10,5))\n",
    "plt.imshow(wordcloud, interpolation=\"bilinear\")\n",
    "plt.axis(\"off\")\n",
    "plt.title(\"Most Common Words in Oscar Acceptance Speeches\")\n",
    "plt.show()\n",
    "\n"
   ]
  },
  {
   "cell_type": "code",
   "execution_count": null,
   "metadata": {},
   "outputs": [],
   "source": [
    "# Step 7: Conclusion & Interpretation\n",
    "\"\"\"\n",
    "- The bar chart shows which genres have dominated the Best Picture category over time.\n",
    "- The scatter plot identifies any correlation between box office revenue and audience reception (IMDb ratings).\n",
    "- The word cloud highlights common themes in Oscar speeches, reflecting industry trends and sentiments. (stretch goal)\n",
    "\"\"\"\n",
    "\n"
   ]
  },
  {
   "cell_type": "markdown",
   "metadata": {},
   "source": [
    "### Overview of the Analysis (examples)\n",
    "- In this analysis, we explored the relationship between the race of law enforcement officers and the race of the drivers they stop. Our goal was to see if there’s any indication of bias in traffic stops based on the racial identity of the officers. To do this, we used a chi-squared test for independence, which helps us understand whether there’s a meaningful connection between these two groups.\n",
    "\n",
    "### Results of the Chi-Squared Test\n",
    "- **Chi-Squared Statistic:** We calculated a chi-squared statistic of 122.92. This high number shows that there’s a significant difference between the actual number of stops for different racial groups and what we would expect to see if there were no connection between the officer's race and the driver's race. In other words, this suggests that the patterns we observe in the data are unlikely to be just a coincidence.\n",
    "\n",
    "- **P-Value:** The p-value we found was about 8.20e-17, which is extremely low. This tells us that the result is statistically significant since it’s much lower than the usual thresholds (like 0.05 or 0.01). A low p-value means we have strong evidence against the idea that there’s no connection between the officer's race and the driver's race.\n",
    "\n",
    "### Interpretation of Findings\n",
    "- The results show a strong connection between the race of the officer and the race of the driver being stopped. This means that a driver's chances of being stopped may change depending on the officer's race, suggesting there might be some bias in how traffic stops are carried out.\n",
    "\n",
    "### Implications\n",
    "- These findings are important for understanding how race plays a role in law enforcement. They suggest that different racial groups might be treated differently by officers during traffic stops. It's crucial to address these biases to ensure fairness and equality in policing.\n",
    "\n",
    "### Conclusion\n",
    "- The strong evidence from the chi-squared statistic and p-value emphasizes the importance of further examining law enforcement practices. Police leaders and community advocacy groups should take these findings into account when reviewing policies and training programs designed to reduce racial bias in policing."
   ]
  }
 ],
 "metadata": {
  "kernelspec": {
   "display_name": "Python 3",
   "language": "python",
   "name": "python3"
  },
  "language_info": {
   "codemirror_mode": {
    "name": "ipython",
    "version": 3
   },
   "file_extension": ".py",
   "mimetype": "text/x-python",
   "name": "python",
   "nbconvert_exporter": "python",
   "pygments_lexer": "ipython3",
   "version": "3.13.0"
  }
 },
 "nbformat": 4,
 "nbformat_minor": 2
}
