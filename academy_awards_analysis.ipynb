{
 "cells": [
  {
   "cell_type": "markdown",
   "metadata": {},
   "source": [
    "# Academy Awards Analysis 🎬\n",
    "## Investigating Trends in Oscar-Winning Movies\n",
    "### Author: Judd Jacobs\n",
    "\n",
    "This project analyzes historical **Academy Award-winning films** using data from **Wikipedia**, **The Movie Database (TMDb)**, and **The Open Movie Database (OMDb)**.\n",
    "\n",
    "## **Key Analysis Areas**\n",
    "- **Best Picture trends by genre** (from Wikipedia Scrape & TMDb API) 🏆\n",
    "- **Box office revenue & IMDb ratings** (OMDb API) 🎭\n",
    "- **Long-term trends in Oscar-winning films** 📈"
   ]
  },
  {
   "cell_type": "markdown",
   "metadata": {},
   "source": [
    "## **Step 1:** Import necessary Python Libraries 💽"
   ]
  },
  {
   "cell_type": "code",
   "execution_count": 1,
   "metadata": {},
   "outputs": [],
   "source": [
    "import pandas as pd\n",
    "import numpy as np\n",
    "import requests\n",
    "import sqlite3\n",
    "import matplotlib.pyplot as plt\n",
    "import seaborn as sns\n",
    "from bs4 import BeautifulSoup\n",
    "from dotenv import load_dotenv\n",
    "import os\n",
    "from urllib.parse import quote\n",
    "import re\n",
    "import json\n",
    "\n",
    "# # WordCloud and NLTK libraries are currently a strech goal for future development\n",
    "# from wordcloud import WordCloud\n",
    "# import nltk\n",
    "# from nltk.corpus import stopwords\n",
    "# from nltk.tokenize import word_tokenize\n",
    "\n",
    "# # Ensure necessary NLTK components are downloaded\n",
    "# nltk.download(\"stopwords\")\n",
    "# nltk.download(\"punkt\")"
   ]
  },
  {
   "cell_type": "markdown",
   "metadata": {},
   "source": [
    "## **Step 2:** Data Acquisition 🗂"
   ]
  },
  {
   "cell_type": "code",
   "execution_count": 2,
   "metadata": {},
   "outputs": [
    {
     "name": "stdout",
     "output_type": "stream",
     "text": [
      "             film  year  awards  nominations   status\n",
      "0           Anora  2024       5            6   Winner\n",
      "1   The Brutalist  2024       3           10  Nominee\n",
      "2    Emilia Pérez  2024       2           13  Nominee\n",
      "3          Wicked  2024       2           10  Nominee\n",
      "4  Dune: Part Two  2024       2            5  Nominee\n",
      "film           object\n",
      "year            Int64\n",
      "awards          Int64\n",
      "nominations     Int64\n",
      "status         object\n",
      "dtype: object\n"
     ]
    }
   ],
   "source": [
    "# 2.1: Fetch Wikipedia page and parse it with BeautifulSoup\n",
    "wiki_url = \"https://en.wikipedia.org/wiki/List_of_Academy_Award%E2%80%93winning_films\"\n",
    "response = requests.get(wiki_url)\n",
    "soup = BeautifulSoup(response.text, \"html.parser\")\n",
    "\n",
    "# 2.2: Locate the table and rows\n",
    "table = soup.find(\"table\", {\"class\": \"wikitable\"})\n",
    "rows = table.find_all(\"tr\")\n",
    "\n",
    "# 2.3: Extract column headers\n",
    "headers = [th.get_text(strip=True) for th in rows[0].find_all(\"th\")]\n",
    "\n",
    "# 2.4: Extract table data and append 'Status' based on style\n",
    "data = []\n",
    "for row in rows[1:]:\n",
    "    cells = row.find_all([\"td\", \"th\"])\n",
    "    style = row.get(\"style\", \"\")\n",
    "    status = \"Winner\" if \"background:#EEDD82\" in style.replace(\" \", \"\") else \"Nominee\"\n",
    "    row_data = [cell.get_text(strip=True) for cell in cells]\n",
    "    if row_data:\n",
    "        row_data.append(status)\n",
    "        data.append(row_data)\n",
    "\n",
    "# 2.5: Append 'Status' to column headers\n",
    "headers.append(\"Status\")\n",
    "\n",
    "# 2.6: Create initial DataFrame\n",
    "best_picture_wikipedia = pd.DataFrame(data, columns=headers)\n",
    "\n",
    "# 2.7: Normalize column names\n",
    "best_picture_wikipedia.columns = (\n",
    "    best_picture_wikipedia.columns\n",
    "    .str.lower()\n",
    "    .str.strip()\n",
    "    .str.replace(\" \", \"_\")\n",
    "    .str.replace(r\"[^\\w_]\", \"\", regex=True)\n",
    ")\n",
    "\n",
    "# 2.8: Initial conversion of 'year' to numeric\n",
    "best_picture_wikipedia['year'] = pd.to_numeric(best_picture_wikipedia['year'], errors='coerce')\n",
    "\n",
    "# 2.9: Further clean numeric columns\n",
    "for col in ['awards', 'nominations']:\n",
    "    if col in best_picture_wikipedia.columns:\n",
    "        best_picture_wikipedia[col] = (\n",
    "            best_picture_wikipedia[col]\n",
    "            .str.replace(\",\", \"\")\n",
    "            .str.extract(\"(\\\\d+)\")\n",
    "            .astype(float)\n",
    "            .astype(\"Int64\")\n",
    "        )\n",
    "\n",
    "# 2.10: Convert year to integer (nullable)\n",
    "best_picture_wikipedia['year'] = best_picture_wikipedia['year'].astype(\"Int64\")\n",
    "\n",
    "# 2.11: Validate data integrity\n",
    "expected_columns = ['film', 'year', 'awards', 'nominations', 'status']\n",
    "assert all(col in best_picture_wikipedia.columns for col in expected_columns), \"Missing expected columns\"\n",
    "assert best_picture_wikipedia['film'].notna().all(), \"Null values found in 'film'\"\n",
    "assert best_picture_wikipedia['year'].notna().any(), \"No valid 'year' entries found\"\n",
    "assert set(best_picture_wikipedia['status'].unique()) <= {'Winner', 'Nominee'}, \"Unexpected status values\"\n",
    "assert pd.api.types.is_integer_dtype(best_picture_wikipedia['year']), \"'year' column is not integer\"\n",
    "\n",
    "# 2.12: Preview final cleaned DataFrame\n",
    "print(best_picture_wikipedia.head())\n",
    "print(best_picture_wikipedia.dtypes)\n"
   ]
  },
  {
   "cell_type": "markdown",
   "metadata": {},
   "source": [
    "### **Scrape** Wikipedia\n",
    "Extract **Best Picture winners**, nominees, and relevant metadata availble on Wikipedia here: https://en.wikipedia.org/wiki/List_of_Academy_Award–winning_films\n",
    "- **`pandas.read_html()`** to extract the table structure.\n",
    "- **`BeautifulSoup`** to identify \"winning\" rows based on Wikipedia background color."
   ]
  },
  {
   "cell_type": "code",
   "execution_count": null,
   "metadata": {},
   "outputs": [],
   "source": [
    "# Wikipedia URL for Best Picture winners\n",
    "wiki_url = \"https://en.wikipedia.org/wiki/List_of_Academy_Award%E2%80%93winning_films\"\n",
    "\n",
    "# Use pandas to extract the table\n",
    "tables = pd.read_html(wiki_url)\n",
    "\n",
    "# Select the correct table, adjusting the index as needed\n",
    "best_picture_wikipedia = tables[0]\n",
    "\n",
    "# Print the first few rows to ensure the correct table was selected\n",
    "print(best_picture_wikipedia.head())\n",
    "print(best_picture_wikipedia.dtypes)"
   ]
  },
  {
   "cell_type": "code",
   "execution_count": null,
   "metadata": {},
   "outputs": [],
   "source": [
    "# Now find the Wikipedia table with BeautifulSoup\n",
    "response_wikipedia = requests.get(wiki_url)\n",
    "soup_wikipedia = BeautifulSoup(response_wikipedia.text, \"html.parser\")\n",
    "wikipedia_table = soup_wikipedia.find_all(\"table\", {\"class\": \"wikitable\"})[0]\n",
    "\n",
    "# Extract all rows\n",
    "rows = wikipedia_table.find_all(\"tr\")\n",
    "\n",
    "# List to store \"Winner\" status\n",
    "winning_status = []\n",
    "\n",
    "# Loop through rows and check for background color \"#EEDD82\" skipping the header row\n",
    "for row in rows[1:]:\n",
    "    style = row.get(\"style\", \"\")\n",
    "    \n",
    "    # Check if the row has the background color for winners and remove spaces for consistency\n",
    "    if \"background:#EEDD82\" in style.replace(\" \", \"\"):\n",
    "        winning_status.append(\"Winner\")\n",
    "    else:\n",
    "        winning_status.append(\"Nominee\")\n",
    "\n",
    "# Ensure the list length matches the DataFrame\n",
    "if len(winning_status) == len(best_picture_wikipedia):\n",
    "    best_picture_wikipedia[\"Status\"] = winning_status\n",
    "else:\n",
    "    print(\"List length does not match DataFrame length\")\n",
    "\n",
    "# Display updated DataFrame\n",
    "print(best_picture_wikipedia.head())\n",
    "print(best_picture_wikipedia.dtypes)"
   ]
  },
  {
   "cell_type": "markdown",
   "metadata": {},
   "source": [
    "### Fetch Genres from TMDb API 🎭\n",
    "Use **The Movie Database (TMDb) API** to retrieve **movie genres** for Best Picture winners listed in Wikipedia Dataset.\n",
    "\n",
    "⚠️ Note: the cell below may take up to two minutes, or longer, to load. ⚠️"
   ]
  },
  {
   "cell_type": "code",
   "execution_count": null,
   "metadata": {},
   "outputs": [],
   "source": [
    "# Load environment variables from .env file\n",
    "load_dotenv()\n",
    "\n",
    "# Access the TMDB API keys stored in the .env file and define them here\n",
    "tmdb_api_key = os.getenv('TMDB_API_KEY')\n",
    "tmdb_api_read_access_token = os.getenv('TMBD_API_READ_ACCESS_TOKEN')\n",
    "\n",
    "tmdb_api_base_url = \"https://api.themoviedb.org/3\"\n",
    "\n",
    "# Function to get genre mappings (ID -> Name)\n",
    "def get_genre_mapping() -> dict:\n",
    "    url = f\"{tmdb_api_base_url}/genre/movie/list?language=en-US\"\n",
    "    headers = {\"accept\": \"application/json\", \"Authorization\": f\"Bearer {tmdb_api_read_access_token}\"}\n",
    "    \n",
    "    response = requests.get(url, headers=headers)\n",
    "    data = response.json()\n",
    "    \n",
    "    if \"genres\" in data:\n",
    "        return {genre[\"id\"]: genre[\"name\"] for genre in data[\"genres\"]}\n",
    "    return {}\n",
    "\n",
    "# Function to query TMDB API and get genre names for movies\n",
    "def get_movie_genres(film_titles) -> dict:\n",
    "    headers = {\n",
    "        \"accept\": \"application/json\",\n",
    "        \"Authorization\": f\"Bearer {tmdb_api_read_access_token}\"\n",
    "        }\n",
    "    \n",
    "    # Fetch genre ID-to-name mapping\n",
    "    genre_mapping = get_genre_mapping()\n",
    "\n",
    "    # Store results\n",
    "    movie_genres = {}\n",
    "\n",
    "    for title in film_titles:\n",
    "        # Encode spaces and special characters for use in URL\n",
    "        encoded_title = quote(title)\n",
    "        \n",
    "        url = f\"{tmdb_api_base_url}/search/movie?query={encoded_title}&include_adult=false&language=en-US&page=1\"\n",
    "        response = requests.get(url, headers=headers)\n",
    "        data = response.json()\n",
    "        \n",
    "        if \"results\" in data and data[\"results\"]:\n",
    "            # Ensure exact match\n",
    "            exact_match = next((movie for movie in data[\"results\"] if movie[\"title\"] == title), None)\n",
    "            \n",
    "            if exact_match:\n",
    "                genre_ids = exact_match[\"genre_ids\"]\n",
    "                genre_names = [genre_mapping.get(gid, \"Unknown Genre\") for gid in genre_ids]\n",
    "                movie_genres[title] = genre_names\n",
    "            else:\n",
    "                movie_genres[title] = [\"No exact match found\"]\n",
    "        else:\n",
    "            movie_genres[title] = [\"No results found\"]\n",
    "    \n",
    "    return movie_genres\n",
    "\n",
    "# Create a List of the movie titles from extracted Wikipedia data\n",
    "movie_titles = best_picture_wikipedia[\"Film\"].tolist()\n",
    "\n",
    "# Get genre names for each movie\n",
    "tmdb_genre_results = get_movie_genres(movie_titles)\n",
    "\n",
    "# Convert to DataFrame for display\n",
    "tmdb_genre_results = pd.DataFrame(list(tmdb_genre_results.items()), columns=[\"Title\", \"Genres\"])\n",
    "print(tmdb_genre_results.head())\n",
    "print(tmdb_genre_results.dtypes)"
   ]
  },
  {
   "cell_type": "markdown",
   "metadata": {},
   "source": [
    "### Combine Data from Wikipedia and TMDb 🎞️"
   ]
  },
  {
   "cell_type": "code",
   "execution_count": null,
   "metadata": {},
   "outputs": [],
   "source": [
    "# Confirm column names for both DataFrames\n",
    "print(\"best_picture_wikipedia columns:\", best_picture_wikipedia.columns.tolist())\n",
    "print(\"tmdb_genre_results columns:\", tmdb_genre_results.columns.tolist())"
   ]
  },
  {
   "cell_type": "code",
   "execution_count": null,
   "metadata": {},
   "outputs": [],
   "source": [
    "# Merge best_picture_wikipedia and tmdb_genre_results DataFrames on \"Film\"/\"Title\"\n",
    "best_picture_merged = best_picture_wikipedia.merge(\n",
    "    tmdb_genre_results,\n",
    "    left_on=\"Film\",\n",
    "    right_on=\"Title\",\n",
    "    how=\"left\"\n",
    ")\n",
    "\n",
    "# Drop the now redundant \"Title\" column\n",
    "best_picture_merged.drop(\"Title\", axis=1, inplace=True)\n",
    "\n",
    "# Split the genres into separate columns\n",
    "best_picture_merged = best_picture_merged.explode(\"Genres\")\n",
    "best_picture_merged = pd.concat([best_picture_merged, best_picture_merged[\"Genres\"].str.get_dummies()], axis=1)\n",
    "\n",
    "# Print the updated DataFrame\n",
    "print(best_picture_merged.head())\n",
    "print(best_picture_merged.columns)"
   ]
  },
  {
   "cell_type": "markdown",
   "metadata": {},
   "source": [
    "### Fetch Metadata from OMDb API 💸\n",
    "Use **OMDb API** to fetch **box office revenue** and other metadata for Best Picture winners and combine with merged Wikipedia and TMDb data."
   ]
  },
  {
   "cell_type": "code",
   "execution_count": null,
   "id": "c7399547",
   "metadata": {},
   "outputs": [],
   "source": [
    "# Pull in OMDb API Key\n",
    "omdb_api_key = os.getenv(\"OMDB_API_KEY\")\n",
    "\n",
    "# Local cache file\n",
    "cache_file = \"omdb_cache.json\"\n",
    "\n",
    "# Load cache if it exists\n",
    "if os.path.exists(cache_file):\n",
    "    with open(cache_file, \"r\") as f:\n",
    "        omdb_cache = json.load(f)\n",
    "else:\n",
    "    omdb_cache = {}\n",
    "\n",
    "# Function to clean movie titles\n",
    "def clean_title(title: str) -> str:\n",
    "    return re.sub(r'\\s*\\(.*?\\)', '', title).strip()\n",
    "\n",
    "# Function to fetch metadata (if not cached)\n",
    "def get_full_movie_metadata(movie_title, api_key) -> dict:\n",
    "    cleaned_title = clean_title(movie_title)\n",
    "\n",
    "    # Use cleaned title as cache key\n",
    "    if cleaned_title in omdb_cache:\n",
    "        return omdb_cache[cleaned_title]\n",
    "\n",
    "    encoded_title = quote(cleaned_title)\n",
    "    omdb_url = f\"http://www.omdbapi.com/?t={encoded_title}&apikey={api_key}\"\n",
    "\n",
    "    try:\n",
    "        response = requests.get(omdb_url, timeout=10)\n",
    "        response.raise_for_status()\n",
    "        data = response.json()\n",
    "\n",
    "        if \"Error\" in data:\n",
    "            print(f\"OMDb API Error for '{movie_title}' → '{cleaned_title}': {data['Error']}\")\n",
    "            data = {}\n",
    "\n",
    "    except requests.exceptions.Timeout:\n",
    "        print(f\"Timeout error for '{movie_title}' → '{cleaned_title}'. Skipping...\")\n",
    "        data = {}\n",
    "    except requests.exceptions.RequestException as e:\n",
    "        print(f\"API request failed for '{movie_title}' → '{cleaned_title}': {e}\")\n",
    "        data = {}\n",
    "    except ValueError:\n",
    "        print(f\"Invalid JSON response for '{movie_title}' → '{cleaned_title}'.\")\n",
    "        data = {}\n",
    "\n",
    "    # Store in cache regardless of success/failure\n",
    "    omdb_cache[cleaned_title] = data\n",
    "    return data\n",
    "\n",
    "# Populate DataFrame using cached API responses\n",
    "def populate_metadata(movie_df, title_column, metadata_func, metadata_fields, api_key) -> pd.DataFrame:\n",
    "    for field in metadata_fields:\n",
    "        if field not in movie_df.columns:\n",
    "            movie_df[field] = \"\"\n",
    "\n",
    "    for index, row in movie_df.iterrows():\n",
    "        title = row[title_column]\n",
    "        metadata = metadata_func(title, api_key)\n",
    "        for field in metadata_fields:\n",
    "            value = metadata.get(field, \"N/A\")\n",
    "            if isinstance(value, (dict, list)):\n",
    "                value = str(value)\n",
    "            movie_df.at[index, field] = value\n",
    "\n",
    "    return movie_df\n",
    "\n",
    "# Fields to add to the DataFrame\n",
    "metadata_fields = [\n",
    "    \"Title\", \"Year\", \"Rated\", \"Released\", \"Runtime\", \"Genre\", \"Director\", \"Writer\", \"Actors\", \"Plot\",\n",
    "    \"Language\", \"Country\", \"Awards\", \"Poster\", \"Ratings\", \"Metascore\", \"imdbRating\", \"imdbVotes\",\n",
    "    \"imdbID\", \"Type\", \"DVD\", \"BoxOffice\", \"Production\", \"Website\", \"Response\"\n",
    "]\n",
    "\n",
    "# Run metadata enrichment\n",
    "best_picture_all = populate_metadata(\n",
    "    best_picture_merged.copy(),\n",
    "    title_column=\"Film\",\n",
    "    metadata_func=get_full_movie_metadata,\n",
    "    metadata_fields=metadata_fields,\n",
    "    api_key=omdb_api_key\n",
    ")\n",
    "\n",
    "# Save updated cache\n",
    "with open(cache_file, \"w\") as f:\n",
    "    json.dump(omdb_cache, f, indent=2)\n",
    "\n",
    "# Preview\n",
    "print(best_picture_all.head())\n"
   ]
  },
  {
   "cell_type": "markdown",
   "metadata": {},
   "source": [
    "## **Step 3:** Data Cleaning & Storage 🛠\n",
    "Merged data will have some cleaning applied and then the cleaned dataset will be stored in a local **SQLite database**."
   ]
  },
  {
   "cell_type": "code",
   "execution_count": null,
   "metadata": {},
   "outputs": [],
   "source": [
    "def clean_money(val) -> float:\n",
    "    \"\"\"Function to clean money values stored as strings\"\"\"\n",
    "    if pd.isna(val) or val == \"N/A\":\n",
    "        return np.nan\n",
    "    try:\n",
    "        return float(str(val).replace(\"$\", \"\").replace(\",\", \"\"))\n",
    "    except:\n",
    "        return np.nan\n",
    "\n",
    "def clean_votes(val) -> float:\n",
    "    \"\"\"Function to clean vote counts stored as strings\"\"\"\n",
    "    if pd.isna(val) or val == \"N/A\":\n",
    "        return np.nan\n",
    "    try:\n",
    "        return float(str(val).replace(\",\", \"\"))\n",
    "    except:\n",
    "        return np.nan\n",
    "\n",
    "def clean_runtime(runtime_str) -> int:\n",
    "    \"\"\"Function to clean runtime values stored as strings\"\"\"\n",
    "    if pd.isna(runtime_str) or runtime_str == \"N/A\":\n",
    "        return np.nan\n",
    "    try:\n",
    "        return int(str(runtime_str).split()[0])\n",
    "    except (ValueError, IndexError):\n",
    "        return np.nan\n",
    "\n",
    "# Make a copy of the merged raw dataset to avoid mutating the original\n",
    "best_picture_all_clean = best_picture_all.copy()\n",
    "\n",
    "# Filter rows based on columns: 'Response', 'Type'\n",
    "best_picture_all_clean = best_picture_all_clean[(best_picture_all_clean['Response'].str.contains(\"True\", regex=False, na=False, case=False))\n",
    "                                                 & (best_picture_all['Type'].str.contains(\"movie\", regex=False, na=False, case=False))]\n",
    "\n",
    "# Drop unnecessary or empty columns\n",
    "best_picture_all_clean.drop(columns=[\"Website\", \"DVD\", \"Production\"], inplace=True, errors='ignore')\n",
    "\n",
    "# Execute the cleaning functions\n",
    "best_picture_all_clean[\"BoxOffice\"] = best_picture_all_clean[\"BoxOffice\"].apply(clean_money)\n",
    "\n",
    "# Apply to imdbVotes only (since it's a string with commas)\n",
    "best_picture_all_clean[\"imdbVotes\"] = best_picture_all_clean[\"imdbVotes\"].apply(clean_votes)\n",
    "\n",
    "# Apply to Runtime column\n",
    "best_picture_all_clean[\"Runtime\"] = best_picture_all_clean[\"Runtime\"].apply(clean_runtime)\n",
    "\n",
    "# Conversion for numeric columns stored as text\n",
    "numeric_columns = [\"imdbRating\", \"Metascore\"]\n",
    "best_picture_all_clean[numeric_columns] = best_picture_all_clean[numeric_columns].apply(pd.to_numeric, errors=\"coerce\")\n",
    "\n",
    "# Rename the column\n",
    "best_picture_all_clean.rename(columns={\"Runtime\": \"Runtime (mins)\"}, inplace=True)\n",
    "\n",
    "# Convert \"N/A\" to NaN across object columns\n",
    "best_picture_all_clean.replace(\"N/A\", np.nan, inplace=True)\n",
    "\n",
    "# Convert Year to integer\n",
    "best_picture_all_clean[\"Year\"] = pd.to_numeric(best_picture_all_clean[\"Year\"], errors=\"coerce\")\n",
    "\n",
    "# Preview cleaned DataFrame\n",
    "best_picture_all_clean.info()\n",
    "best_picture_all_clean.head()\n"
   ]
  },
  {
   "cell_type": "markdown",
   "metadata": {},
   "source": [
    "### Save cleaned data to local SQLite database"
   ]
  },
  {
   "cell_type": "code",
   "execution_count": null,
   "metadata": {},
   "outputs": [],
   "source": [
    "# Deduplicated movie metadata for movies table\n",
    "movies = best_picture_all_clean.drop_duplicates(subset=[\"Film\", \"Year\"]).copy()\n",
    "\n",
    "# 2. Normalize genre columns\n",
    "genre_columns = [\n",
    "    \"Action\", \"Adventure\", \"Animation\", \"Comedy\", \"Crime\", \"Documentary\",\n",
    "    \"Drama\", \"Family\", \"Fantasy\", \"History\", \"Horror\", \"Music\", \"Mystery\",\n",
    "    \"Romance\", \"Science Fiction\", \"TV Movie\", \"Thriller\", \"War\", \"Western\"\n",
    "]\n",
    "\n",
    "genre = best_picture_all_clean[[\"Film\", \"Year\"] + genre_columns].melt(\n",
    "    id_vars=[\"Film\", \"Year\"],\n",
    "    value_vars=genre_columns,\n",
    "    var_name=\"Genre\",\n",
    "    value_name=\"IsPresent\"\n",
    ")\n",
    "\n",
    "# Keep only rows where genre is present\n",
    "movie_genres = genre[genre[\"IsPresent\"] == 1].drop(columns=\"IsPresent\")\n",
    "\n",
    "# 3. Store both in SQLite\n",
    "with sqlite3.connect(\"academy_awards.db\") as conn:\n",
    "    movies.to_sql(\"movies\", conn, if_exists=\"replace\", index=False)\n",
    "    movie_genres.to_sql(\"movie_genres\", conn, if_exists=\"replace\", index=False)\n",
    "\n",
    "print(\"Data successfully split and stored in SQLite!\")\n"
   ]
  },
  {
   "cell_type": "markdown",
   "metadata": {},
   "source": [
    "## START HERE\n"
   ]
  },
  {
   "cell_type": "markdown",
   "metadata": {},
   "source": [
    "## Exploratory Data Analysis 📊\n",
    "We will explore trends in **Best Picture winners** by genre and other relevant statistics."
   ]
  },
  {
   "cell_type": "code",
   "execution_count": null,
   "metadata": {},
   "outputs": [],
   "source": [
    "# Connect to the database\n",
    "with sqlite3.connect(\"academy_awards.db\") as conn:\n",
    "    cursor = conn.cursor()\n",
    "    \n",
    "    # Query to list all table names\n",
    "    cursor.execute(\"SELECT name FROM sqlite_master WHERE type='table';\")\n",
    "    \n",
    "    # Fetch and print table names\n",
    "    tables = cursor.fetchall()\n",
    "    print(\"Tables in database:\")\n",
    "    for table in tables:\n",
    "        print(f\"- {table[0]}\")\n"
   ]
  },
  {
   "cell_type": "code",
   "execution_count": null,
   "metadata": {},
   "outputs": [],
   "source": [
    "# Connect and read the data\n",
    "with sqlite3.connect(\"academy_awards.db\") as conn:\n",
    "    movies = pd.read_sql(\"SELECT * FROM movies\", conn)\n",
    "    movie_genres = pd.read_sql(\"SELECT * FROM movie_genres\", conn)\n",
    "\n",
    "print(f\"Movies loaded: {len(movies)}\")\n",
    "print(f\"Genre rows loaded: {len(movie_genres)}\")\n"
   ]
  },
  {
   "cell_type": "code",
   "execution_count": null,
   "metadata": {},
   "outputs": [],
   "source": [
    "# Box Office Revenue vs Number of Nominations\n",
    "box_office_vs_nomination = movies.dropna(subset=[\"BoxOffice\", \"Nominations\"])\n",
    "\n",
    "plt.figure(figsize=(10, 6))\n",
    "plt.scatter(box_office_vs_nomination[\"Nominations\"], box_office_vs_nomination[\"BoxOffice\"], alpha=0.6)\n",
    "plt.title(\"Box Office Revenue vs Number of Nominations\")\n",
    "plt.xlabel(\"Number of Nominations\")\n",
    "plt.ylabel(\"Box Office Revenue (USD)\")\n",
    "plt.grid(True)\n",
    "plt.tight_layout()\n",
    "plt.show()\n"
   ]
  },
  {
   "cell_type": "code",
   "execution_count": null,
   "metadata": {},
   "outputs": [],
   "source": [
    "# Box Office Revenue vs IMDb Rating (Per Movie)\n",
    "box_office_vs_imdb_rating = movies.dropna(subset=[\"imdbRating\", \"BoxOffice\"])\n",
    "\n",
    "plt.figure(figsize=(10, 6))\n",
    "plt.scatter(box_office_vs_imdb_rating[\"imdbRating\"], [\"BoxOffice\"], alpha=0.6)\n",
    "plt.title(\"Box Office Revenue vs IMDb Rating (Per Movie)\")\n",
    "plt.xlabel(\"IMDb Rating\")\n",
    "plt.ylabel(\"Box Office Revenue (USD)\")\n",
    "plt.grid(True)\n",
    "plt.tight_layout()\n",
    "plt.show()\n"
   ]
  },
  {
   "cell_type": "markdown",
   "metadata": {},
   "source": [
    "## 🛠 SQL Queries for Data Exploration\n",
    "Now that our data is stored in SQLite, we will perform **SQL queries** to explore trends:\n",
    "- **Most Awarded Films**\n",
    "- **Box Office Performance (Stretch Goal)**\n",
    "- **Decade-wise Genre Trends**"
   ]
  },
  {
   "cell_type": "code",
   "execution_count": null,
   "metadata": {},
   "outputs": [],
   "source": [
    "# Connect to SQLite database\n",
    "conn = sqlite3.connect(\"academy_awards.db\")\n",
    "\n",
    "# Query: Top 10 Most Awarded Films\n",
    "query_awards = \"\"\"\n",
    "SELECT Film, `Awards Won`\n",
    "FROM academy_award_winners\n",
    "ORDER BY `Awards Won` DESC\n",
    "LIMIT 10;\n",
    "\"\"\"\n",
    "\n",
    "# Execute query\n",
    "top_awarded_films = pd.read_sql(query_awards, conn)\n",
    "print(\"Top 10 Most Awarded Films:\")\n",
    "print(top_awarded_films)"
   ]
  },
  {
   "cell_type": "markdown",
   "metadata": {},
   "source": [
    "## 📊 Visualization: Top 10 Most Awarded Films\n",
    "We will create a **bar chart** to visualize the **most awarded films** in Academy Award history."
   ]
  },
  {
   "cell_type": "code",
   "execution_count": null,
   "metadata": {},
   "outputs": [],
   "source": [
    "# Plot Bar Chart for Most Awarded Films\n",
    "plt.figure(figsize=(12, 6))\n",
    "sns.barplot(y=top_awarded_films[\"Film\"], x=top_awarded_films[\"Awards Won\"], palette=\"Blues_r\")\n",
    "plt.xlabel(\"Awards Won\")\n",
    "plt.ylabel(\"Film\")\n",
    "plt.title(\"Top 10 Most Awarded Films in Academy Award History\")\n",
    "plt.gca().invert_yaxis()  # Invert y-axis for better readability\n",
    "plt.show()"
   ]
  },
  {
   "cell_type": "markdown",
   "metadata": {},
   "source": [
    "## 💰 SQL Query: Average Box Office Revenue by Genre (Stretch Goal)\n",
    "If box office revenue data is available, we will analyze which **genres** tend to perform better financially."
   ]
  },
  {
   "cell_type": "code",
   "execution_count": null,
   "metadata": {},
   "outputs": [],
   "source": [
    "# Query: Average Box Office Revenue by Genre\n",
    "query_revenue = \"\"\"\n",
    "SELECT Genre, AVG(CAST(REPLACE(`Box Office Revenue`, '$', '') AS FLOAT)) AS Avg_Revenue\n",
    "FROM academy_award_winners\n",
    "WHERE `Box Office Revenue` IS NOT NULL AND `Box Office Revenue` != 'N/A'\n",
    "GROUP BY Genre\n",
    "ORDER BY Avg_Revenue DESC;\n",
    "\"\"\"\n",
    "\n",
    "# Execute query\n",
    "box_office_by_genre = pd.read_sql(query_revenue, conn)\n",
    "print(\"Average Box Office Revenue by Genre:\")\n",
    "print(box_office_by_genre)"
   ]
  },
  {
   "cell_type": "markdown",
   "metadata": {},
   "source": [
    "## 📊 Visualization: Box Office Revenue vs. Awards Won\n",
    "We will create a **scatter plot** to visualize the relationship between **box office revenue and the number of awards won**."
   ]
  },
  {
   "cell_type": "code",
   "execution_count": null,
   "metadata": {},
   "outputs": [],
   "source": [
    "# Convert Box Office Revenue to numeric\n",
    "awards_df[\"Box Office Revenue\"] = (\n",
    "    awards_df[\"Box Office Revenue\"]\n",
    "    .str.replace(\"$\", \"\")\n",
    "    .str.replace(\",\", \"\")\n",
    "    .astype(float)\n",
    ")\n",
    "\n",
    "# Scatter Plot\n",
    "plt.figure(figsize=(10, 6))\n",
    "sns.scatterplot(x=awards_df[\"Box Office Revenue\"], y=awards_df[\"Awards Won\"], hue=awards_df[\"Genre\"], palette=\"coolwarm\", alpha=0.8)\n",
    "plt.xlabel(\"Box Office Revenue (in millions)\")\n",
    "plt.ylabel(\"Awards Won\")\n",
    "plt.title(\"Box Office Revenue vs. Awards Won\")\n",
    "plt.show()"
   ]
  },
  {
   "cell_type": "markdown",
   "metadata": {},
   "source": [
    "## 📅 Visualization: Timeline of Best Picture Wins\n",
    "We will visualize how **Academy Award wins have changed over the decades** using a **line chart**."
   ]
  },
  {
   "cell_type": "code",
   "execution_count": null,
   "metadata": {},
   "outputs": [],
   "source": [
    "# Aggregate awards by decade\n",
    "awards_df[\"Decade\"] = (awards_df[\"Year\"] // 10) * 10\n",
    "awards_by_decade = awards_df.groupby(\"Decade\")[\"Awards Won\"].sum().reset_index()\n",
    "\n",
    "# Line Plot for Award Wins Over Time\n",
    "plt.figure(figsize=(12, 6))\n",
    "sns.lineplot(x=awards_by_decade[\"Decade\"], y=awards_by_decade[\"Awards Won\"], marker=\"o\", linestyle=\"-\", color=\"b\")\n",
    "plt.xlabel(\"Decade\")\n",
    "plt.ylabel(\"Total Awards Won\")\n",
    "plt.title(\"Best Picture Wins Over the Decades\")\n",
    "plt.grid()\n",
    "plt.show()"
   ]
  },
  {
   "cell_type": "markdown",
   "metadata": {},
   "source": [
    "## Updated Visualizations"
   ]
  },
  {
   "cell_type": "code",
   "execution_count": null,
   "metadata": {},
   "outputs": [],
   "source": [
    "# Remove duplicate rows to avoid double-counting movies\n",
    "movies_deduped = best_picture_all_clean.drop_duplicates(subset=[\"Film\", \"Year\"])\n",
    "print(f\"Original rows: {len(best_picture_all_clean)}, Deduplicated: {len(movies_deduped)}\")\n"
   ]
  },
  {
   "cell_type": "code",
   "execution_count": null,
   "metadata": {},
   "outputs": [],
   "source": [
    "import matplotlib.pyplot as plt\n",
    "\n",
    "scatter_data = movies_deduped.dropna(subset=[\"imdbRating\", \"BoxOffice\"])\n",
    "\n",
    "plt.figure(figsize=(10, 6))\n",
    "plt.scatter(scatter_data[\"imdbRating\"], scatter_data[\"BoxOffice\"], alpha=0.6)\n",
    "plt.title(\"Box Office Revenue vs IMDb Rating (Per Movie)\")\n",
    "plt.xlabel(\"IMDb Rating\")\n",
    "plt.ylabel(\"Box Office Revenue (USD)\")\n",
    "plt.grid(True)\n",
    "plt.tight_layout()\n",
    "plt.show()\n"
   ]
  },
  {
   "cell_type": "code",
   "execution_count": null,
   "metadata": {},
   "outputs": [],
   "source": [
    "# List of genre columns\n",
    "genre_columns = [\n",
    "    \"Action\", \"Adventure\", \"Animation\", \"Comedy\", \"Crime\", \"Documentary\",\n",
    "    \"Drama\", \"Family\", \"Fantasy\", \"History\", \"Horror\", \"Music\", \"Mystery\",\n",
    "    \"Romance\", \"Science Fiction\", \"TV Movie\", \"Thriller\", \"War\", \"Western\"\n",
    "]\n",
    "\n",
    "# Group by year and sum genre counts\n",
    "genre_by_year = best_picture_all_clean.groupby(\"Year\")[genre_columns].sum().sort_index()\n",
    "\n",
    "# Plot\n",
    "plt.figure(figsize=(14, 7))\n",
    "genre_by_year.plot(kind=\"area\", stacked=True, alpha=0.85, figsize=(14, 7))\n",
    "plt.title(\"Genre Distribution of Best Picture Films Over Time\")\n",
    "plt.xlabel(\"Year\")\n",
    "plt.ylabel(\"Number of Films (Genre-Normalized)\")\n",
    "plt.legend(loc=\"upper left\", bbox_to_anchor=(1.0, 1.0))\n",
    "plt.tight_layout()\n",
    "plt.show()\n"
   ]
  },
  {
   "cell_type": "code",
   "execution_count": null,
   "metadata": {},
   "outputs": [],
   "source": [
    "# Group by winner status\n",
    "winner_group = movies_deduped.groupby(\"Status\")[[\"imdbRating\", \"BoxOffice\"]].mean().dropna()\n",
    "\n",
    "# Plot\n",
    "winner_group.plot(kind=\"bar\", figsize=(10, 6))\n",
    "plt.title(\"Average IMDb Rating and Box Office: Winner vs Nominee (Per Movie)\")\n",
    "plt.ylabel(\"Average Value\")\n",
    "plt.xticks(rotation=0)\n",
    "plt.grid(axis=\"y\")\n",
    "plt.tight_layout()\n",
    "plt.show()\n"
   ]
  },
  {
   "cell_type": "code",
   "execution_count": null,
   "metadata": {},
   "outputs": [],
   "source": [
    "# Remove duplicate rows to avoid double-counting movies\n",
    "movies_deduped = best_picture_all_clean.drop_duplicates(subset=[\"Film\", \"Year\"])\n",
    "print(f\"Original rows: {len(best_picture_all_clean)}, Deduplicated: {len(movies_deduped)}\")\n"
   ]
  },
  {
   "cell_type": "code",
   "execution_count": null,
   "metadata": {},
   "outputs": [],
   "source": [
    "import matplotlib.pyplot as plt\n",
    "\n",
    "scatter_data = movies_deduped.dropna(subset=[\"imdbRating\", \"BoxOffice\"])\n",
    "\n",
    "plt.figure(figsize=(10, 6))\n",
    "plt.scatter(scatter_data[\"imdbRating\"], scatter_data[\"BoxOffice\"], alpha=0.6)\n",
    "plt.title(\"Box Office Revenue vs IMDb Rating (Per Movie)\")\n",
    "plt.xlabel(\"IMDb Rating\")\n",
    "plt.ylabel(\"Box Office Revenue (USD)\")\n",
    "plt.grid(True)\n",
    "plt.tight_layout()\n",
    "plt.savefig(\"box_office_vs_rating.png\")\n",
    "plt.show()\n"
   ]
  },
  {
   "cell_type": "code",
   "execution_count": null,
   "metadata": {},
   "outputs": [],
   "source": [
    "genre_columns = [\n",
    "    \"Action\", \"Adventure\", \"Animation\", \"Comedy\", \"Crime\", \"Documentary\",\n",
    "    \"Drama\", \"Family\", \"Fantasy\", \"History\", \"Horror\", \"Music\", \"Mystery\",\n",
    "    \"Romance\", \"Science Fiction\", \"TV Movie\", \"Thriller\", \"War\", \"Western\"\n",
    "]\n",
    "\n",
    "genre_by_year = best_picture_all_clean.groupby(\"Year\")[genre_columns].sum().sort_index()\n",
    "\n",
    "plt.figure(figsize=(14, 7))\n",
    "genre_by_year.plot(kind=\"area\", stacked=True, alpha=0.85, figsize=(14, 7))\n",
    "plt.title(\"Genre Distribution of Best Picture Films Over Time\")\n",
    "plt.xlabel(\"Year\")\n",
    "plt.ylabel(\"Number of Films (Genre-Normalized)\")\n",
    "plt.legend(loc=\"upper left\", bbox_to_anchor=(1.0, 1.0))\n",
    "plt.tight_layout()\n",
    "plt.savefig(\"genre_distribution_over_time.png\")\n",
    "plt.show()\n"
   ]
  },
  {
   "cell_type": "code",
   "execution_count": null,
   "metadata": {},
   "outputs": [],
   "source": [
    "winner_group = movies_deduped.groupby(\"Status\")[[\"imdbRating\", \"BoxOffice\"]].mean().dropna()\n",
    "\n",
    "winner_group.plot(kind=\"bar\", figsize=(10, 6))\n",
    "plt.title(\"Average IMDb Rating and Box Office: Winner vs Nominee (Per Movie)\")\n",
    "plt.ylabel(\"Average Value\")\n",
    "plt.xticks(rotation=0)\n",
    "plt.grid(axis=\"y\")\n",
    "plt.tight_layout()\n",
    "plt.savefig(\"winner_vs_nominee.png\")\n",
    "plt.show()\n"
   ]
  },
  {
   "cell_type": "code",
   "execution_count": null,
   "metadata": {},
   "outputs": [],
   "source": [
    "import seaborn as sns\n",
    "\n",
    "# Unpivot genres for boxplot\n",
    "genre_ratings = best_picture_all_clean.melt(\n",
    "    id_vars=[\"imdbRating\"], value_vars=genre_columns,\n",
    "    var_name=\"Genre\", value_name=\"IsPresent\"\n",
    ")\n",
    "\n",
    "# Filter only rows where the genre is present\n",
    "genre_ratings = genre_ratings[genre_ratings[\"IsPresent\"] == 1]\n",
    "\n",
    "plt.figure(figsize=(16, 6))\n",
    "sns.boxplot(data=genre_ratings, x=\"Genre\", y=\"imdbRating\")\n",
    "plt.title(\"IMDb Ratings by Genre (Genre-Normalized)\")\n",
    "plt.xticks(rotation=45)\n",
    "plt.tight_layout()\n",
    "plt.savefig(\"genre_vs_rating_boxplot.png\")\n",
    "plt.show()\n"
   ]
  },
  {
   "cell_type": "code",
   "execution_count": null,
   "metadata": {},
   "outputs": [],
   "source": [
    "winners = movies_deduped[movies_deduped[\"Status\"] == \"Winner\"].dropna(subset=[\"Year\", \"imdbRating\"])\n",
    "\n",
    "plt.figure(figsize=(12, 6))\n",
    "plt.plot(winners[\"Year\"], winners[\"imdbRating\"], marker=\"o\", linestyle=\"-\")\n",
    "plt.title(\"IMDb Rating of Best Picture Winners Over Time\")\n",
    "plt.xlabel(\"Year\")\n",
    "plt.ylabel(\"IMDb Rating\")\n",
    "plt.grid(True)\n",
    "plt.tight_layout()\n",
    "plt.savefig(\"winner_timeline.png\")\n",
    "plt.show()\n"
   ]
  },
  {
   "cell_type": "code",
   "execution_count": null,
   "metadata": {},
   "outputs": [],
   "source": [
    "# Genre Distribution of Best Picture Films Over Time\n",
    "genre_pivot = movie_genres.assign(count=1).pivot_table(\n",
    "    index=\"Year\", columns=\"Genre\", values=\"count\", aggfunc=\"sum\", fill_value=0\n",
    ").sort_index()\n",
    "\n",
    "plt.figure(figsize=(14, 7))\n",
    "genre_pivot.plot(kind=\"area\", stacked=True, alpha=0.85, figsize=(14, 7))\n",
    "plt.title(\"Genre Distribution of Best Picture Films Over Time\")\n",
    "plt.xlabel(\"Year\")\n",
    "plt.ylabel(\"Number of Films (Genre-Normalized)\")\n",
    "plt.legend(loc=\"upper left\", bbox_to_anchor=(1.0, 1.0))\n",
    "plt.tight_layout()\n",
    "plt.show()\n"
   ]
  },
  {
   "cell_type": "code",
   "execution_count": null,
   "metadata": {},
   "outputs": [],
   "source": [
    "# Average IMDb Rating and Box Office: Winner vs Nominee (Per Movie)\n",
    "winner_group = movies.groupby(\"Status\")[[\"imdbRating\", \"BoxOffice\"]].mean().dropna()\n",
    "\n",
    "winner_group.plot(kind=\"bar\", figsize=(10, 6))\n",
    "plt.title(\"Average IMDb Rating and Box Office: Winner vs Nominee (Per Movie)\")\n",
    "plt.ylabel(\"Average Value\")\n",
    "plt.xticks(rotation=0)\n",
    "plt.grid(axis=\"y\")\n",
    "plt.tight_layout()\n",
    "plt.show()\n"
   ]
  },
  {
   "cell_type": "code",
   "execution_count": null,
   "metadata": {},
   "outputs": [],
   "source": [
    "# IMDb Ratings by Genre (Genre-Normalized)\n",
    "genre_ratings = movie_genres.merge(movies[[\"Film\", \"Year\", \"imdbRating\"]], on=[\"Film\", \"Year\"])\n",
    "genre_ratings = genre_ratings.dropna(subset=[\"imdbRating\"])\n",
    "\n",
    "plt.figure(figsize=(16, 6))\n",
    "sns.boxplot(data=genre_ratings, x=\"Genre\", y=\"imdbRating\")\n",
    "plt.title(\"IMDb Ratings by Genre (Genre-Normalized)\")\n",
    "plt.xticks(rotation=45)\n",
    "plt.tight_layout()\n",
    "plt.show()\n"
   ]
  },
  {
   "cell_type": "code",
   "execution_count": null,
   "metadata": {},
   "outputs": [],
   "source": [
    "# IMDb Rating of Best Picture Winners Over Time\n",
    "winners = movies[movies[\"Status\"] == \"Winner\"].dropna(subset=[\"Year\", \"imdbRating\"])\n",
    "\n",
    "plt.figure(figsize=(12, 6))\n",
    "plt.plot(winners[\"Year\"], winners[\"imdbRating\"], marker=\"o\", linestyle=\"-\")\n",
    "plt.title(\"IMDb Rating of Best Picture Winners Over Time\")\n",
    "plt.xlabel(\"Year\")\n",
    "plt.ylabel(\"IMDb Rating\")\n",
    "plt.grid(True)\n",
    "plt.tight_layout()\n",
    "plt.show()\n"
   ]
  },
  {
   "cell_type": "markdown",
   "metadata": {},
   "source": [
    "## Stretch Goal: Word Cloud (Wikipedia Movie Summaries) ☁️\n",
    "Placeholder for future development. I plan to create word cloud for the plot summaries. If Wikipedia summaries are accessible, also generate a **word cloud** from commonly used words in movie descriptions."
   ]
  },
  {
   "cell_type": "code",
   "execution_count": null,
   "metadata": {},
   "outputs": [],
   "source": [
    "# # Sample Wikipedia summary text (replace with actual summaries if available)\n",
    "# sample_text = \"This is a sample summary of a Best Picture-winning film. It tells the story of love, ambition, and success.\"\n",
    "\n",
    "# # Tokenize & remove stopwords\n",
    "# tokens = word_tokenize(sample_text.lower())\n",
    "# filtered_words = [word for word in tokens if word.isalnum() and word not in stopwords.words(\"english\")]\n",
    "\n",
    "# # Generate Word Cloud\n",
    "# wordcloud = WordCloud(width=800, height=400, background_color=\"white\").generate(\" \".join(filtered_words))\n",
    "\n",
    "# # Display Word Cloud\n",
    "# plt.figure(figsize=(10, 5))\n",
    "# plt.imshow(wordcloud, interpolation=\"bilinear\")\n",
    "# plt.axis(\"off\")\n",
    "# plt.title(\"Word Cloud of Wikipedia Movie Summaries\")\n",
    "# plt.show()"
   ]
  },
  {
   "cell_type": "code",
   "execution_count": null,
   "metadata": {},
   "outputs": [],
   "source": [
    "# oscars = pd.read_csv(\"data/oscars.csv\", sep='\\t', on_bad_lines='skip')\n",
    "# oscars = oscars.dropna()\n",
    "# oscars = oscars.drop_duplicates()\n",
    "# oscars = oscars.reset_index(drop=True)"
   ]
  },
  {
   "cell_type": "code",
   "execution_count": null,
   "metadata": {},
   "outputs": [],
   "source": [
    "# # Step 4: Store Data in SQLite Database\n",
    "# conn = sqlite3.connect(\"academy_awards.db\")\n",
    "# awards_df.to_sql(\"awards\", conn, if_exists=\"replace\", index=False)\n",
    "# speech_df.to_sql(\"speeches\", conn, if_exists=\"replace\", index=False)"
   ]
  },
  {
   "cell_type": "code",
   "execution_count": null,
   "metadata": {},
   "outputs": [],
   "source": [
    "# # Step 5: SQL Queries & Analysis\n",
    "# ## Query genres of Best Picture winners over decades\n",
    "# query = \"\"\"\n",
    "# SELECT genre, COUNT(*) AS num_wins, strftime('%Y', award_year) AS decade\n",
    "# FROM awards\n",
    "# WHERE category = 'Best Picture'\n",
    "# GROUP BY genre, decade\n",
    "# ORDER BY decade ASC;\n",
    "# \"\"\"\n",
    "# genre_trends_df = pd.read_sql(query, conn)\n",
    "\n",
    "# ## Query word frequency in acceptance speeches\n",
    "# query = \"\"\"\n",
    "# SELECT cleaned_speech FROM speeches;\n",
    "# \"\"\"\n",
    "# speech_texts = pd.read_sql(query, conn)"
   ]
  },
  {
   "cell_type": "markdown",
   "metadata": {},
   "source": [
    "### Overview of the Analysis (examples)\n",
    "- In this analysis, we explored the relationship between the race of law enforcement officers and the race of the drivers they stop. Our goal was to see if there’s any indication of bias in traffic stops based on the racial identity of the officers. To do this, we used a chi-squared test for independence, which helps us understand whether there’s a meaningful connection between these two groups.\n",
    "\n",
    "### Results of the Chi-Squared Test\n",
    "- **Chi-Squared Statistic:** We calculated a chi-squared statistic of 122.92. This high number shows that there’s a significant difference between the actual number of stops for different racial groups and what we would expect to see if there were no connection between the officer's race and the driver's race. In other words, this suggests that the patterns we observe in the data are unlikely to be just a coincidence.\n",
    "\n",
    "- **P-Value:** The p-value we found was about 8.20e-17, which is extremely low. This tells us that the result is statistically significant since it’s much lower than the usual thresholds (like 0.05 or 0.01). A low p-value means we have strong evidence against the idea that there’s no connection between the officer's race and the driver's race.\n",
    "\n",
    "### Interpretation of Findings\n",
    "- The results show a strong connection between the race of the officer and the race of the driver being stopped. This means that a driver's chances of being stopped may change depending on the officer's race, suggesting there might be some bias in how traffic stops are carried out.\n",
    "\n",
    "### Implications\n",
    "- These findings are important for understanding how race plays a role in law enforcement. They suggest that different racial groups might be treated differently by officers during traffic stops. It's crucial to address these biases to ensure fairness and equality in policing.\n",
    "\n",
    "### Conclusion\n",
    "- The strong evidence from the chi-squared statistic and p-value emphasizes the importance of further examining law enforcement practices. Police leaders and community advocacy groups should take these findings into account when reviewing policies and training programs designed to reduce racial bias in policing."
   ]
  }
 ],
 "metadata": {
  "kernelspec": {
   "display_name": "Python 3",
   "language": "python",
   "name": "python3"
  },
  "language_info": {
   "codemirror_mode": {
    "name": "ipython",
    "version": 3
   },
   "file_extension": ".py",
   "mimetype": "text/x-python",
   "name": "python",
   "nbconvert_exporter": "python",
   "pygments_lexer": "ipython3",
   "version": "3.13.0"
  }
 },
 "nbformat": 4,
 "nbformat_minor": 2
}
