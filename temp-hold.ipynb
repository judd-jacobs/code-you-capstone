{
 "cells": [
  {
   "cell_type": "markdown",
   "metadata": {},
   "source": [
    "## 📥 Data Collection: Kaggle Dataset\n",
    "Load additional Oscar award data from a structured Kaggle dataset."
   ]
  },
  {
   "cell_type": "code",
   "execution_count": null,
   "metadata": {},
   "outputs": [],
   "source": [
    "# Load Kaggle dataset\n",
    "kaggle_df = pd.read_csv(\"data/full_data.csv\", sep=\"\\t\")\n",
    "\n",
    "# Display dataset structure\n",
    "kaggle_df.head()"
   ]
  }
 ],
 "metadata": {
  "language_info": {
   "name": "python"
  }
 },
 "nbformat": 4,
 "nbformat_minor": 2
}
