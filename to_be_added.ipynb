{
 "cells": [
  {
   "cell_type": "markdown",
   "metadata": {},
   "source": [
    "## 🛠 SQL Queries for Data Exploration\n",
    "Now that our data is stored in SQLite, we will perform **SQL queries** to explore trends:\n",
    "- **Most Awarded Films**\n",
    "- **Box Office Performance (Stretch Goal)**\n",
    "- **Decade-wise Genre Trends**"
   ]
  },
  {
   "cell_type": "code",
   "execution_count": null,
   "metadata": {},
   "outputs": [],
   "source": [
    "# Connect to SQLite database\n",
    "conn = sqlite3.connect(\"academy_awards.db\")\n",
    "\n",
    "# Query: Top 10 Most Awarded Films\n",
    "query_awards = \"\"\"\n",
    "SELECT Film, `Awards Won`\n",
    "FROM academy_award_winners\n",
    "ORDER BY `Awards Won` DESC\n",
    "LIMIT 10;\n",
    "\"\"\"\n",
    "\n",
    "# Execute query\n",
    "top_awarded_films = pd.read_sql(query_awards, conn)\n",
    "print(\"Top 10 Most Awarded Films:\")\n",
    "print(top_awarded_films)"
   ]
  },
  {
   "cell_type": "markdown",
   "metadata": {},
   "source": [
    "## 📊 Visualization: Top 10 Most Awarded Films\n",
    "We will create a **bar chart** to visualize the **most awarded films** in Academy Award history."
   ]
  },
  {
   "cell_type": "code",
   "execution_count": null,
   "metadata": {},
   "outputs": [],
   "source": [
    "# Plot Bar Chart for Most Awarded Films\n",
    "plt.figure(figsize=(12, 6))\n",
    "sns.barplot(y=top_awarded_films[\"Film\"], x=top_awarded_films[\"Awards Won\"], palette=\"Blues_r\")\n",
    "plt.xlabel(\"Awards Won\")\n",
    "plt.ylabel(\"Film\")\n",
    "plt.title(\"Top 10 Most Awarded Films in Academy Award History\")\n",
    "plt.gca().invert_yaxis()  # Invert y-axis for better readability\n",
    "plt.show()"
   ]
  },
  {
   "cell_type": "markdown",
   "metadata": {},
   "source": [
    "## 💰 SQL Query: Average Box Office Revenue by Genre (Stretch Goal)\n",
    "If box office revenue data is available, we will analyze which **genres** tend to perform better financially."
   ]
  },
  {
   "cell_type": "code",
   "execution_count": null,
   "metadata": {},
   "outputs": [],
   "source": [
    "# Query: Average Box Office Revenue by Genre\n",
    "query_revenue = \"\"\"\n",
    "SELECT Genre, AVG(CAST(REPLACE(`Box Office Revenue`, '$', '') AS FLOAT)) AS Avg_Revenue\n",
    "FROM academy_award_winners\n",
    "WHERE `Box Office Revenue` IS NOT NULL AND `Box Office Revenue` != 'N/A'\n",
    "GROUP BY Genre\n",
    "ORDER BY Avg_Revenue DESC;\n",
    "\"\"\"\n",
    "\n",
    "# Execute query\n",
    "box_office_by_genre = pd.read_sql(query_revenue, conn)\n",
    "print(\"Average Box Office Revenue by Genre:\")\n",
    "print(box_office_by_genre)"
   ]
  },
  {
   "cell_type": "markdown",
   "metadata": {},
   "source": [
    "## 📊 Visualization: Box Office Revenue vs. Awards Won\n",
    "We will create a **scatter plot** to visualize the relationship between **box office revenue and the number of awards won**."
   ]
  },
  {
   "cell_type": "code",
   "execution_count": null,
   "metadata": {},
   "outputs": [],
   "source": [
    "# Convert Box Office Revenue to numeric\n",
    "awards_df[\"Box Office Revenue\"] = (\n",
    "    awards_df[\"Box Office Revenue\"]\n",
    "    .str.replace(\"$\", \"\")\n",
    "    .str.replace(\",\", \"\")\n",
    "    .astype(float)\n",
    ")\n",
    "\n",
    "# Scatter Plot\n",
    "plt.figure(figsize=(10, 6))\n",
    "sns.scatterplot(x=awards_df[\"Box Office Revenue\"], y=awards_df[\"Awards Won\"], hue=awards_df[\"Genre\"], palette=\"coolwarm\", alpha=0.8)\n",
    "plt.xlabel(\"Box Office Revenue (in millions)\")\n",
    "plt.ylabel(\"Awards Won\")\n",
    "plt.title(\"Box Office Revenue vs. Awards Won\")\n",
    "plt.show()"
   ]
  },
  {
   "cell_type": "markdown",
   "metadata": {},
   "source": [
    "## 📅 Visualization: Timeline of Best Picture Wins\n",
    "We will visualize how **Academy Award wins have changed over the decades** using a **line chart**."
   ]
  },
  {
   "cell_type": "code",
   "execution_count": null,
   "metadata": {},
   "outputs": [],
   "source": [
    "# Aggregate awards by decade\n",
    "awards_df[\"Decade\"] = (awards_df[\"Year\"] // 10) * 10\n",
    "awards_by_decade = awards_df.groupby(\"Decade\")[\"Awards Won\"].sum().reset_index()\n",
    "\n",
    "# Line Plot for Award Wins Over Time\n",
    "plt.figure(figsize=(12, 6))\n",
    "sns.lineplot(x=awards_by_decade[\"Decade\"], y=awards_by_decade[\"Awards Won\"], marker=\"o\", linestyle=\"-\", color=\"b\")\n",
    "plt.xlabel(\"Decade\")\n",
    "plt.ylabel(\"Total Awards Won\")\n",
    "plt.title(\"Best Picture Wins Over the Decades\")\n",
    "plt.grid()\n",
    "plt.show()"
   ]
  },
  {
   "cell_type": "markdown",
   "metadata": {},
   "source": [
    "## Updated Visualizations"
   ]
  },
  {
   "cell_type": "code",
   "execution_count": null,
   "metadata": {},
   "outputs": [],
   "source": [
    "# Remove duplicate rows to avoid double-counting movies\n",
    "movies_deduped = best_picture_all_clean.drop_duplicates(subset=[\"Film\", \"Year\"])\n",
    "print(f\"Original rows: {len(best_picture_all_clean)}, Deduplicated: {len(movies_deduped)}\")\n"
   ]
  },
  {
   "cell_type": "code",
   "execution_count": null,
   "metadata": {},
   "outputs": [],
   "source": [
    "import matplotlib.pyplot as plt\n",
    "\n",
    "scatter_data = movies_deduped.dropna(subset=[\"imdbRating\", \"BoxOffice\"])\n",
    "\n",
    "plt.figure(figsize=(10, 6))\n",
    "plt.scatter(scatter_data[\"imdbRating\"], scatter_data[\"BoxOffice\"], alpha=0.6)\n",
    "plt.title(\"Box Office Revenue vs IMDb Rating (Per Movie)\")\n",
    "plt.xlabel(\"IMDb Rating\")\n",
    "plt.ylabel(\"Box Office Revenue (USD)\")\n",
    "plt.grid(True)\n",
    "plt.tight_layout()\n",
    "plt.show()\n"
   ]
  },
  {
   "cell_type": "code",
   "execution_count": null,
   "metadata": {},
   "outputs": [],
   "source": [
    "# List of genre columns\n",
    "genre_columns = [\n",
    "    \"Action\", \"Adventure\", \"Animation\", \"Comedy\", \"Crime\", \"Documentary\",\n",
    "    \"Drama\", \"Family\", \"Fantasy\", \"History\", \"Horror\", \"Music\", \"Mystery\",\n",
    "    \"Romance\", \"Science Fiction\", \"TV Movie\", \"Thriller\", \"War\", \"Western\"\n",
    "]\n",
    "\n",
    "# Group by year and sum genre counts\n",
    "genre_by_year = best_picture_all_clean.groupby(\"Year\")[genre_columns].sum().sort_index()\n",
    "\n",
    "# Plot\n",
    "plt.figure(figsize=(14, 7))\n",
    "genre_by_year.plot(kind=\"area\", stacked=True, alpha=0.85, figsize=(14, 7))\n",
    "plt.title(\"Genre Distribution of Best Picture Films Over Time\")\n",
    "plt.xlabel(\"Year\")\n",
    "plt.ylabel(\"Number of Films (Genre-Normalized)\")\n",
    "plt.legend(loc=\"upper left\", bbox_to_anchor=(1.0, 1.0))\n",
    "plt.tight_layout()\n",
    "plt.show()\n"
   ]
  },
  {
   "cell_type": "code",
   "execution_count": null,
   "metadata": {},
   "outputs": [],
   "source": [
    "# Group by winner status\n",
    "winner_group = movies_deduped.groupby(\"Status\")[[\"imdbRating\", \"BoxOffice\"]].mean().dropna()\n",
    "\n",
    "# Plot\n",
    "winner_group.plot(kind=\"bar\", figsize=(10, 6))\n",
    "plt.title(\"Average IMDb Rating and Box Office: Winner vs Nominee (Per Movie)\")\n",
    "plt.ylabel(\"Average Value\")\n",
    "plt.xticks(rotation=0)\n",
    "plt.grid(axis=\"y\")\n",
    "plt.tight_layout()\n",
    "plt.show()\n"
   ]
  },
  {
   "cell_type": "code",
   "execution_count": null,
   "metadata": {},
   "outputs": [],
   "source": [
    "# Remove duplicate rows to avoid double-counting movies\n",
    "movies_deduped = best_picture_all_clean.drop_duplicates(subset=[\"Film\", \"Year\"])\n",
    "print(f\"Original rows: {len(best_picture_all_clean)}, Deduplicated: {len(movies_deduped)}\")\n"
   ]
  },
  {
   "cell_type": "code",
   "execution_count": null,
   "metadata": {},
   "outputs": [],
   "source": [
    "import matplotlib.pyplot as plt\n",
    "\n",
    "scatter_data = movies_deduped.dropna(subset=[\"imdbRating\", \"BoxOffice\"])\n",
    "\n",
    "plt.figure(figsize=(10, 6))\n",
    "plt.scatter(scatter_data[\"imdbRating\"], scatter_data[\"BoxOffice\"], alpha=0.6)\n",
    "plt.title(\"Box Office Revenue vs IMDb Rating (Per Movie)\")\n",
    "plt.xlabel(\"IMDb Rating\")\n",
    "plt.ylabel(\"Box Office Revenue (USD)\")\n",
    "plt.grid(True)\n",
    "plt.tight_layout()\n",
    "plt.savefig(\"box_office_vs_rating.png\")\n",
    "plt.show()\n"
   ]
  },
  {
   "cell_type": "code",
   "execution_count": null,
   "metadata": {},
   "outputs": [],
   "source": [
    "genre_columns = [\n",
    "    \"Action\", \"Adventure\", \"Animation\", \"Comedy\", \"Crime\", \"Documentary\",\n",
    "    \"Drama\", \"Family\", \"Fantasy\", \"History\", \"Horror\", \"Music\", \"Mystery\",\n",
    "    \"Romance\", \"Science Fiction\", \"TV Movie\", \"Thriller\", \"War\", \"Western\"\n",
    "]\n",
    "\n",
    "genre_by_year = best_picture_all_clean.groupby(\"Year\")[genre_columns].sum().sort_index()\n",
    "\n",
    "plt.figure(figsize=(14, 7))\n",
    "genre_by_year.plot(kind=\"area\", stacked=True, alpha=0.85, figsize=(14, 7))\n",
    "plt.title(\"Genre Distribution of Best Picture Films Over Time\")\n",
    "plt.xlabel(\"Year\")\n",
    "plt.ylabel(\"Number of Films (Genre-Normalized)\")\n",
    "plt.legend(loc=\"upper left\", bbox_to_anchor=(1.0, 1.0))\n",
    "plt.tight_layout()\n",
    "plt.savefig(\"genre_distribution_over_time.png\")\n",
    "plt.show()\n"
   ]
  },
  {
   "cell_type": "code",
   "execution_count": null,
   "metadata": {},
   "outputs": [],
   "source": [
    "winner_group = movies_deduped.groupby(\"Status\")[[\"imdbRating\", \"BoxOffice\"]].mean().dropna()\n",
    "\n",
    "winner_group.plot(kind=\"bar\", figsize=(10, 6))\n",
    "plt.title(\"Average IMDb Rating and Box Office: Winner vs Nominee (Per Movie)\")\n",
    "plt.ylabel(\"Average Value\")\n",
    "plt.xticks(rotation=0)\n",
    "plt.grid(axis=\"y\")\n",
    "plt.tight_layout()\n",
    "plt.savefig(\"winner_vs_nominee.png\")\n",
    "plt.show()\n"
   ]
  },
  {
   "cell_type": "code",
   "execution_count": null,
   "metadata": {},
   "outputs": [],
   "source": [
    "import seaborn as sns\n",
    "\n",
    "# Unpivot genres for boxplot\n",
    "genre_ratings = best_picture_all_clean.melt(\n",
    "    id_vars=[\"imdbRating\"], value_vars=genre_columns,\n",
    "    var_name=\"Genre\", value_name=\"IsPresent\"\n",
    ")\n",
    "\n",
    "# Filter only rows where the genre is present\n",
    "genre_ratings = genre_ratings[genre_ratings[\"IsPresent\"] == 1]\n",
    "\n",
    "plt.figure(figsize=(16, 6))\n",
    "sns.boxplot(data=genre_ratings, x=\"Genre\", y=\"imdbRating\")\n",
    "plt.title(\"IMDb Ratings by Genre (Genre-Normalized)\")\n",
    "plt.xticks(rotation=45)\n",
    "plt.tight_layout()\n",
    "plt.savefig(\"genre_vs_rating_boxplot.png\")\n",
    "plt.show()\n"
   ]
  },
  {
   "cell_type": "code",
   "execution_count": null,
   "metadata": {},
   "outputs": [],
   "source": [
    "winners = movies_deduped[movies_deduped[\"Status\"] == \"Winner\"].dropna(subset=[\"Year\", \"imdbRating\"])\n",
    "\n",
    "plt.figure(figsize=(12, 6))\n",
    "plt.plot(winners[\"Year\"], winners[\"imdbRating\"], marker=\"o\", linestyle=\"-\")\n",
    "plt.title(\"IMDb Rating of Best Picture Winners Over Time\")\n",
    "plt.xlabel(\"Year\")\n",
    "plt.ylabel(\"IMDb Rating\")\n",
    "plt.grid(True)\n",
    "plt.tight_layout()\n",
    "plt.savefig(\"winner_timeline.png\")\n",
    "plt.show()\n"
   ]
  }
 ],
 "metadata": {
  "language_info": {
   "name": "python"
  }
 },
 "nbformat": 4,
 "nbformat_minor": 2
}
