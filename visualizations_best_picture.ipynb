{
 "cells": [
  {
   "cell_type": "code",
   "execution_count": null,
   "id": "11339f9a",
   "metadata": {},
   "outputs": [],
   "source": [
    "import matplotlib.pyplot as plt\n",
    "\n",
    "# Drop missing values for both axes\n",
    "scatter_data = best_picture_all_clean.dropna(subset=[\"imdbRating\", \"BoxOffice\"])\n",
    "\n",
    "plt.figure(figsize=(10, 6))\n",
    "plt.scatter(scatter_data[\"imdbRating\"], scatter_data[\"BoxOffice\"], alpha=0.6)\n",
    "plt.title(\"Box Office Revenue vs IMDb Rating\")\n",
    "plt.xlabel(\"IMDb Rating\")\n",
    "plt.ylabel(\"Box Office Revenue (USD)\")\n",
    "plt.grid(True)\n",
    "plt.tight_layout()\n",
    "plt.show()\n"
   ]
  },
  {
   "cell_type": "code",
   "execution_count": null,
   "id": "98f06071",
   "metadata": {},
   "outputs": [],
   "source": [
    "# Select genre columns\n",
    "genre_columns = [\n",
    "    \"Action\", \"Adventure\", \"Animation\", \"Comedy\", \"Crime\", \"Documentary\",\n",
    "    \"Drama\", \"Family\", \"Fantasy\", \"History\", \"Horror\", \"Music\", \"Mystery\",\n",
    "    \"Romance\", \"Science Fiction\", \"TV Movie\", \"Thriller\", \"War\", \"Western\"\n",
    "]\n",
    "\n",
    "# Group by year and sum genre presence\n",
    "genre_by_year = best_picture_all_clean.groupby(\"Year\")[genre_columns].sum().sort_index()\n",
    "\n",
    "# Plot\n",
    "plt.figure(figsize=(14, 7))\n",
    "genre_by_year.plot(kind=\"area\", stacked=True, alpha=0.85, figsize=(14, 7))\n",
    "plt.title(\"Genre Distribution of Best Picture Films Over Time\")\n",
    "plt.xlabel(\"Year\")\n",
    "plt.ylabel(\"Number of Films\")\n",
    "plt.legend(loc=\"upper left\", bbox_to_anchor=(1.0, 1.0))\n",
    "plt.tight_layout()\n",
    "plt.show()\n"
   ]
  },
  {
   "cell_type": "code",
   "execution_count": null,
   "id": "0fedfe5b",
   "metadata": {},
   "outputs": [],
   "source": [
    "# Group by 'Status' and calculate average metrics\n",
    "grouped = best_picture_all_clean.groupby(\"Status\")[[\"imdbRating\", \"BoxOffice\"]].mean().dropna()\n",
    "\n",
    "# Plot\n",
    "grouped.plot(kind=\"bar\", figsize=(10, 6))\n",
    "plt.title(\"Average IMDb Rating and Box Office: Winner vs Nominee\")\n",
    "plt.ylabel(\"Average Value\")\n",
    "plt.xticks(rotation=0)\n",
    "plt.grid(axis=\"y\")\n",
    "plt.tight_layout()\n",
    "plt.show()\n"
   ]
  }
 ],
 "metadata": {
  "kernelspec": {
   "display_name": "Python 3",
   "name": "python3"
  }
 },
 "nbformat": 4,
 "nbformat_minor": 5
}